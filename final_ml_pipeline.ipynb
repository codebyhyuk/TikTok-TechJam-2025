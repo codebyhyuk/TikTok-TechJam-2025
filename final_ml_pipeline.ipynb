{
 "cells": [
  {
   "cell_type": "markdown",
   "id": "153426cf",
   "metadata": {},
   "source": [
    "# Track 1: Filtering the Noise: ML for Trustworthy Location Reviews\n",
    "### Team ureca: Lee Hyunseung, Park Yumin, Yoon Hyukjin"
   ]
  },
  {
   "cell_type": "code",
   "execution_count": null,
   "id": "0b6a5cad",
   "metadata": {},
   "outputs": [],
   "source": []
  }
 ],
 "metadata": {
  "language_info": {
   "name": "python"
  }
 },
 "nbformat": 4,
 "nbformat_minor": 5
}
