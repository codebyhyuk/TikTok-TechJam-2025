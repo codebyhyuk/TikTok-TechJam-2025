{
 "cells": [
  {
   "cell_type": "markdown",
   "id": "e1a2e631",
   "metadata": {},
   "source": [
    "### Classification Model Using XGBoost"
   ]
  },
  {
   "cell_type": "markdown",
   "id": "b921dd8e",
   "metadata": {},
   "source": [
    "The input of the Model will be the following:\n",
    "\n",
    "- From policy A to policy G"
   ]
  },
  {
   "cell_type": "code",
   "execution_count": null,
   "id": "dcfd545a",
   "metadata": {},
   "outputs": [],
   "source": []
  },
  {
   "cell_type": "code",
   "execution_count": null,
   "id": "aca55d23",
   "metadata": {},
   "outputs": [],
   "source": []
  },
  {
   "cell_type": "code",
   "execution_count": null,
   "id": "580bbf2b",
   "metadata": {},
   "outputs": [],
   "source": []
  },
  {
   "cell_type": "code",
   "execution_count": null,
   "id": "63465902",
   "metadata": {},
   "outputs": [],
   "source": []
  },
  {
   "cell_type": "code",
   "execution_count": null,
   "id": "ebfa53bc",
   "metadata": {},
   "outputs": [],
   "source": []
  },
  {
   "cell_type": "code",
   "execution_count": null,
   "id": "a7bae4a9",
   "metadata": {},
   "outputs": [],
   "source": []
  },
  {
   "cell_type": "code",
   "execution_count": null,
   "id": "f937ad1a",
   "metadata": {},
   "outputs": [],
   "source": []
  },
  {
   "cell_type": "code",
   "execution_count": null,
   "id": "96b1723d",
   "metadata": {},
   "outputs": [],
   "source": []
  }
 ],
 "metadata": {
  "language_info": {
   "name": "python"
  }
 },
 "nbformat": 4,
 "nbformat_minor": 5
}
