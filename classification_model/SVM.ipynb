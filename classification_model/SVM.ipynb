{
 "cells": [
  {
   "cell_type": "code",
   "execution_count": 12,
   "metadata": {},
   "outputs": [
    {
     "name": "stdout",
     "output_type": "stream",
     "text": [
      "Running multithreaded specificity score calculation...\n"
     ]
    },
    {
     "name": "stderr",
     "output_type": "stream",
     "text": [
      "[nltk_data] Downloading package averaged_perceptron_tagger to\n",
      "[nltk_data]     /Users/yumin/nltk_data...\n",
      "[nltk_data]   Package averaged_perceptron_tagger is already up-to-\n",
      "[nltk_data]       date!\n",
      "[nltk_data] Downloading package maxent_ne_chunker to\n",
      "[nltk_data]     /Users/yumin/nltk_data...\n",
      "[nltk_data]   Package maxent_ne_chunker is already up-to-date!\n",
      "[nltk_data] Downloading package words to /Users/yumin/nltk_data...\n",
      "[nltk_data]   Package words is already up-to-date!\n"
     ]
    },
    {
     "name": "stdout",
     "output_type": "stream",
     "text": [
      "Multithreaded execution time: 15.9506 seconds\n",
      "Specificity Scores (Threaded):\n",
      "0     0.581978\n",
      "1     0.565564\n",
      "2     0.575296\n",
      "3     0.576109\n",
      "4     0.573034\n",
      "        ...   \n",
      "95    0.559341\n",
      "96    0.538373\n",
      "97    0.546533\n",
      "98    0.574510\n",
      "99    0.581174\n",
      "Length: 100, dtype: float64\n"
     ]
    }
   ],
   "source": [
    "import pandas as pd\n",
    "import sys\n",
    "import os\n",
    "import time\n",
    "\n",
    "# Add the module path to sys.path\n",
    "module_path = os.path.abspath(os.path.join('..', 'feature_engineering_model', 'modules'))\n",
    "if module_path not in sys.path:\n",
    "    sys.path.append(module_path)\n",
    "\n",
    "from policy_B_module import calculate_specificity_score\n",
    "\n",
    "# Load the dataset\n",
    "file_path = '../data_gpt_labeler/final_data_labeled_1.csv'\n",
    "df = pd.read_csv(file_path)\n",
    "\n",
    "# Take the first 100 rows\n",
    "df_sample = df.head(100).copy()\n",
    "\n",
    "# --- Single-threaded execution ---  \n",
    "# print(\"Running single-threaded specificity score calculation...\")\n",
    "# start_time = time.time()\n",
    "# specificity_scores_single = calculate_specificity_score(df_sample, n_workers=1)\n",
    "# end_time = time.time()\n",
    "# print(f\"Single-threaded execution time: {end_time - start_time:.4f} seconds\")\n",
    "# print(\"Specificity Scores (Single-threaded):\")\n",
    "# print(specificity_scores_single)\n",
    "\n",
    "\n",
    "# --- Multi-threaded execution ---  \n",
    "print(\"Running multithreaded specificity score calculation...\")\n",
    "start_time = time.time()\n",
    "specificity_scores_threaded = calculate_specificity_score(df_sample, n_workers=20)\n",
    "end_time = time.time()\n",
    "print(f\"Multithreaded execution time: {end_time - start_time:.4f} seconds\")\n",
    "print(\"Specificity Scores (Threaded):\")\n",
    "print(specificity_scores_threaded)"
   ]
  },
  {
   "cell_type": "code",
   "execution_count": 13,
   "metadata": {},
   "outputs": [
    {
     "name": "stdout",
     "output_type": "stream",
     "text": [
      "Running single-threaded interpretability score calculation...\n",
      "Single-threaded execution time: 12.7690 seconds\n",
      "Interpretability Scores (Single-threaded):\n",
      "0     0.660104\n",
      "1     0.620909\n",
      "2     0.551840\n",
      "3     0.630236\n",
      "4     0.792418\n",
      "        ...   \n",
      "95    0.500000\n",
      "96    0.500000\n",
      "97    0.500000\n",
      "98    0.612421\n",
      "99    0.628704\n",
      "Length: 100, dtype: float64\n",
      "Running multithreaded interpretability score calculation...\n",
      "Multithreaded execution time: 1.0042 seconds\n",
      "Interpretability Scores (Threaded):\n",
      "0     0.660104\n",
      "1     0.620909\n",
      "2     0.551840\n",
      "3     0.630236\n",
      "4     0.792418\n",
      "        ...   \n",
      "95    0.500000\n",
      "96    0.500000\n",
      "97    0.500000\n",
      "98    0.612421\n",
      "99    0.628704\n",
      "Length: 100, dtype: float64\n"
     ]
    }
   ],
   "source": [
    "import pandas as pd\n",
    "import sys\n",
    "import os\n",
    "import time\n",
    "\n",
    "# Add the module path to sys.path\n",
    "module_path = os.path.abspath(os.path.join('..', 'feature_engineering_model', 'modules'))\n",
    "if module_path not in sys.path:\n",
    "    sys.path.append(module_path)\n",
    "\n",
    "from policy_D2_module import calculate_interpretability_scores_for_df\n",
    "\n",
    "# --- Single-threaded execution ---  \n",
    "print(\"Running single-threaded interpretability score calculation...\")\n",
    "start_time = time.time()\n",
    "interpretability_scores_single = calculate_interpretability_scores_for_df(df_sample, n_workers=1)\n",
    "end_time = time.time()\n",
    "print(f\"Single-threaded execution time: {end_time - start_time:.4f} seconds\")\n",
    "print(\"Interpretability Scores (Single-threaded):\")\n",
    "print(interpretability_scores_single)\n",
    "\n",
    "\n",
    "# --- Multi-threaded execution ---  \n",
    "print(\"Running multithreaded interpretability score calculation...\")\n",
    "start_time = time.time()\n",
    "interpretability_scores_threaded = calculate_interpretability_scores_for_df(df_sample, n_workers=4)\n",
    "end_time = time.time()\n",
    "print(f\"Multithreaded execution time: {end_time - start_time:.4f} seconds\")\n",
    "print(\"Interpretability Scores (Threaded):\")\n",
    "print(interpretability_scores_threaded)"
   ]
  },
  {
   "cell_type": "code",
   "execution_count": 14,
   "metadata": {},
   "outputs": [
    {
     "name": "stderr",
     "output_type": "stream",
     "text": [
      "huggingface/tokenizers: The current process just got forked, after parallelism has already been used. Disabling parallelism to avoid deadlocks...\n",
      "To disable this warning, you can either:\n",
      "\t- Avoid using `tokenizers` before the fork if possible\n",
      "\t- Explicitly set the environment variable TOKENIZERS_PARALLELISM=(true | false)\n"
     ]
    },
    {
     "name": "stdout",
     "output_type": "stream",
     "text": [
      "Requirement already satisfied: textblob in /Users/yumin/Documents/GitHub/TikTok-TechJam-2025/venv/lib/python3.12/site-packages (0.19.0)\n",
      "Requirement already satisfied: langdetect in /Users/yumin/Documents/GitHub/TikTok-TechJam-2025/venv/lib/python3.12/site-packages (1.0.9)\n",
      "Requirement already satisfied: sentence_transformers in /Users/yumin/Documents/GitHub/TikTok-TechJam-2025/venv/lib/python3.12/site-packages (5.1.0)\n",
      "Requirement already satisfied: nltk>=3.9 in /Users/yumin/Documents/GitHub/TikTok-TechJam-2025/venv/lib/python3.12/site-packages (from textblob) (3.9.1)\n",
      "Requirement already satisfied: six in /Users/yumin/Documents/GitHub/TikTok-TechJam-2025/venv/lib/python3.12/site-packages (from langdetect) (1.17.0)\n",
      "Requirement already satisfied: transformers<5.0.0,>=4.41.0 in /Users/yumin/Documents/GitHub/TikTok-TechJam-2025/venv/lib/python3.12/site-packages (from sentence_transformers) (4.55.4)\n",
      "Requirement already satisfied: tqdm in /Users/yumin/Documents/GitHub/TikTok-TechJam-2025/venv/lib/python3.12/site-packages (from sentence_transformers) (4.67.1)\n",
      "Requirement already satisfied: torch>=1.11.0 in /Users/yumin/Documents/GitHub/TikTok-TechJam-2025/venv/lib/python3.12/site-packages (from sentence_transformers) (2.8.0)\n",
      "Requirement already satisfied: scikit-learn in /Users/yumin/Documents/GitHub/TikTok-TechJam-2025/venv/lib/python3.12/site-packages (from sentence_transformers) (1.7.1)\n",
      "Requirement already satisfied: scipy in /Users/yumin/Documents/GitHub/TikTok-TechJam-2025/venv/lib/python3.12/site-packages (from sentence_transformers) (1.16.1)\n",
      "Requirement already satisfied: huggingface-hub>=0.20.0 in /Users/yumin/Documents/GitHub/TikTok-TechJam-2025/venv/lib/python3.12/site-packages (from sentence_transformers) (0.34.4)\n",
      "Requirement already satisfied: Pillow in /Users/yumin/Documents/GitHub/TikTok-TechJam-2025/venv/lib/python3.12/site-packages (from sentence_transformers) (11.3.0)\n",
      "Requirement already satisfied: typing_extensions>=4.5.0 in /Users/yumin/Documents/GitHub/TikTok-TechJam-2025/venv/lib/python3.12/site-packages (from sentence_transformers) (4.15.0)\n",
      "Requirement already satisfied: filelock in /Users/yumin/Documents/GitHub/TikTok-TechJam-2025/venv/lib/python3.12/site-packages (from huggingface-hub>=0.20.0->sentence_transformers) (3.19.1)\n",
      "Requirement already satisfied: fsspec>=2023.5.0 in /Users/yumin/Documents/GitHub/TikTok-TechJam-2025/venv/lib/python3.12/site-packages (from huggingface-hub>=0.20.0->sentence_transformers) (2025.7.0)\n",
      "Requirement already satisfied: packaging>=20.9 in /Users/yumin/Documents/GitHub/TikTok-TechJam-2025/venv/lib/python3.12/site-packages (from huggingface-hub>=0.20.0->sentence_transformers) (25.0)\n",
      "Requirement already satisfied: pyyaml>=5.1 in /Users/yumin/Documents/GitHub/TikTok-TechJam-2025/venv/lib/python3.12/site-packages (from huggingface-hub>=0.20.0->sentence_transformers) (6.0.2)\n",
      "Requirement already satisfied: requests in /Users/yumin/Documents/GitHub/TikTok-TechJam-2025/venv/lib/python3.12/site-packages (from huggingface-hub>=0.20.0->sentence_transformers) (2.32.5)\n",
      "Requirement already satisfied: hf-xet<2.0.0,>=1.1.3 in /Users/yumin/Documents/GitHub/TikTok-TechJam-2025/venv/lib/python3.12/site-packages (from huggingface-hub>=0.20.0->sentence_transformers) (1.1.9)\n",
      "Requirement already satisfied: click in /Users/yumin/Documents/GitHub/TikTok-TechJam-2025/venv/lib/python3.12/site-packages (from nltk>=3.9->textblob) (8.2.1)\n",
      "Requirement already satisfied: joblib in /Users/yumin/Documents/GitHub/TikTok-TechJam-2025/venv/lib/python3.12/site-packages (from nltk>=3.9->textblob) (1.5.2)\n",
      "Requirement already satisfied: regex>=2021.8.3 in /Users/yumin/Documents/GitHub/TikTok-TechJam-2025/venv/lib/python3.12/site-packages (from nltk>=3.9->textblob) (2025.7.34)\n",
      "Requirement already satisfied: setuptools in /Users/yumin/Documents/GitHub/TikTok-TechJam-2025/venv/lib/python3.12/site-packages (from torch>=1.11.0->sentence_transformers) (80.9.0)\n",
      "Requirement already satisfied: sympy>=1.13.3 in /Users/yumin/Documents/GitHub/TikTok-TechJam-2025/venv/lib/python3.12/site-packages (from torch>=1.11.0->sentence_transformers) (1.14.0)\n",
      "Requirement already satisfied: networkx in /Users/yumin/Documents/GitHub/TikTok-TechJam-2025/venv/lib/python3.12/site-packages (from torch>=1.11.0->sentence_transformers) (3.5)\n",
      "Requirement already satisfied: jinja2 in /Users/yumin/Documents/GitHub/TikTok-TechJam-2025/venv/lib/python3.12/site-packages (from torch>=1.11.0->sentence_transformers) (3.1.6)\n",
      "Requirement already satisfied: numpy>=1.17 in /Users/yumin/Documents/GitHub/TikTok-TechJam-2025/venv/lib/python3.12/site-packages (from transformers<5.0.0,>=4.41.0->sentence_transformers) (2.3.2)\n",
      "Requirement already satisfied: tokenizers<0.22,>=0.21 in /Users/yumin/Documents/GitHub/TikTok-TechJam-2025/venv/lib/python3.12/site-packages (from transformers<5.0.0,>=4.41.0->sentence_transformers) (0.21.4)\n",
      "Requirement already satisfied: safetensors>=0.4.3 in /Users/yumin/Documents/GitHub/TikTok-TechJam-2025/venv/lib/python3.12/site-packages (from transformers<5.0.0,>=4.41.0->sentence_transformers) (0.6.2)\n",
      "Requirement already satisfied: threadpoolctl>=3.1.0 in /Users/yumin/Documents/GitHub/TikTok-TechJam-2025/venv/lib/python3.12/site-packages (from scikit-learn->sentence_transformers) (3.6.0)\n",
      "Requirement already satisfied: mpmath<1.4,>=1.1.0 in /Users/yumin/Documents/GitHub/TikTok-TechJam-2025/venv/lib/python3.12/site-packages (from sympy>=1.13.3->torch>=1.11.0->sentence_transformers) (1.3.0)\n",
      "Requirement already satisfied: MarkupSafe>=2.0 in /Users/yumin/Documents/GitHub/TikTok-TechJam-2025/venv/lib/python3.12/site-packages (from jinja2->torch>=1.11.0->sentence_transformers) (3.0.2)\n",
      "Requirement already satisfied: charset_normalizer<4,>=2 in /Users/yumin/Documents/GitHub/TikTok-TechJam-2025/venv/lib/python3.12/site-packages (from requests->huggingface-hub>=0.20.0->sentence_transformers) (3.4.3)\n",
      "Requirement already satisfied: idna<4,>=2.5 in /Users/yumin/Documents/GitHub/TikTok-TechJam-2025/venv/lib/python3.12/site-packages (from requests->huggingface-hub>=0.20.0->sentence_transformers) (3.10)\n",
      "Requirement already satisfied: urllib3<3,>=1.21.1 in /Users/yumin/Documents/GitHub/TikTok-TechJam-2025/venv/lib/python3.12/site-packages (from requests->huggingface-hub>=0.20.0->sentence_transformers) (2.5.0)\n",
      "Requirement already satisfied: certifi>=2017.4.17 in /Users/yumin/Documents/GitHub/TikTok-TechJam-2025/venv/lib/python3.12/site-packages (from requests->huggingface-hub>=0.20.0->sentence_transformers) (2025.8.3)\n",
      "\n",
      "\u001b[1m[\u001b[0m\u001b[34;49mnotice\u001b[0m\u001b[1;39;49m]\u001b[0m\u001b[39;49m A new release of pip is available: \u001b[0m\u001b[31;49m24.0\u001b[0m\u001b[39;49m -> \u001b[0m\u001b[32;49m25.2\u001b[0m\n",
      "\u001b[1m[\u001b[0m\u001b[34;49mnotice\u001b[0m\u001b[1;39;49m]\u001b[0m\u001b[39;49m To update, run: \u001b[0m\u001b[32;49mpip install --upgrade pip\u001b[0m\n"
     ]
    }
   ],
   "source": [
    "! pip install textblob langdetect sentence_transformers"
   ]
  },
  {
   "cell_type": "code",
   "execution_count": null,
   "metadata": {},
   "outputs": [],
   "source": []
  }
 ],
 "metadata": {
  "kernelspec": {
   "display_name": "venv",
   "language": "python",
   "name": "python3"
  },
  "language_info": {
   "codemirror_mode": {
    "name": "ipython",
    "version": 3
   },
   "file_extension": ".py",
   "mimetype": "text/x-python",
   "name": "python",
   "nbconvert_exporter": "python",
   "pygments_lexer": "ipython3",
   "version": "3.12.2"
  }
 },
 "nbformat": 4,
 "nbformat_minor": 4
}
