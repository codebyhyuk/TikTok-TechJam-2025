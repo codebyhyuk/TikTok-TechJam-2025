{
 "cells": [
  {
   "cell_type": "markdown",
   "id": "6db0148f",
   "metadata": {},
   "source": []
  },
  {
   "cell_type": "markdown",
   "id": "51bdec05",
   "metadata": {},
   "source": [
    "## Policy F: Classify the intent of the reviews"
   ]
  },
  {
   "cell_type": "markdown",
   "id": "cf1148b3",
   "metadata": {},
   "source": [
    "Idea - we want a quantitative value that means “how likely is this a genuine review?”\n",
    "\n",
    "**So How?**\n",
    "\n",
    "__Zero-shot classifier__\n",
    "- Model: facebook/bart-large-mnli (or MoritzLaurer/deberta-v3-large-zeroshot-v2)\n",
    "- Then provide the labels as plain English strings:\n",
    "- “genuine”, “spam”, “advertising”, “competitor attack”, “irrelevant”\n",
    "__Model returns a probability for each label__\n",
    "- The score: S(intent) = P(\"genuine\") which is already in [0,1] scale.\n",
    "\n",
    "__“Irrelevancy” - How do we judge that?__\n",
    "Idea - does the text actually talk about this place?\n",
    "Ex: lets say the review is about “Baskin-Robbins ice cream” but the location is “Dominos Pizza”\n",
    "Cosine sim\n",
    "- sim_name = cos01(emb_text, emb_name)\n",
    "- sim_desc = cos01(emb_text, emb_desc)\n",
    "- sim_cat = cos01(emb_text, emb_cat)\n",
    "- S(relevancy) = max(sim_name, sim_desc, sim_cat)"
   ]
  },
  {
   "cell_type": "code",
   "execution_count": 9,
   "id": "bc648b8c",
   "metadata": {},
   "outputs": [],
   "source": [
    "from typing import Dict, List, Optional, Tuple\n",
    "import numpy as np\n",
    "import pandas as pd\n",
    "from transformers import pipeline\n",
    "from sentence_transformers import SentenceTransformer"
   ]
  },
  {
   "cell_type": "code",
   "execution_count": 5,
   "id": "0b65bd53",
   "metadata": {},
   "outputs": [],
   "source": [
    "# configuration\n",
    "INTENT_LABELS = ['genuine', 'spam', 'advertising', 'competitor attack', 'irrelevant']\n",
    "\n",
    "# zero-shot classifier (ZSC) model\n",
    "ZSC_MODEL_NAME = \"facebook/bart-large-mnli\"\n",
    "\n",
    "# lightweight general-purpose embedder\n",
    "EMBED_MODEL_NAME = \"sentence-transformers/all-MiniLM-L6-v2\"\n",
    "\n",
    "# Model holders for initial state\n",
    "_ZSC_PIPELINE = None\n",
    "_EMBED_MODEL = None\n"
   ]
  },
  {
   "cell_type": "code",
   "execution_count": 12,
   "id": "49a75614",
   "metadata": {},
   "outputs": [],
   "source": [
    "# utility functions\n",
    "\n",
    "def _cos_sim(a:np.ndarray, b: np.ndarray) -> float:\n",
    "    # range of [-1, 1]\n",
    "    denom = (np.linalg.norm(a) * np.linalg.norm(b))\n",
    "    if denom == 0:\n",
    "        return 0.0\n",
    "    return float(np.dot(a,b)/denom)\n",
    "\n",
    "\n",
    "def _cos01(x:float) -> float:\n",
    "    # mapping cos sim from range [-1, 1] to [0, 1]\n",
    "    return (x+1.0)/2.0\n",
    "\n",
    "def get_zero_shot_pipeline(model_name: str = ZSC_MODEL_NAME):\n",
    "    global _ZSC_PIPELINE\n",
    "    # check if is the initial state == None\n",
    "    if _ZSC_PIPELINE is None:\n",
    "        _ZSC_PIPELINE = pipeline(\n",
    "            task = \"zero-shot-classification\",\n",
    "            model = model_name\n",
    "        )\n",
    "    return _ZSC_PIPELINE\n",
    "\n",
    "def get_embedder(model_name: str = EMBED_MODEL_NAME) -> SentenceTransformer:\n",
    "    global _EMBED_MODEL\n",
    "    if _EMBED_MODEL is None:\n",
    "        _EMBED_MODEL = SentenceTransformer(model_name)\n",
    "    return _EMBED_MODEL"
   ]
  },
  {
   "cell_type": "code",
   "execution_count": 22,
   "id": "9447bb1f",
   "metadata": {},
   "outputs": [],
   "source": [
    "# intent classification\n",
    "def score_intent(\n",
    "    text:str,\n",
    "    labels: Optional[List[str]] = None,\n",
    "    model_name: str = ZSC_MODEL_NAME,\n",
    ") -> Dict[str, float]:\n",
    "    # returns a dict: {label: probability}, including S(intent) = P(\"genuine\").\n",
    "    \n",
    "    if not text or not text.strip():\n",
    "        # edge case\n",
    "        # if empty text, return 0 probability for all labels, including intent\n",
    "        base = {lbl: 0.0 for lbl in labels or INTENT_LABELS}\n",
    "        base[\"S_intent\"] = 0.0\n",
    "        return base\n",
    "    \n",
    "    zsc = get_zero_shot_pipeline(model_name)\n",
    "    use_labels = labels or INTENT_LABELS\n",
    "    \n",
    "    res = zsc(\n",
    "        sequences=text,\n",
    "        candidate_labels = use_labels,\n",
    "        multi_label = False # pick one distribution that sums ~1\n",
    "    )\n",
    "    \n",
    "    # mapping scores to their labels\n",
    "    scores = dict(zip(res[\"labels\"], res['scores']))\n",
    "    \n",
    "    # ensuring all labels exist, incase the model drops something\n",
    "    for lbl in use_labels:\n",
    "        scores.setdefault(lbl, 0.0)\n",
    "    \n",
    "    # S(intent) = P(\"genuine\")\n",
    "    scores[\"S_intent\"] = float(scores.get(\"genuine\", 0.0))\n",
    "    return scores"
   ]
  },
  {
   "cell_type": "code",
   "execution_count": 23,
   "id": "72cb5574",
   "metadata": {},
   "outputs": [
    {
     "name": "stdout",
     "output_type": "stream",
     "text": [
      "Intent scores: {'genuine': 0.8091768026351929, 'competitor attack': 0.0965869128704071, 'advertising': 0.06775948405265808, 'spam': 0.0159190371632576, 'irrelevant': 0.010557707399129868, 'S_intent': 0.8091768026351929}\n",
      "S(intent) = 0.8091768026351929\n"
     ]
    }
   ],
   "source": [
    "review = \"The pizza was great and delivery was fast!\"\n",
    "place = {\n",
    "    \"name\": \"Domino's Pizza\",\n",
    "    \"desc\": \"Pizza delivery and carryout chain offering a wide range of pizzas and sides.\",\n",
    "    \"cat\": \"Pizza restaurant\"\n",
    "}\n",
    "\n",
    "# Intent\n",
    "intent_scores = score_intent(review)\n",
    "print(\"Intent scores:\", intent_scores)\n",
    "print(\"S(intent) =\", intent_scores[\"S_intent\"])\n"
   ]
  },
  {
   "cell_type": "code",
   "execution_count": 24,
   "id": "48423188",
   "metadata": {},
   "outputs": [
    {
     "name": "stdout",
     "output_type": "stream",
     "text": [
      "Intent scores: {'advertising': 0.44572576880455017, 'genuine': 0.3553007245063782, 'competitor attack': 0.13766080141067505, 'spam': 0.03831101208925247, 'irrelevant': 0.02300165593624115, 'S_intent': 0.3553007245063782}\n",
      "S(intent) = 0.3553007245063782\n"
     ]
    }
   ],
   "source": [
    "review = \"Text ‘JOIN123’ to this number and get exclusive crypto deals.\"\n",
    "\n",
    "# Intent\n",
    "intent_scores = score_intent(review)\n",
    "print(\"Intent scores:\", intent_scores)\n",
    "print(\"S(intent) =\", intent_scores[\"S_intent\"])\n"
   ]
  },
  {
   "cell_type": "code",
   "execution_count": 25,
   "id": "57074542",
   "metadata": {},
   "outputs": [
    {
     "name": "stdout",
     "output_type": "stream",
     "text": [
      "Intent scores: {'genuine': 0.6330023407936096, 'competitor attack': 0.21709799766540527, 'advertising': 0.08982175588607788, 'spam': 0.03289635479450226, 'irrelevant': 0.027181584388017654, 'S_intent': 0.6330023407936096}\n",
      "S(intent) =  0.6330023407936096\n"
     ]
    }
   ],
   "source": [
    "review = \"Make money online fast!! Visit www.cash-now.biz for instant profit!\"\n",
    "\n",
    "intent_scores = score_intent(review)\n",
    "print(\"Intent scores:\", intent_scores)\n",
    "print(\"S(intent) = \", intent_scores[\"S_intent\"])"
   ]
  },
  {
   "cell_type": "markdown",
   "id": "ed03f95a",
   "metadata": {},
   "source": [
    "#### Findings:\n",
    "\n",
    "Will need to relate business name, category and description to the model as well, it lacks context and may determine review as \"genuine\" if not."
   ]
  },
  {
   "cell_type": "markdown",
   "id": "7a65b5bc",
   "metadata": {},
   "source": []
  }
 ],
 "metadata": {
  "kernelspec": {
   "display_name": "venv",
   "language": "python",
   "name": "python3"
  },
  "language_info": {
   "codemirror_mode": {
    "name": "ipython",
    "version": 3
   },
   "file_extension": ".py",
   "mimetype": "text/x-python",
   "name": "python",
   "nbconvert_exporter": "python",
   "pygments_lexer": "ipython3",
   "version": "3.12.2"
  }
 },
 "nbformat": 4,
 "nbformat_minor": 5
}
