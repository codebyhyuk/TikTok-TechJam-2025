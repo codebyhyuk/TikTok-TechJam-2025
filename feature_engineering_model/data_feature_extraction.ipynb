{
 "cells": [
  {
   "cell_type": "code",
   "execution_count": 28,
   "metadata": {},
   "outputs": [
    {
     "data": {
      "text/html": [
       "<div>\n",
       "<style scoped>\n",
       "    .dataframe tbody tr th:only-of-type {\n",
       "        vertical-align: middle;\n",
       "    }\n",
       "\n",
       "    .dataframe tbody tr th {\n",
       "        vertical-align: top;\n",
       "    }\n",
       "\n",
       "    .dataframe thead th {\n",
       "        text-align: right;\n",
       "    }\n",
       "</style>\n",
       "<table border=\"1\" class=\"dataframe\">\n",
       "  <thead>\n",
       "    <tr style=\"text-align: right;\">\n",
       "      <th></th>\n",
       "      <th>Unnamed: 0</th>\n",
       "      <th>rating</th>\n",
       "      <th>text</th>\n",
       "      <th>business_name</th>\n",
       "      <th>business_category</th>\n",
       "      <th>business_description</th>\n",
       "      <th>_id</th>\n",
       "      <th>policy_label</th>\n",
       "    </tr>\n",
       "  </thead>\n",
       "  <tbody>\n",
       "    <tr>\n",
       "      <th>0</th>\n",
       "      <td>50000</td>\n",
       "      <td>4</td>\n",
       "      <td>Pizza from the hut the way I remember as a kid.</td>\n",
       "      <td>Pizza Hut</td>\n",
       "      <td>['Pizza delivery', 'Chicken wings restaurant',...</td>\n",
       "      <td>Family-friendly chain known for its made-to-or...</td>\n",
       "      <td>1.0787578136914669e+20_1571680311648</td>\n",
       "      <td>1.0</td>\n",
       "    </tr>\n",
       "    <tr>\n",
       "      <th>1</th>\n",
       "      <td>50001</td>\n",
       "      <td>5</td>\n",
       "      <td>Order from them the other day it was great and...</td>\n",
       "      <td>Pizza Hut</td>\n",
       "      <td>['Pizza delivery', 'Chicken wings restaurant',...</td>\n",
       "      <td>Family-friendly chain known for its made-to-or...</td>\n",
       "      <td>1.1688376278943746e+20_1545013271057</td>\n",
       "      <td>1.0</td>\n",
       "    </tr>\n",
       "    <tr>\n",
       "      <th>2</th>\n",
       "      <td>50002</td>\n",
       "      <td>3</td>\n",
       "      <td>Just ok. Odd location. Hard to park.</td>\n",
       "      <td>Pizza Hut</td>\n",
       "      <td>['Pizza delivery', 'Chicken wings restaurant',...</td>\n",
       "      <td>Family-friendly chain known for its made-to-or...</td>\n",
       "      <td>1.0718381648538398e+20_1562385424249</td>\n",
       "      <td>0.0</td>\n",
       "    </tr>\n",
       "    <tr>\n",
       "      <th>3</th>\n",
       "      <td>50003</td>\n",
       "      <td>3</td>\n",
       "      <td>Delivery only. Longer wait time than Dominoes,...</td>\n",
       "      <td>Pizza Hut</td>\n",
       "      <td>['Pizza delivery', 'Chicken wings restaurant',...</td>\n",
       "      <td>Family-friendly chain known for its made-to-or...</td>\n",
       "      <td>1.0812212194720055e+20_1508006409181</td>\n",
       "      <td>1.0</td>\n",
       "    </tr>\n",
       "    <tr>\n",
       "      <th>4</th>\n",
       "      <td>50004</td>\n",
       "      <td>5</td>\n",
       "      <td>Awesome, thanks Justin.</td>\n",
       "      <td>Pizza Hut</td>\n",
       "      <td>['Pizza delivery', 'Chicken wings restaurant',...</td>\n",
       "      <td>Family-friendly chain known for its made-to-or...</td>\n",
       "      <td>1.057940126919024e+20_1339694564439</td>\n",
       "      <td>0.0</td>\n",
       "    </tr>\n",
       "  </tbody>\n",
       "</table>\n",
       "</div>"
      ],
      "text/plain": [
       "   Unnamed: 0  rating                                               text  \\\n",
       "0       50000       4    Pizza from the hut the way I remember as a kid.   \n",
       "1       50001       5  Order from them the other day it was great and...   \n",
       "2       50002       3               Just ok. Odd location. Hard to park.   \n",
       "3       50003       3  Delivery only. Longer wait time than Dominoes,...   \n",
       "4       50004       5                            Awesome, thanks Justin.   \n",
       "\n",
       "  business_name                                  business_category  \\\n",
       "0     Pizza Hut  ['Pizza delivery', 'Chicken wings restaurant',...   \n",
       "1     Pizza Hut  ['Pizza delivery', 'Chicken wings restaurant',...   \n",
       "2     Pizza Hut  ['Pizza delivery', 'Chicken wings restaurant',...   \n",
       "3     Pizza Hut  ['Pizza delivery', 'Chicken wings restaurant',...   \n",
       "4     Pizza Hut  ['Pizza delivery', 'Chicken wings restaurant',...   \n",
       "\n",
       "                                business_description  \\\n",
       "0  Family-friendly chain known for its made-to-or...   \n",
       "1  Family-friendly chain known for its made-to-or...   \n",
       "2  Family-friendly chain known for its made-to-or...   \n",
       "3  Family-friendly chain known for its made-to-or...   \n",
       "4  Family-friendly chain known for its made-to-or...   \n",
       "\n",
       "                                    _id  policy_label  \n",
       "0  1.0787578136914669e+20_1571680311648           1.0  \n",
       "1  1.1688376278943746e+20_1545013271057           1.0  \n",
       "2  1.0718381648538398e+20_1562385424249           0.0  \n",
       "3  1.0812212194720055e+20_1508006409181           1.0  \n",
       "4   1.057940126919024e+20_1339694564439           0.0  "
      ]
     },
     "execution_count": 28,
     "metadata": {},
     "output_type": "execute_result"
    }
   ],
   "source": [
    "import pandas as pd\n",
    "df = pd.read_csv(\"../data_gpt_labeler/labeled_datasets/final_data_labeled_6.csv\")\n",
    "df.head()"
   ]
  },
  {
   "cell_type": "code",
   "execution_count": 29,
   "metadata": {},
   "outputs": [
    {
     "data": {
      "text/html": [
       "<div>\n",
       "<style scoped>\n",
       "    .dataframe tbody tr th:only-of-type {\n",
       "        vertical-align: middle;\n",
       "    }\n",
       "\n",
       "    .dataframe tbody tr th {\n",
       "        vertical-align: top;\n",
       "    }\n",
       "\n",
       "    .dataframe thead th {\n",
       "        text-align: right;\n",
       "    }\n",
       "</style>\n",
       "<table border=\"1\" class=\"dataframe\">\n",
       "  <thead>\n",
       "    <tr style=\"text-align: right;\">\n",
       "      <th></th>\n",
       "      <th>index</th>\n",
       "      <th>Unnamed: 0</th>\n",
       "      <th>rating</th>\n",
       "      <th>text</th>\n",
       "      <th>business_name</th>\n",
       "      <th>business_category</th>\n",
       "      <th>business_description</th>\n",
       "      <th>_id</th>\n",
       "      <th>policy_label</th>\n",
       "    </tr>\n",
       "  </thead>\n",
       "  <tbody>\n",
       "    <tr>\n",
       "      <th>0</th>\n",
       "      <td>0</td>\n",
       "      <td>50000</td>\n",
       "      <td>4</td>\n",
       "      <td>Pizza from the hut the way I remember as a kid.</td>\n",
       "      <td>Pizza Hut</td>\n",
       "      <td>['Pizza delivery', 'Chicken wings restaurant',...</td>\n",
       "      <td>Family-friendly chain known for its made-to-or...</td>\n",
       "      <td>1.0787578136914669e+20_1571680311648</td>\n",
       "      <td>1.0</td>\n",
       "    </tr>\n",
       "    <tr>\n",
       "      <th>1</th>\n",
       "      <td>1</td>\n",
       "      <td>50001</td>\n",
       "      <td>5</td>\n",
       "      <td>Order from them the other day it was great and...</td>\n",
       "      <td>Pizza Hut</td>\n",
       "      <td>['Pizza delivery', 'Chicken wings restaurant',...</td>\n",
       "      <td>Family-friendly chain known for its made-to-or...</td>\n",
       "      <td>1.1688376278943746e+20_1545013271057</td>\n",
       "      <td>1.0</td>\n",
       "    </tr>\n",
       "    <tr>\n",
       "      <th>2</th>\n",
       "      <td>2</td>\n",
       "      <td>50002</td>\n",
       "      <td>3</td>\n",
       "      <td>Just ok. Odd location. Hard to park.</td>\n",
       "      <td>Pizza Hut</td>\n",
       "      <td>['Pizza delivery', 'Chicken wings restaurant',...</td>\n",
       "      <td>Family-friendly chain known for its made-to-or...</td>\n",
       "      <td>1.0718381648538398e+20_1562385424249</td>\n",
       "      <td>0.0</td>\n",
       "    </tr>\n",
       "    <tr>\n",
       "      <th>3</th>\n",
       "      <td>3</td>\n",
       "      <td>50003</td>\n",
       "      <td>3</td>\n",
       "      <td>Delivery only. Longer wait time than Dominoes,...</td>\n",
       "      <td>Pizza Hut</td>\n",
       "      <td>['Pizza delivery', 'Chicken wings restaurant',...</td>\n",
       "      <td>Family-friendly chain known for its made-to-or...</td>\n",
       "      <td>1.0812212194720055e+20_1508006409181</td>\n",
       "      <td>1.0</td>\n",
       "    </tr>\n",
       "    <tr>\n",
       "      <th>4</th>\n",
       "      <td>4</td>\n",
       "      <td>50004</td>\n",
       "      <td>5</td>\n",
       "      <td>Awesome, thanks Justin.</td>\n",
       "      <td>Pizza Hut</td>\n",
       "      <td>['Pizza delivery', 'Chicken wings restaurant',...</td>\n",
       "      <td>Family-friendly chain known for its made-to-or...</td>\n",
       "      <td>1.057940126919024e+20_1339694564439</td>\n",
       "      <td>0.0</td>\n",
       "    </tr>\n",
       "    <tr>\n",
       "      <th>...</th>\n",
       "      <td>...</td>\n",
       "      <td>...</td>\n",
       "      <td>...</td>\n",
       "      <td>...</td>\n",
       "      <td>...</td>\n",
       "      <td>...</td>\n",
       "      <td>...</td>\n",
       "      <td>...</td>\n",
       "      <td>...</td>\n",
       "    </tr>\n",
       "    <tr>\n",
       "      <th>9914</th>\n",
       "      <td>9977</td>\n",
       "      <td>59978</td>\n",
       "      <td>4</td>\n",
       "      <td>Service was good and food was decent</td>\n",
       "      <td>Whataburger</td>\n",
       "      <td>['Restaurant', 'Breakfast restaurant', 'Chicke...</td>\n",
       "      <td>Circa-1950 fast-food chain for counter-serve b...</td>\n",
       "      <td>1.1019017904225693e+20_1471102061209</td>\n",
       "      <td>1.0</td>\n",
       "    </tr>\n",
       "    <tr>\n",
       "      <th>9915</th>\n",
       "      <td>9978</td>\n",
       "      <td>59979</td>\n",
       "      <td>5</td>\n",
       "      <td>When I took a bite, I exclaimed \"What a burger...</td>\n",
       "      <td>Whataburger</td>\n",
       "      <td>['Restaurant', 'Breakfast restaurant', 'Chicke...</td>\n",
       "      <td>Circa-1950 fast-food chain for counter-serve b...</td>\n",
       "      <td>1.0570738734783511e+20_1551848763085</td>\n",
       "      <td>1.0</td>\n",
       "    </tr>\n",
       "    <tr>\n",
       "      <th>9916</th>\n",
       "      <td>9988</td>\n",
       "      <td>59989</td>\n",
       "      <td>5</td>\n",
       "      <td>Tasty, clean, friendly staff</td>\n",
       "      <td>Whataburger</td>\n",
       "      <td>['Restaurant', 'Breakfast restaurant', 'Chicke...</td>\n",
       "      <td>Circa-1950 fast-food chain for counter-serve b...</td>\n",
       "      <td>1.1713928594119631e+20_1481121637586</td>\n",
       "      <td>1.0</td>\n",
       "    </tr>\n",
       "    <tr>\n",
       "      <th>9917</th>\n",
       "      <td>9993</td>\n",
       "      <td>59994</td>\n",
       "      <td>4</td>\n",
       "      <td>Expensive but great hamburgers</td>\n",
       "      <td>Whataburger</td>\n",
       "      <td>['Restaurant', 'Breakfast restaurant', 'Chicke...</td>\n",
       "      <td>Circa-1950 fast-food chain for counter-serve b...</td>\n",
       "      <td>1.1326981232377587e+20_1543687860869</td>\n",
       "      <td>1.0</td>\n",
       "    </tr>\n",
       "    <tr>\n",
       "      <th>9918</th>\n",
       "      <td>9994</td>\n",
       "      <td>59995</td>\n",
       "      <td>5</td>\n",
       "      <td>My favorite burger place</td>\n",
       "      <td>Whataburger</td>\n",
       "      <td>['Restaurant', 'Breakfast restaurant', 'Chicke...</td>\n",
       "      <td>Circa-1950 fast-food chain for counter-serve b...</td>\n",
       "      <td>1.0479517025905807e+20_1524267207052</td>\n",
       "      <td>1.0</td>\n",
       "    </tr>\n",
       "  </tbody>\n",
       "</table>\n",
       "<p>9919 rows × 9 columns</p>\n",
       "</div>"
      ],
      "text/plain": [
       "      index  Unnamed: 0  rating  \\\n",
       "0         0       50000       4   \n",
       "1         1       50001       5   \n",
       "2         2       50002       3   \n",
       "3         3       50003       3   \n",
       "4         4       50004       5   \n",
       "...     ...         ...     ...   \n",
       "9914   9977       59978       4   \n",
       "9915   9978       59979       5   \n",
       "9916   9988       59989       5   \n",
       "9917   9993       59994       4   \n",
       "9918   9994       59995       5   \n",
       "\n",
       "                                                   text business_name  \\\n",
       "0       Pizza from the hut the way I remember as a kid.     Pizza Hut   \n",
       "1     Order from them the other day it was great and...     Pizza Hut   \n",
       "2                  Just ok. Odd location. Hard to park.     Pizza Hut   \n",
       "3     Delivery only. Longer wait time than Dominoes,...     Pizza Hut   \n",
       "4                               Awesome, thanks Justin.     Pizza Hut   \n",
       "...                                                 ...           ...   \n",
       "9914               Service was good and food was decent   Whataburger   \n",
       "9915  When I took a bite, I exclaimed \"What a burger...   Whataburger   \n",
       "9916                       Tasty, clean, friendly staff   Whataburger   \n",
       "9917                     Expensive but great hamburgers   Whataburger   \n",
       "9918                           My favorite burger place   Whataburger   \n",
       "\n",
       "                                      business_category  \\\n",
       "0     ['Pizza delivery', 'Chicken wings restaurant',...   \n",
       "1     ['Pizza delivery', 'Chicken wings restaurant',...   \n",
       "2     ['Pizza delivery', 'Chicken wings restaurant',...   \n",
       "3     ['Pizza delivery', 'Chicken wings restaurant',...   \n",
       "4     ['Pizza delivery', 'Chicken wings restaurant',...   \n",
       "...                                                 ...   \n",
       "9914  ['Restaurant', 'Breakfast restaurant', 'Chicke...   \n",
       "9915  ['Restaurant', 'Breakfast restaurant', 'Chicke...   \n",
       "9916  ['Restaurant', 'Breakfast restaurant', 'Chicke...   \n",
       "9917  ['Restaurant', 'Breakfast restaurant', 'Chicke...   \n",
       "9918  ['Restaurant', 'Breakfast restaurant', 'Chicke...   \n",
       "\n",
       "                                   business_description  \\\n",
       "0     Family-friendly chain known for its made-to-or...   \n",
       "1     Family-friendly chain known for its made-to-or...   \n",
       "2     Family-friendly chain known for its made-to-or...   \n",
       "3     Family-friendly chain known for its made-to-or...   \n",
       "4     Family-friendly chain known for its made-to-or...   \n",
       "...                                                 ...   \n",
       "9914  Circa-1950 fast-food chain for counter-serve b...   \n",
       "9915  Circa-1950 fast-food chain for counter-serve b...   \n",
       "9916  Circa-1950 fast-food chain for counter-serve b...   \n",
       "9917  Circa-1950 fast-food chain for counter-serve b...   \n",
       "9918  Circa-1950 fast-food chain for counter-serve b...   \n",
       "\n",
       "                                       _id  policy_label  \n",
       "0     1.0787578136914669e+20_1571680311648           1.0  \n",
       "1     1.1688376278943746e+20_1545013271057           1.0  \n",
       "2     1.0718381648538398e+20_1562385424249           0.0  \n",
       "3     1.0812212194720055e+20_1508006409181           1.0  \n",
       "4      1.057940126919024e+20_1339694564439           0.0  \n",
       "...                                    ...           ...  \n",
       "9914  1.1019017904225693e+20_1471102061209           1.0  \n",
       "9915  1.0570738734783511e+20_1551848763085           1.0  \n",
       "9916  1.1713928594119631e+20_1481121637586           1.0  \n",
       "9917  1.1326981232377587e+20_1543687860869           1.0  \n",
       "9918  1.0479517025905807e+20_1524267207052           1.0  \n",
       "\n",
       "[9919 rows x 9 columns]"
      ]
     },
     "execution_count": 29,
     "metadata": {},
     "output_type": "execute_result"
    }
   ],
   "source": [
    "# Filtering data\n",
    "filtered_df = df[df['policy_label'].notna()].reset_index().copy()\n",
    "filtered_df"
   ]
  },
  {
   "cell_type": "code",
   "execution_count": 30,
   "metadata": {},
   "outputs": [
    {
     "name": "stdout",
     "output_type": "stream",
     "text": [
      "policy_label\n",
      "1.0    8534\n",
      "0.0    1385\n",
      "Name: count, dtype: int64\n"
     ]
    }
   ],
   "source": [
    "print(filtered_df['policy_label'].value_counts())"
   ]
  },
  {
   "cell_type": "markdown",
   "metadata": {},
   "source": [
    "### Feature A"
   ]
  },
  {
   "cell_type": "code",
   "execution_count": 7,
   "metadata": {},
   "outputs": [
    {
     "name": "stderr",
     "output_type": "stream",
     "text": [
      "[nltk_data] Downloading package wordnet to /Users/yumin/nltk_data...\n",
      "[nltk_data]   Package wordnet is already up-to-date!\n",
      "[nltk_data] Downloading package wordnet to /Users/yumin/nltk_data...\n",
      "[nltk_data]   Package wordnet is already up-to-date!\n"
     ]
    }
   ],
   "source": [
    "from modules.policy_A_module import policy_A_feature_generation\n",
    "feature_A = policy_A_feature_generation(filtered_df)"
   ]
  },
  {
   "cell_type": "markdown",
   "metadata": {},
   "source": [
    "### Feature B"
   ]
  },
  {
   "cell_type": "code",
   "execution_count": 8,
   "metadata": {},
   "outputs": [
    {
     "name": "stderr",
     "output_type": "stream",
     "text": [
      "[nltk_data] Downloading package averaged_perceptron_tagger to\n",
      "[nltk_data]     /Users/yumin/nltk_data...\n",
      "[nltk_data]   Package averaged_perceptron_tagger is already up-to-\n",
      "[nltk_data]       date!\n",
      "[nltk_data] Downloading package maxent_ne_chunker to\n",
      "[nltk_data]     /Users/yumin/nltk_data...\n",
      "[nltk_data]   Package maxent_ne_chunker is already up-to-date!\n",
      "[nltk_data] Downloading package words to /Users/yumin/nltk_data...\n",
      "[nltk_data]   Package words is already up-to-date!\n"
     ]
    }
   ],
   "source": [
    "from modules.policy_B_module import calculate_specificity_score\n",
    "feature_B = calculate_specificity_score(filtered_df, n_workers=4)"
   ]
  },
  {
   "cell_type": "markdown",
   "metadata": {},
   "source": [
    "### Feature D2"
   ]
  },
  {
   "cell_type": "code",
   "execution_count": 9,
   "metadata": {},
   "outputs": [
    {
     "name": "stderr",
     "output_type": "stream",
     "text": [
      "/Users/yumin/Documents/GitHub/TikTok-TechJam-2025/venv/lib/python3.12/site-packages/tqdm/auto.py:21: TqdmWarning: IProgress not found. Please update jupyter and ipywidgets. See https://ipywidgets.readthedocs.io/en/stable/user_install.html\n",
      "  from .autonotebook import tqdm as notebook_tqdm\n"
     ]
    }
   ],
   "source": [
    "from modules.policy_D2_module import calculate_interpretability_scores_for_df\n",
    "feature_D2 = calculate_interpretability_scores_for_df(filtered_df, n_workers=4)"
   ]
  },
  {
   "cell_type": "markdown",
   "metadata": {},
   "source": [
    "### Feature E"
   ]
  },
  {
   "cell_type": "code",
   "execution_count": 11,
   "metadata": {},
   "outputs": [
    {
     "name": "stderr",
     "output_type": "stream",
     "text": [
      "Some weights of the model checkpoint at cardiffnlp/twitter-roberta-base-sentiment-latest were not used when initializing RobertaForSequenceClassification: ['roberta.pooler.dense.bias', 'roberta.pooler.dense.weight']\n",
      "- This IS expected if you are initializing RobertaForSequenceClassification from the checkpoint of a model trained on another task or with another architecture (e.g. initializing a BertForSequenceClassification model from a BertForPreTraining model).\n",
      "- This IS NOT expected if you are initializing RobertaForSequenceClassification from the checkpoint of a model that you expect to be exactly identical (initializing a BertForSequenceClassification model from a BertForSequenceClassification model).\n",
      "Some weights of the model checkpoint at cardiffnlp/twitter-roberta-base-sentiment-latest were not used when initializing RobertaForSequenceClassification: ['roberta.pooler.dense.bias', 'roberta.pooler.dense.weight']\n",
      "- This IS expected if you are initializing RobertaForSequenceClassification from the checkpoint of a model trained on another task or with another architecture (e.g. initializing a BertForSequenceClassification model from a BertForPreTraining model).\n",
      "- This IS NOT expected if you are initializing RobertaForSequenceClassification from the checkpoint of a model that you expect to be exactly identical (initializing a BertForSequenceClassification model from a BertForSequenceClassification model).\n"
     ]
    }
   ],
   "source": [
    "from modules.policy_E_module import compute_consistency_scores\n",
    "feature_E = compute_consistency_scores(filtered_df, max_workers=2)"
   ]
  },
  {
   "cell_type": "markdown",
   "metadata": {},
   "source": [
    "### Feature G"
   ]
  },
  {
   "cell_type": "code",
   "execution_count": 31,
   "metadata": {},
   "outputs": [],
   "source": [
    "from modules.policy_G_module import compute_policy_g_series_processed\n",
    "\n",
    "\n",
    "\n",
    "feature_G = compute_policy_g_series_processed(filtered_df)"
   ]
  },
  {
   "cell_type": "code",
   "execution_count": 32,
   "metadata": {},
   "outputs": [
    {
     "name": "stdout",
     "output_type": "stream",
     "text": [
      "0       0.990305\n",
      "1       0.999477\n",
      "2       0.999410\n",
      "3       0.977368\n",
      "4       0.999571\n",
      "          ...   \n",
      "9914    0.999582\n",
      "9915    0.999487\n",
      "9916    0.957214\n",
      "9917    0.999015\n",
      "9918    0.999614\n",
      "Name: policy_G_S_toxicity, Length: 9919, dtype: float64\n"
     ]
    }
   ],
   "source": [
    "print(feature_G)"
   ]
  },
  {
   "cell_type": "markdown",
   "metadata": {},
   "source": [
    "### Concat Data into New CSV"
   ]
  },
  {
   "cell_type": "code",
   "execution_count": 33,
   "metadata": {},
   "outputs": [
    {
     "name": "stdout",
     "output_type": "stream",
     "text": [
      "      Unnamed: 0         A         B        D2         E\n",
      "0              0  0.755270  0.553070  0.500000  0.750000\n",
      "1              1  0.007409  0.559989  0.500000  0.986859\n",
      "2              2  0.007982  0.552950  0.624615  0.645319\n",
      "3              3  0.005442  0.574159  0.645191  0.707052\n",
      "4              4  0.011812  0.569315  0.500000  0.989223\n",
      "...          ...       ...       ...       ...       ...\n",
      "9914        9914  0.008216  0.549692  0.500000  0.773126\n",
      "9915        9915  0.484086  0.553054  0.576117  0.942918\n",
      "9916        9916  0.007779  0.544649  0.500000  0.979812\n",
      "9917        9917  0.010173  0.536573  0.500000  0.796173\n",
      "9918        9918  0.557961  0.530914  0.500000  0.984082\n",
      "\n",
      "[9919 rows x 5 columns]\n"
     ]
    }
   ],
   "source": [
    "df_featured_6 = pd.read_csv('../feature_engineering_model/featured_datasets/final_data_featured_6.csv')\n",
    "print(df_featured_6)\n"
   ]
  },
  {
   "cell_type": "code",
   "execution_count": 34,
   "metadata": {},
   "outputs": [
    {
     "name": "stdout",
     "output_type": "stream",
     "text": [
      "      Unnamed: 0         A         B        D2         E  policy_G_S_toxicity\n",
      "0              0  0.755270  0.553070  0.500000  0.750000             0.990305\n",
      "1              1  0.007409  0.559989  0.500000  0.986859             0.999477\n",
      "2              2  0.007982  0.552950  0.624615  0.645319             0.999410\n",
      "3              3  0.005442  0.574159  0.645191  0.707052             0.977368\n",
      "4              4  0.011812  0.569315  0.500000  0.989223             0.999571\n",
      "...          ...       ...       ...       ...       ...                  ...\n",
      "9914        9914  0.008216  0.549692  0.500000  0.773126             0.999582\n",
      "9915        9915  0.484086  0.553054  0.576117  0.942918             0.999487\n",
      "9916        9916  0.007779  0.544649  0.500000  0.979812             0.957214\n",
      "9917        9917  0.010173  0.536573  0.500000  0.796173             0.999015\n",
      "9918        9918  0.557961  0.530914  0.500000  0.984082             0.999614\n",
      "\n",
      "[9919 rows x 6 columns]\n"
     ]
    }
   ],
   "source": [
    "df_temp = pd.concat([df_featured_6, feature_G], axis = 1)\n",
    "print(df_temp)"
   ]
  },
  {
   "cell_type": "code",
   "execution_count": 35,
   "metadata": {},
   "outputs": [
    {
     "name": "stdout",
     "output_type": "stream",
     "text": [
      "      Unnamed: 0         A         B        D2         E         G\n",
      "0              0  0.755270  0.553070  0.500000  0.750000  0.990305\n",
      "1              1  0.007409  0.559989  0.500000  0.986859  0.999477\n",
      "2              2  0.007982  0.552950  0.624615  0.645319  0.999410\n",
      "3              3  0.005442  0.574159  0.645191  0.707052  0.977368\n",
      "4              4  0.011812  0.569315  0.500000  0.989223  0.999571\n",
      "...          ...       ...       ...       ...       ...       ...\n",
      "9914        9914  0.008216  0.549692  0.500000  0.773126  0.999582\n",
      "9915        9915  0.484086  0.553054  0.576117  0.942918  0.999487\n",
      "9916        9916  0.007779  0.544649  0.500000  0.979812  0.957214\n",
      "9917        9917  0.010173  0.536573  0.500000  0.796173  0.999015\n",
      "9918        9918  0.557961  0.530914  0.500000  0.984082  0.999614\n",
      "\n",
      "[9919 rows x 6 columns]\n"
     ]
    }
   ],
   "source": [
    "df_temp = df_temp.rename(columns={\"policy_G_S_toxicity\":\"G\"})\n",
    "print(df_temp)"
   ]
  },
  {
   "cell_type": "code",
   "execution_count": 36,
   "metadata": {},
   "outputs": [],
   "source": [
    "df_temp.to_csv(\"featured_datasets/final_data_featured_6.csv\") #change file name so it does not overwrite"
   ]
  },
  {
   "cell_type": "code",
   "execution_count": 38,
   "metadata": {},
   "outputs": [
    {
     "name": "stdout",
     "output_type": "stream",
     "text": [
      "      Unnamed: 0.1  Unnamed: 0         A         B        D2         E  \\\n",
      "0                0           0  0.755270  0.553070  0.500000  0.750000   \n",
      "1                1           1  0.007409  0.559989  0.500000  0.986859   \n",
      "2                2           2  0.007982  0.552950  0.624615  0.645319   \n",
      "3                3           3  0.005442  0.574159  0.645191  0.707052   \n",
      "4                4           4  0.011812  0.569315  0.500000  0.989223   \n",
      "...            ...         ...       ...       ...       ...       ...   \n",
      "9914          9914        9914  0.008216  0.549692  0.500000  0.773126   \n",
      "9915          9915        9915  0.484086  0.553054  0.576117  0.942918   \n",
      "9916          9916        9916  0.007779  0.544649  0.500000  0.979812   \n",
      "9917          9917        9917  0.010173  0.536573  0.500000  0.796173   \n",
      "9918          9918        9918  0.557961  0.530914  0.500000  0.984082   \n",
      "\n",
      "             G  \n",
      "0     0.990305  \n",
      "1     0.999477  \n",
      "2     0.999410  \n",
      "3     0.977368  \n",
      "4     0.999571  \n",
      "...        ...  \n",
      "9914  0.999582  \n",
      "9915  0.999487  \n",
      "9916  0.957214  \n",
      "9917  0.999015  \n",
      "9918  0.999614  \n",
      "\n",
      "[9919 rows x 7 columns]\n"
     ]
    }
   ],
   "source": [
    "final_df = pd.read_csv(\"../feature_engineering_model/featured_datasets/final_data_featured_6.csv\")\n",
    "print(final_df)"
   ]
  },
  {
   "cell_type": "code",
   "execution_count": 12,
   "metadata": {},
   "outputs": [
    {
     "name": "stdout",
     "output_type": "stream",
     "text": [
      "5972 5972 5972 5972\n"
     ]
    },
    {
     "data": {
      "text/plain": [
       "(5972, 4)"
      ]
     },
     "execution_count": 12,
     "metadata": {},
     "output_type": "execute_result"
    }
   ],
   "source": [
    "print(len(feature_A), len(feature_B), len(feature_D2), len(feature_E))\n",
    "pd.concat([feature_A, feature_B, feature_D2, feature_E], axis=1).shape"
   ]
  },
  {
   "cell_type": "code",
   "execution_count": null,
   "metadata": {},
   "outputs": [],
   "source": [
    "df_save = pd.DataFrame()\n",
    "# df = pd.concat([feature_A, feature_B, feature_D2, feature_E, feature_G], axis=1)\n",
    "df_save = pd.concat([feature_A, feature_B, feature_D2, feature_E], axis=1)\n",
    "# df = df.rename(columns={0:\"A\", 1:\"B\", 2: \"D2\", 3:\"E\", 4:\"G\"})\n",
    "df_save = df_save.rename(columns={0:\"A\", 1:\"B\", 2: \"D2\", 3:\"E\"})\n",
    "df_save.to_csv(\"featured_datasets/final_data_featured_2.csv\") #change file name so it does not overwrite"
   ]
  },
  {
   "cell_type": "code",
   "execution_count": null,
   "metadata": {},
   "outputs": [],
   "source": []
  }
 ],
 "metadata": {
  "kernelspec": {
   "display_name": "venv",
   "language": "python",
   "name": "python3"
  },
  "language_info": {
   "codemirror_mode": {
    "name": "ipython",
    "version": 3
   },
   "file_extension": ".py",
   "mimetype": "text/x-python",
   "name": "python",
   "nbconvert_exporter": "python",
   "pygments_lexer": "ipython3",
   "version": "3.12.2"
  }
 },
 "nbformat": 4,
 "nbformat_minor": 4
}
