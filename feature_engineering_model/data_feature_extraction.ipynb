{
 "cells": [
  {
   "cell_type": "code",
   "execution_count": 1,
   "metadata": {},
   "outputs": [
    {
     "data": {
      "text/html": [
       "<div>\n",
       "<style scoped>\n",
       "    .dataframe tbody tr th:only-of-type {\n",
       "        vertical-align: middle;\n",
       "    }\n",
       "\n",
       "    .dataframe tbody tr th {\n",
       "        vertical-align: top;\n",
       "    }\n",
       "\n",
       "    .dataframe thead th {\n",
       "        text-align: right;\n",
       "    }\n",
       "</style>\n",
       "<table border=\"1\" class=\"dataframe\">\n",
       "  <thead>\n",
       "    <tr style=\"text-align: right;\">\n",
       "      <th></th>\n",
       "      <th>Unnamed: 0</th>\n",
       "      <th>rating</th>\n",
       "      <th>text</th>\n",
       "      <th>business_name</th>\n",
       "      <th>business_category</th>\n",
       "      <th>business_description</th>\n",
       "      <th>_id</th>\n",
       "      <th>policy_label</th>\n",
       "    </tr>\n",
       "  </thead>\n",
       "  <tbody>\n",
       "    <tr>\n",
       "      <th>0</th>\n",
       "      <td>0</td>\n",
       "      <td>5</td>\n",
       "      <td>My husband took me here for my birthday!  The ...</td>\n",
       "      <td>Buona Sera</td>\n",
       "      <td>['Italian restaurant', 'Restaurant']</td>\n",
       "      <td>Casual trattoria serving familiar Italian entr...</td>\n",
       "      <td>1.089786951023629e+20_1507964592497</td>\n",
       "      <td>1</td>\n",
       "    </tr>\n",
       "    <tr>\n",
       "      <th>1</th>\n",
       "      <td>1</td>\n",
       "      <td>4</td>\n",
       "      <td>was a great place.  Now closed. Too bad. We'll...</td>\n",
       "      <td>Buona Sera</td>\n",
       "      <td>['Italian restaurant', 'Restaurant']</td>\n",
       "      <td>Casual trattoria serving familiar Italian entr...</td>\n",
       "      <td>1.124085651879834e+20_1519880201044</td>\n",
       "      <td>1</td>\n",
       "    </tr>\n",
       "    <tr>\n",
       "      <th>2</th>\n",
       "      <td>2</td>\n",
       "      <td>5</td>\n",
       "      <td>cozy, great food. love how you can sign your b...</td>\n",
       "      <td>Buona Sera</td>\n",
       "      <td>['Italian restaurant', 'Restaurant']</td>\n",
       "      <td>Casual trattoria serving familiar Italian entr...</td>\n",
       "      <td>1.1571615809204435e+20_1490033397528</td>\n",
       "      <td>1</td>\n",
       "    </tr>\n",
       "    <tr>\n",
       "      <th>3</th>\n",
       "      <td>3</td>\n",
       "      <td>4</td>\n",
       "      <td>Not your average little Italian joint, don't e...</td>\n",
       "      <td>Buona Sera</td>\n",
       "      <td>['Italian restaurant', 'Restaurant']</td>\n",
       "      <td>Casual trattoria serving familiar Italian entr...</td>\n",
       "      <td>1.181306411818766e+20_1511165172600</td>\n",
       "      <td>1</td>\n",
       "    </tr>\n",
       "    <tr>\n",
       "      <th>4</th>\n",
       "      <td>4</td>\n",
       "      <td>3</td>\n",
       "      <td>Service was great and the mozzarella fritta an...</td>\n",
       "      <td>Buona Sera</td>\n",
       "      <td>['Italian restaurant', 'Restaurant']</td>\n",
       "      <td>Casual trattoria serving familiar Italian entr...</td>\n",
       "      <td>1.1430211684992369e+20_1505179108178</td>\n",
       "      <td>1</td>\n",
       "    </tr>\n",
       "  </tbody>\n",
       "</table>\n",
       "</div>"
      ],
      "text/plain": [
       "   Unnamed: 0  rating                                               text  \\\n",
       "0           0       5  My husband took me here for my birthday!  The ...   \n",
       "1           1       4  was a great place.  Now closed. Too bad. We'll...   \n",
       "2           2       5  cozy, great food. love how you can sign your b...   \n",
       "3           3       4  Not your average little Italian joint, don't e...   \n",
       "4           4       3  Service was great and the mozzarella fritta an...   \n",
       "\n",
       "  business_name                     business_category  \\\n",
       "0    Buona Sera  ['Italian restaurant', 'Restaurant']   \n",
       "1    Buona Sera  ['Italian restaurant', 'Restaurant']   \n",
       "2    Buona Sera  ['Italian restaurant', 'Restaurant']   \n",
       "3    Buona Sera  ['Italian restaurant', 'Restaurant']   \n",
       "4    Buona Sera  ['Italian restaurant', 'Restaurant']   \n",
       "\n",
       "                                business_description  \\\n",
       "0  Casual trattoria serving familiar Italian entr...   \n",
       "1  Casual trattoria serving familiar Italian entr...   \n",
       "2  Casual trattoria serving familiar Italian entr...   \n",
       "3  Casual trattoria serving familiar Italian entr...   \n",
       "4  Casual trattoria serving familiar Italian entr...   \n",
       "\n",
       "                                    _id  policy_label  \n",
       "0   1.089786951023629e+20_1507964592497             1  \n",
       "1   1.124085651879834e+20_1519880201044             1  \n",
       "2  1.1571615809204435e+20_1490033397528             1  \n",
       "3   1.181306411818766e+20_1511165172600             1  \n",
       "4  1.1430211684992369e+20_1505179108178             1  "
      ]
     },
     "execution_count": 1,
     "metadata": {},
     "output_type": "execute_result"
    }
   ],
   "source": [
    "import pandas as pd\n",
    "\n",
    "df = pd.read_csv(\"../data_gpt_labeler/final_data_labeled_1.csv\")\n",
    "df.head()"
   ]
  },
  {
   "cell_type": "code",
   "execution_count": 5,
   "metadata": {},
   "outputs": [
    {
     "name": "stderr",
     "output_type": "stream",
     "text": [
      "[nltk_data] Downloading package wordnet to /Users/yumin/nltk_data...\n",
      "[nltk_data]   Package wordnet is already up-to-date!\n"
     ]
    },
    {
     "name": "stdout",
     "output_type": "stream",
     "text": [
      "0       0.126823\n",
      "1       0.066522\n",
      "2       0.158263\n",
      "3       0.062633\n",
      "4       0.005904\n",
      "          ...   \n",
      "9995    0.353107\n",
      "9996    0.407681\n",
      "9997    0.129818\n",
      "9998    0.024677\n",
      "9999    0.298661\n",
      "Length: 10000, dtype: float64\n"
     ]
    }
   ],
   "source": [
    "from modules.policy_A_module import policy_A_feature_generation\n",
    "feature_A = policy_A_feature_generation(df)\n",
    "print(feature_A)"
   ]
  },
  {
   "cell_type": "code",
   "execution_count": 3,
   "metadata": {},
   "outputs": [
    {
     "name": "stderr",
     "output_type": "stream",
     "text": [
      "[nltk_data] Downloading package averaged_perceptron_tagger to\n",
      "[nltk_data]     /Users/yumin/nltk_data...\n",
      "[nltk_data]   Package averaged_perceptron_tagger is already up-to-\n",
      "[nltk_data]       date!\n",
      "[nltk_data] Downloading package maxent_ne_chunker to\n",
      "[nltk_data]     /Users/yumin/nltk_data...\n",
      "[nltk_data]   Package maxent_ne_chunker is already up-to-date!\n",
      "[nltk_data] Downloading package words to /Users/yumin/nltk_data...\n",
      "[nltk_data]   Package words is already up-to-date!\n"
     ]
    }
   ],
   "source": [
    "from modules.policy_B_module import calculate_specificity_score\n",
    "feature_B = calculate_specificity_score(df, n_workers=8)"
   ]
  },
  {
   "cell_type": "code",
   "execution_count": 7,
   "metadata": {},
   "outputs": [
    {
     "name": "stderr",
     "output_type": "stream",
     "text": [
      "python(2676) MallocStackLogging: can't turn off malloc stack logging because it was not enabled.\n",
      "python(2677) MallocStackLogging: can't turn off malloc stack logging because it was not enabled.\n",
      "python(2678) MallocStackLogging: can't turn off malloc stack logging because it was not enabled.\n",
      "python(2679) MallocStackLogging: can't turn off malloc stack logging because it was not enabled.\n",
      "python(2680) MallocStackLogging: can't turn off malloc stack logging because it was not enabled.\n",
      "python(2681) MallocStackLogging: can't turn off malloc stack logging because it was not enabled.\n",
      "python(2682) MallocStackLogging: can't turn off malloc stack logging because it was not enabled.\n",
      "python(2683) MallocStackLogging: can't turn off malloc stack logging because it was not enabled.\n"
     ]
    }
   ],
   "source": [
    "from modules.policy_D2_module import calculate_interpretability_scores_for_df\n",
    "feature_D2 = calculate_interpretability_scores_for_df(df, n_workers=8)"
   ]
  },
  {
   "cell_type": "code",
   "execution_count": 12,
   "metadata": {},
   "outputs": [],
   "source": [
    "df = pd.DataFrame()\n",
    "df = pd.concat([feature_A, feature_B, feature_D2], axis=1)\n",
    "df = df.rename(columns={0:\"A\", 1:\"B\", 2: \"D2\"})\n",
    "df.to_csv(\"temp.csv\")"
   ]
  },
  {
   "cell_type": "code",
   "execution_count": null,
   "metadata": {},
   "outputs": [],
   "source": []
  }
 ],
 "metadata": {
  "kernelspec": {
   "display_name": "venv",
   "language": "python",
   "name": "python3"
  },
  "language_info": {
   "codemirror_mode": {
    "name": "ipython",
    "version": 3
   },
   "file_extension": ".py",
   "mimetype": "text/x-python",
   "name": "python",
   "nbconvert_exporter": "python",
   "pygments_lexer": "ipython3",
   "version": "3.12.2"
  }
 },
 "nbformat": 4,
 "nbformat_minor": 4
}
