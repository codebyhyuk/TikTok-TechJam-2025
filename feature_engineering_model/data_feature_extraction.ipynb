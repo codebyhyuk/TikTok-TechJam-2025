{
 "cells": [
  {
   "cell_type": "code",
   "execution_count": 1,
   "metadata": {},
   "outputs": [
    {
     "data": {
      "text/html": [
       "<div>\n",
       "<style scoped>\n",
       "    .dataframe tbody tr th:only-of-type {\n",
       "        vertical-align: middle;\n",
       "    }\n",
       "\n",
       "    .dataframe tbody tr th {\n",
       "        vertical-align: top;\n",
       "    }\n",
       "\n",
       "    .dataframe thead th {\n",
       "        text-align: right;\n",
       "    }\n",
       "</style>\n",
       "<table border=\"1\" class=\"dataframe\">\n",
       "  <thead>\n",
       "    <tr style=\"text-align: right;\">\n",
       "      <th></th>\n",
       "      <th>Unnamed: 0</th>\n",
       "      <th>rating</th>\n",
       "      <th>text</th>\n",
       "      <th>business_name</th>\n",
       "      <th>business_category</th>\n",
       "      <th>business_description</th>\n",
       "      <th>_id</th>\n",
       "      <th>policy_label</th>\n",
       "    </tr>\n",
       "  </thead>\n",
       "  <tbody>\n",
       "    <tr>\n",
       "      <th>0</th>\n",
       "      <td>10000</td>\n",
       "      <td>4</td>\n",
       "      <td>Very clean place and great customer service. P...</td>\n",
       "      <td>Da Hawaiian Poke Company</td>\n",
       "      <td>['Hawaiian restaurant']</td>\n",
       "      <td>Classic poke is made with fresh local fish at ...</td>\n",
       "      <td>1.1646785119946047e+20_1485149267122</td>\n",
       "      <td>1.0</td>\n",
       "    </tr>\n",
       "    <tr>\n",
       "      <th>1</th>\n",
       "      <td>10001</td>\n",
       "      <td>1</td>\n",
       "      <td>Numerous better options on the island, there's...</td>\n",
       "      <td>Da Hawaiian Poke Company</td>\n",
       "      <td>['Hawaiian restaurant']</td>\n",
       "      <td>Classic poke is made with fresh local fish at ...</td>\n",
       "      <td>1.0267678641614776e+20_1491101534705</td>\n",
       "      <td>0.0</td>\n",
       "    </tr>\n",
       "    <tr>\n",
       "      <th>2</th>\n",
       "      <td>10002</td>\n",
       "      <td>5</td>\n",
       "      <td>We visited this place for macadamia nuts and o...</td>\n",
       "      <td>Da Hawaiian Poke Company</td>\n",
       "      <td>['Hawaiian restaurant']</td>\n",
       "      <td>Classic poke is made with fresh local fish at ...</td>\n",
       "      <td>1.0332983715774515e+20_1530623117395</td>\n",
       "      <td>1.0</td>\n",
       "    </tr>\n",
       "    <tr>\n",
       "      <th>3</th>\n",
       "      <td>10003</td>\n",
       "      <td>4</td>\n",
       "      <td>Fresh ahi poke made fresh everyday.  Depending...</td>\n",
       "      <td>Da Hawaiian Poke Company</td>\n",
       "      <td>['Hawaiian restaurant']</td>\n",
       "      <td>Classic poke is made with fresh local fish at ...</td>\n",
       "      <td>1.132809466479012e+20_1498982367483</td>\n",
       "      <td>1.0</td>\n",
       "    </tr>\n",
       "    <tr>\n",
       "      <th>4</th>\n",
       "      <td>10004</td>\n",
       "      <td>4</td>\n",
       "      <td>They offer a variety of fresh poke in their di...</td>\n",
       "      <td>Da Hawaiian Poke Company</td>\n",
       "      <td>['Hawaiian restaurant']</td>\n",
       "      <td>Classic poke is made with fresh local fish at ...</td>\n",
       "      <td>1.0883490360769959e+20_1459418469416</td>\n",
       "      <td>1.0</td>\n",
       "    </tr>\n",
       "  </tbody>\n",
       "</table>\n",
       "</div>"
      ],
      "text/plain": [
       "   Unnamed: 0  rating                                               text  \\\n",
       "0       10000       4  Very clean place and great customer service. P...   \n",
       "1       10001       1  Numerous better options on the island, there's...   \n",
       "2       10002       5  We visited this place for macadamia nuts and o...   \n",
       "3       10003       4  Fresh ahi poke made fresh everyday.  Depending...   \n",
       "4       10004       4  They offer a variety of fresh poke in their di...   \n",
       "\n",
       "              business_name        business_category  \\\n",
       "0  Da Hawaiian Poke Company  ['Hawaiian restaurant']   \n",
       "1  Da Hawaiian Poke Company  ['Hawaiian restaurant']   \n",
       "2  Da Hawaiian Poke Company  ['Hawaiian restaurant']   \n",
       "3  Da Hawaiian Poke Company  ['Hawaiian restaurant']   \n",
       "4  Da Hawaiian Poke Company  ['Hawaiian restaurant']   \n",
       "\n",
       "                                business_description  \\\n",
       "0  Classic poke is made with fresh local fish at ...   \n",
       "1  Classic poke is made with fresh local fish at ...   \n",
       "2  Classic poke is made with fresh local fish at ...   \n",
       "3  Classic poke is made with fresh local fish at ...   \n",
       "4  Classic poke is made with fresh local fish at ...   \n",
       "\n",
       "                                    _id  policy_label  \n",
       "0  1.1646785119946047e+20_1485149267122           1.0  \n",
       "1  1.0267678641614776e+20_1491101534705           0.0  \n",
       "2  1.0332983715774515e+20_1530623117395           1.0  \n",
       "3   1.132809466479012e+20_1498982367483           1.0  \n",
       "4  1.0883490360769959e+20_1459418469416           1.0  "
      ]
     },
     "execution_count": 1,
     "metadata": {},
     "output_type": "execute_result"
    }
   ],
   "source": [
    "import pandas as pd\n",
    "df = pd.read_csv(\"../data_gpt_labeler/labeled_datasets/final_data_labeled_2.csv\")\n",
    "df.head()"
   ]
  },
  {
   "cell_type": "code",
   "execution_count": 2,
   "metadata": {},
   "outputs": [
    {
     "data": {
      "text/html": [
       "<div>\n",
       "<style scoped>\n",
       "    .dataframe tbody tr th:only-of-type {\n",
       "        vertical-align: middle;\n",
       "    }\n",
       "\n",
       "    .dataframe tbody tr th {\n",
       "        vertical-align: top;\n",
       "    }\n",
       "\n",
       "    .dataframe thead th {\n",
       "        text-align: right;\n",
       "    }\n",
       "</style>\n",
       "<table border=\"1\" class=\"dataframe\">\n",
       "  <thead>\n",
       "    <tr style=\"text-align: right;\">\n",
       "      <th></th>\n",
       "      <th>index</th>\n",
       "      <th>Unnamed: 0</th>\n",
       "      <th>rating</th>\n",
       "      <th>text</th>\n",
       "      <th>business_name</th>\n",
       "      <th>business_category</th>\n",
       "      <th>business_description</th>\n",
       "      <th>_id</th>\n",
       "      <th>policy_label</th>\n",
       "    </tr>\n",
       "  </thead>\n",
       "  <tbody>\n",
       "    <tr>\n",
       "      <th>0</th>\n",
       "      <td>0</td>\n",
       "      <td>10000</td>\n",
       "      <td>4</td>\n",
       "      <td>Very clean place and great customer service. P...</td>\n",
       "      <td>Da Hawaiian Poke Company</td>\n",
       "      <td>['Hawaiian restaurant']</td>\n",
       "      <td>Classic poke is made with fresh local fish at ...</td>\n",
       "      <td>1.1646785119946047e+20_1485149267122</td>\n",
       "      <td>1.0</td>\n",
       "    </tr>\n",
       "    <tr>\n",
       "      <th>1</th>\n",
       "      <td>1</td>\n",
       "      <td>10001</td>\n",
       "      <td>1</td>\n",
       "      <td>Numerous better options on the island, there's...</td>\n",
       "      <td>Da Hawaiian Poke Company</td>\n",
       "      <td>['Hawaiian restaurant']</td>\n",
       "      <td>Classic poke is made with fresh local fish at ...</td>\n",
       "      <td>1.0267678641614776e+20_1491101534705</td>\n",
       "      <td>0.0</td>\n",
       "    </tr>\n",
       "    <tr>\n",
       "      <th>2</th>\n",
       "      <td>2</td>\n",
       "      <td>10002</td>\n",
       "      <td>5</td>\n",
       "      <td>We visited this place for macadamia nuts and o...</td>\n",
       "      <td>Da Hawaiian Poke Company</td>\n",
       "      <td>['Hawaiian restaurant']</td>\n",
       "      <td>Classic poke is made with fresh local fish at ...</td>\n",
       "      <td>1.0332983715774515e+20_1530623117395</td>\n",
       "      <td>1.0</td>\n",
       "    </tr>\n",
       "    <tr>\n",
       "      <th>3</th>\n",
       "      <td>3</td>\n",
       "      <td>10003</td>\n",
       "      <td>4</td>\n",
       "      <td>Fresh ahi poke made fresh everyday.  Depending...</td>\n",
       "      <td>Da Hawaiian Poke Company</td>\n",
       "      <td>['Hawaiian restaurant']</td>\n",
       "      <td>Classic poke is made with fresh local fish at ...</td>\n",
       "      <td>1.132809466479012e+20_1498982367483</td>\n",
       "      <td>1.0</td>\n",
       "    </tr>\n",
       "    <tr>\n",
       "      <th>4</th>\n",
       "      <td>4</td>\n",
       "      <td>10004</td>\n",
       "      <td>4</td>\n",
       "      <td>They offer a variety of fresh poke in their di...</td>\n",
       "      <td>Da Hawaiian Poke Company</td>\n",
       "      <td>['Hawaiian restaurant']</td>\n",
       "      <td>Classic poke is made with fresh local fish at ...</td>\n",
       "      <td>1.0883490360769959e+20_1459418469416</td>\n",
       "      <td>1.0</td>\n",
       "    </tr>\n",
       "    <tr>\n",
       "      <th>...</th>\n",
       "      <td>...</td>\n",
       "      <td>...</td>\n",
       "      <td>...</td>\n",
       "      <td>...</td>\n",
       "      <td>...</td>\n",
       "      <td>...</td>\n",
       "      <td>...</td>\n",
       "      <td>...</td>\n",
       "      <td>...</td>\n",
       "    </tr>\n",
       "    <tr>\n",
       "      <th>5967</th>\n",
       "      <td>9979</td>\n",
       "      <td>19979</td>\n",
       "      <td>4</td>\n",
       "      <td>Awesome experience thus far except for this la...</td>\n",
       "      <td>The Cheesecake Factory</td>\n",
       "      <td>['Restaurant', 'American restaurant', 'Dessert...</td>\n",
       "      <td>American chain restaurant offering sizable por...</td>\n",
       "      <td>1.1063547377321743e+20_1529799075601</td>\n",
       "      <td>1.0</td>\n",
       "    </tr>\n",
       "    <tr>\n",
       "      <th>5968</th>\n",
       "      <td>9980</td>\n",
       "      <td>19980</td>\n",
       "      <td>5</td>\n",
       "      <td>Excellent food and customer service</td>\n",
       "      <td>The Cheesecake Factory</td>\n",
       "      <td>['Restaurant', 'American restaurant', 'Dessert...</td>\n",
       "      <td>American chain restaurant offering sizable por...</td>\n",
       "      <td>1.148709745904846e+20_1552799908686</td>\n",
       "      <td>1.0</td>\n",
       "    </tr>\n",
       "    <tr>\n",
       "      <th>5969</th>\n",
       "      <td>9994</td>\n",
       "      <td>19994</td>\n",
       "      <td>4</td>\n",
       "      <td>Enjoyed most of the food...good service</td>\n",
       "      <td>The Cheesecake Factory</td>\n",
       "      <td>['Restaurant', 'American restaurant', 'Dessert...</td>\n",
       "      <td>American chain restaurant offering sizable por...</td>\n",
       "      <td>1.1485002627657445e+20_1536125465743</td>\n",
       "      <td>1.0</td>\n",
       "    </tr>\n",
       "    <tr>\n",
       "      <th>5970</th>\n",
       "      <td>9998</td>\n",
       "      <td>19998</td>\n",
       "      <td>4</td>\n",
       "      <td>The Luau salad is excellent! Pasta Da Vinci wa...</td>\n",
       "      <td>The Cheesecake Factory</td>\n",
       "      <td>['Restaurant', 'American restaurant', 'Dessert...</td>\n",
       "      <td>American chain restaurant offering sizable por...</td>\n",
       "      <td>1.0947861878968879e+20_1528365104726</td>\n",
       "      <td>1.0</td>\n",
       "    </tr>\n",
       "    <tr>\n",
       "      <th>5971</th>\n",
       "      <td>9999</td>\n",
       "      <td>19999</td>\n",
       "      <td>5</td>\n",
       "      <td>Lunch was great fast to get seated and food wa...</td>\n",
       "      <td>The Cheesecake Factory</td>\n",
       "      <td>['Restaurant', 'American restaurant', 'Dessert...</td>\n",
       "      <td>American chain restaurant offering sizable por...</td>\n",
       "      <td>1.012667000112821e+20_1536711337614</td>\n",
       "      <td>1.0</td>\n",
       "    </tr>\n",
       "  </tbody>\n",
       "</table>\n",
       "<p>5972 rows × 9 columns</p>\n",
       "</div>"
      ],
      "text/plain": [
       "      index  Unnamed: 0  rating  \\\n",
       "0         0       10000       4   \n",
       "1         1       10001       1   \n",
       "2         2       10002       5   \n",
       "3         3       10003       4   \n",
       "4         4       10004       4   \n",
       "...     ...         ...     ...   \n",
       "5967   9979       19979       4   \n",
       "5968   9980       19980       5   \n",
       "5969   9994       19994       4   \n",
       "5970   9998       19998       4   \n",
       "5971   9999       19999       5   \n",
       "\n",
       "                                                   text  \\\n",
       "0     Very clean place and great customer service. P...   \n",
       "1     Numerous better options on the island, there's...   \n",
       "2     We visited this place for macadamia nuts and o...   \n",
       "3     Fresh ahi poke made fresh everyday.  Depending...   \n",
       "4     They offer a variety of fresh poke in their di...   \n",
       "...                                                 ...   \n",
       "5967  Awesome experience thus far except for this la...   \n",
       "5968                Excellent food and customer service   \n",
       "5969            Enjoyed most of the food...good service   \n",
       "5970  The Luau salad is excellent! Pasta Da Vinci wa...   \n",
       "5971  Lunch was great fast to get seated and food wa...   \n",
       "\n",
       "                 business_name  \\\n",
       "0     Da Hawaiian Poke Company   \n",
       "1     Da Hawaiian Poke Company   \n",
       "2     Da Hawaiian Poke Company   \n",
       "3     Da Hawaiian Poke Company   \n",
       "4     Da Hawaiian Poke Company   \n",
       "...                        ...   \n",
       "5967    The Cheesecake Factory   \n",
       "5968    The Cheesecake Factory   \n",
       "5969    The Cheesecake Factory   \n",
       "5970    The Cheesecake Factory   \n",
       "5971    The Cheesecake Factory   \n",
       "\n",
       "                                      business_category  \\\n",
       "0                               ['Hawaiian restaurant']   \n",
       "1                               ['Hawaiian restaurant']   \n",
       "2                               ['Hawaiian restaurant']   \n",
       "3                               ['Hawaiian restaurant']   \n",
       "4                               ['Hawaiian restaurant']   \n",
       "...                                                 ...   \n",
       "5967  ['Restaurant', 'American restaurant', 'Dessert...   \n",
       "5968  ['Restaurant', 'American restaurant', 'Dessert...   \n",
       "5969  ['Restaurant', 'American restaurant', 'Dessert...   \n",
       "5970  ['Restaurant', 'American restaurant', 'Dessert...   \n",
       "5971  ['Restaurant', 'American restaurant', 'Dessert...   \n",
       "\n",
       "                                   business_description  \\\n",
       "0     Classic poke is made with fresh local fish at ...   \n",
       "1     Classic poke is made with fresh local fish at ...   \n",
       "2     Classic poke is made with fresh local fish at ...   \n",
       "3     Classic poke is made with fresh local fish at ...   \n",
       "4     Classic poke is made with fresh local fish at ...   \n",
       "...                                                 ...   \n",
       "5967  American chain restaurant offering sizable por...   \n",
       "5968  American chain restaurant offering sizable por...   \n",
       "5969  American chain restaurant offering sizable por...   \n",
       "5970  American chain restaurant offering sizable por...   \n",
       "5971  American chain restaurant offering sizable por...   \n",
       "\n",
       "                                       _id  policy_label  \n",
       "0     1.1646785119946047e+20_1485149267122           1.0  \n",
       "1     1.0267678641614776e+20_1491101534705           0.0  \n",
       "2     1.0332983715774515e+20_1530623117395           1.0  \n",
       "3      1.132809466479012e+20_1498982367483           1.0  \n",
       "4     1.0883490360769959e+20_1459418469416           1.0  \n",
       "...                                    ...           ...  \n",
       "5967  1.1063547377321743e+20_1529799075601           1.0  \n",
       "5968   1.148709745904846e+20_1552799908686           1.0  \n",
       "5969  1.1485002627657445e+20_1536125465743           1.0  \n",
       "5970  1.0947861878968879e+20_1528365104726           1.0  \n",
       "5971   1.012667000112821e+20_1536711337614           1.0  \n",
       "\n",
       "[5972 rows x 9 columns]"
      ]
     },
     "execution_count": 2,
     "metadata": {},
     "output_type": "execute_result"
    }
   ],
   "source": [
    "# Filtering data\n",
    "filtered_df = df[df['policy_label'].notna()].reset_index().copy()\n",
    "filtered_df"
   ]
  },
  {
   "cell_type": "code",
   "execution_count": 3,
   "metadata": {},
   "outputs": [
    {
     "name": "stdout",
     "output_type": "stream",
     "text": [
      "policy_label\n",
      "1.0    5167\n",
      "0.0     805\n",
      "Name: count, dtype: int64\n"
     ]
    }
   ],
   "source": [
    "print(filtered_df['policy_label'].value_counts())"
   ]
  },
  {
   "cell_type": "markdown",
   "metadata": {},
   "source": [
    "### Feature A"
   ]
  },
  {
   "cell_type": "code",
   "execution_count": 7,
   "metadata": {},
   "outputs": [
    {
     "name": "stderr",
     "output_type": "stream",
     "text": [
      "[nltk_data] Downloading package wordnet to /Users/yumin/nltk_data...\n",
      "[nltk_data]   Package wordnet is already up-to-date!\n",
      "[nltk_data] Downloading package wordnet to /Users/yumin/nltk_data...\n",
      "[nltk_data]   Package wordnet is already up-to-date!\n"
     ]
    }
   ],
   "source": [
    "from modules.policy_A_module import policy_A_feature_generation\n",
    "feature_A = policy_A_feature_generation(filtered_df)"
   ]
  },
  {
   "cell_type": "markdown",
   "metadata": {},
   "source": [
    "### Feature B"
   ]
  },
  {
   "cell_type": "code",
   "execution_count": 8,
   "metadata": {},
   "outputs": [
    {
     "name": "stderr",
     "output_type": "stream",
     "text": [
      "[nltk_data] Downloading package averaged_perceptron_tagger to\n",
      "[nltk_data]     /Users/yumin/nltk_data...\n",
      "[nltk_data]   Package averaged_perceptron_tagger is already up-to-\n",
      "[nltk_data]       date!\n",
      "[nltk_data] Downloading package maxent_ne_chunker to\n",
      "[nltk_data]     /Users/yumin/nltk_data...\n",
      "[nltk_data]   Package maxent_ne_chunker is already up-to-date!\n",
      "[nltk_data] Downloading package words to /Users/yumin/nltk_data...\n",
      "[nltk_data]   Package words is already up-to-date!\n"
     ]
    }
   ],
   "source": [
    "from modules.policy_B_module import calculate_specificity_score\n",
    "feature_B = calculate_specificity_score(filtered_df, n_workers=4)"
   ]
  },
  {
   "cell_type": "markdown",
   "metadata": {},
   "source": [
    "### Feature D2"
   ]
  },
  {
   "cell_type": "code",
   "execution_count": 9,
   "metadata": {},
   "outputs": [
    {
     "name": "stderr",
     "output_type": "stream",
     "text": [
      "/Users/yumin/Documents/GitHub/TikTok-TechJam-2025/venv/lib/python3.12/site-packages/tqdm/auto.py:21: TqdmWarning: IProgress not found. Please update jupyter and ipywidgets. See https://ipywidgets.readthedocs.io/en/stable/user_install.html\n",
      "  from .autonotebook import tqdm as notebook_tqdm\n"
     ]
    }
   ],
   "source": [
    "from modules.policy_D2_module import calculate_interpretability_scores_for_df\n",
    "feature_D2 = calculate_interpretability_scores_for_df(filtered_df, n_workers=4)"
   ]
  },
  {
   "cell_type": "markdown",
   "metadata": {},
   "source": [
    "### Feature E"
   ]
  },
  {
   "cell_type": "code",
   "execution_count": 11,
   "metadata": {},
   "outputs": [
    {
     "name": "stderr",
     "output_type": "stream",
     "text": [
      "Some weights of the model checkpoint at cardiffnlp/twitter-roberta-base-sentiment-latest were not used when initializing RobertaForSequenceClassification: ['roberta.pooler.dense.bias', 'roberta.pooler.dense.weight']\n",
      "- This IS expected if you are initializing RobertaForSequenceClassification from the checkpoint of a model trained on another task or with another architecture (e.g. initializing a BertForSequenceClassification model from a BertForPreTraining model).\n",
      "- This IS NOT expected if you are initializing RobertaForSequenceClassification from the checkpoint of a model that you expect to be exactly identical (initializing a BertForSequenceClassification model from a BertForSequenceClassification model).\n",
      "Some weights of the model checkpoint at cardiffnlp/twitter-roberta-base-sentiment-latest were not used when initializing RobertaForSequenceClassification: ['roberta.pooler.dense.bias', 'roberta.pooler.dense.weight']\n",
      "- This IS expected if you are initializing RobertaForSequenceClassification from the checkpoint of a model trained on another task or with another architecture (e.g. initializing a BertForSequenceClassification model from a BertForPreTraining model).\n",
      "- This IS NOT expected if you are initializing RobertaForSequenceClassification from the checkpoint of a model that you expect to be exactly identical (initializing a BertForSequenceClassification model from a BertForSequenceClassification model).\n"
     ]
    }
   ],
   "source": [
    "from modules.policy_E_module import compute_consistency_scores\n",
    "feature_E = compute_consistency_scores(filtered_df, max_workers=2)"
   ]
  },
  {
   "cell_type": "markdown",
   "metadata": {},
   "source": [
    "### Feature G"
   ]
  },
  {
   "cell_type": "code",
   "execution_count": 4,
   "metadata": {},
   "outputs": [
    {
     "name": "stderr",
     "output_type": "stream",
     "text": [
      "/Users/evan/Documents/Projects/TikTok-TechJam-2025/venv/lib/python3.12/site-packages/tqdm/auto.py:21: TqdmWarning: IProgress not found. Please update jupyter and ipywidgets. See https://ipywidgets.readthedocs.io/en/stable/user_install.html\n",
      "  from .autonotebook import tqdm as notebook_tqdm\n"
     ]
    }
   ],
   "source": [
    "from modules.policy_G_module import compute_policy_g_series_processed\n",
    "\n",
    "\n",
    "\n",
    "feature_G = compute_policy_g_series_processed(filtered_df)"
   ]
  },
  {
   "cell_type": "code",
   "execution_count": 5,
   "metadata": {},
   "outputs": [
    {
     "name": "stdout",
     "output_type": "stream",
     "text": [
      "0       0.999618\n",
      "1       0.999496\n",
      "2       0.999522\n",
      "3       0.999357\n",
      "4       0.999096\n",
      "          ...   \n",
      "5967    0.981098\n",
      "5968    0.999406\n",
      "5969    0.999536\n",
      "5970    0.999534\n",
      "5971    0.999450\n",
      "Name: policy_G_S_toxicity, Length: 5972, dtype: float64\n"
     ]
    }
   ],
   "source": [
    "print(feature_G)"
   ]
  },
  {
   "cell_type": "markdown",
   "metadata": {},
   "source": [
    "### Concat Data into New CSV"
   ]
  },
  {
   "cell_type": "code",
   "execution_count": null,
   "metadata": {},
   "outputs": [
    {
     "name": "stdout",
     "output_type": "stream",
     "text": [
      "      Unnamed: 0         A         B        D2         E\n",
      "0              0  0.123417  0.585621  0.540383  0.775093\n",
      "1              1  0.397054  0.574028  0.678968  0.411685\n",
      "2              2  0.005817  0.568049  0.500000  0.989505\n",
      "3              3  0.627677  0.569965  0.773275  0.787290\n",
      "4              4  0.324965  0.580102  0.692452  0.815985\n",
      "...          ...       ...       ...       ...       ...\n",
      "5967        5967  0.083717  0.578868  0.500000  0.765673\n",
      "5968        5968  0.013174  0.540510  0.500000  0.972227\n",
      "5969        5969  0.009817  0.555765  0.500000  0.762812\n",
      "5970        5970  0.013981  0.567627  0.612418  0.773057\n",
      "5971        5971  0.011633  0.561088  0.500000  0.989267\n",
      "\n",
      "[5972 rows x 5 columns]\n"
     ]
    }
   ],
   "source": [
    "df_featured_2 = pd.read_csv('../feature_engineering_model/featured_datasets/final_data_featured_2.csv')\n",
    "print(df_featured_2)\n"
   ]
  },
  {
   "cell_type": "code",
   "execution_count": 12,
   "metadata": {},
   "outputs": [
    {
     "name": "stdout",
     "output_type": "stream",
     "text": [
      "      Unnamed: 0         A         B        D2         E  policy_G_S_toxicity\n",
      "0              0  0.123417  0.585621  0.540383  0.775093             0.999618\n",
      "1              1  0.397054  0.574028  0.678968  0.411685             0.999496\n",
      "2              2  0.005817  0.568049  0.500000  0.989505             0.999522\n",
      "3              3  0.627677  0.569965  0.773275  0.787290             0.999357\n",
      "4              4  0.324965  0.580102  0.692452  0.815985             0.999096\n",
      "...          ...       ...       ...       ...       ...                  ...\n",
      "5967        5967  0.083717  0.578868  0.500000  0.765673             0.981098\n",
      "5968        5968  0.013174  0.540510  0.500000  0.972227             0.999406\n",
      "5969        5969  0.009817  0.555765  0.500000  0.762812             0.999536\n",
      "5970        5970  0.013981  0.567627  0.612418  0.773057             0.999534\n",
      "5971        5971  0.011633  0.561088  0.500000  0.989267             0.999450\n",
      "\n",
      "[5972 rows x 6 columns]\n"
     ]
    }
   ],
   "source": [
    "df_temp = pd.concat([df_featured_2, feature_G], axis = 1)\n",
    "print(df_temp)"
   ]
  },
  {
   "cell_type": "code",
   "execution_count": 13,
   "metadata": {},
   "outputs": [
    {
     "name": "stdout",
     "output_type": "stream",
     "text": [
      "      Unnamed: 0         A         B        D2         E         G\n",
      "0              0  0.123417  0.585621  0.540383  0.775093  0.999618\n",
      "1              1  0.397054  0.574028  0.678968  0.411685  0.999496\n",
      "2              2  0.005817  0.568049  0.500000  0.989505  0.999522\n",
      "3              3  0.627677  0.569965  0.773275  0.787290  0.999357\n",
      "4              4  0.324965  0.580102  0.692452  0.815985  0.999096\n",
      "...          ...       ...       ...       ...       ...       ...\n",
      "5967        5967  0.083717  0.578868  0.500000  0.765673  0.981098\n",
      "5968        5968  0.013174  0.540510  0.500000  0.972227  0.999406\n",
      "5969        5969  0.009817  0.555765  0.500000  0.762812  0.999536\n",
      "5970        5970  0.013981  0.567627  0.612418  0.773057  0.999534\n",
      "5971        5971  0.011633  0.561088  0.500000  0.989267  0.999450\n",
      "\n",
      "[5972 rows x 6 columns]\n"
     ]
    }
   ],
   "source": [
    "df_temp = df_temp.rename(columns={\"policy_G_S_toxicity\":\"G\"})\n",
    "print(df_temp)"
   ]
  },
  {
   "cell_type": "code",
   "execution_count": 14,
   "metadata": {},
   "outputs": [],
   "source": [
    "df_temp.to_csv(\"featured_datasets/final_data_featured_2.csv\") #change file name so it does not overwrite"
   ]
  },
  {
   "cell_type": "code",
   "execution_count": 17,
   "metadata": {},
   "outputs": [
    {
     "name": "stdout",
     "output_type": "stream",
     "text": [
      "      Unnamed: 0.1  Unnamed: 0         A         B        D2         E  \\\n",
      "0                0           0  0.123417  0.585621  0.540383  0.775093   \n",
      "1                1           1  0.397054  0.574028  0.678968  0.411685   \n",
      "2                2           2  0.005817  0.568049  0.500000  0.989505   \n",
      "3                3           3  0.627677  0.569965  0.773275  0.787290   \n",
      "4                4           4  0.324965  0.580102  0.692452  0.815985   \n",
      "...            ...         ...       ...       ...       ...       ...   \n",
      "5967          5967        5967  0.083717  0.578868  0.500000  0.765673   \n",
      "5968          5968        5968  0.013174  0.540510  0.500000  0.972227   \n",
      "5969          5969        5969  0.009817  0.555765  0.500000  0.762812   \n",
      "5970          5970        5970  0.013981  0.567627  0.612418  0.773057   \n",
      "5971          5971        5971  0.011633  0.561088  0.500000  0.989267   \n",
      "\n",
      "             G  \n",
      "0     0.999618  \n",
      "1     0.999496  \n",
      "2     0.999522  \n",
      "3     0.999357  \n",
      "4     0.999096  \n",
      "...        ...  \n",
      "5967  0.981098  \n",
      "5968  0.999406  \n",
      "5969  0.999536  \n",
      "5970  0.999534  \n",
      "5971  0.999450  \n",
      "\n",
      "[5972 rows x 7 columns]\n"
     ]
    }
   ],
   "source": [
    "final_df = pd.read_csv(\"../feature_engineering_model/featured_datasets/final_data_featured_2.csv\")\n",
    "print(final_df)"
   ]
  },
  {
   "cell_type": "code",
   "execution_count": 12,
   "metadata": {},
   "outputs": [
    {
     "name": "stdout",
     "output_type": "stream",
     "text": [
      "5972 5972 5972 5972\n"
     ]
    },
    {
     "data": {
      "text/plain": [
       "(5972, 4)"
      ]
     },
     "execution_count": 12,
     "metadata": {},
     "output_type": "execute_result"
    }
   ],
   "source": [
    "print(len(feature_A), len(feature_B), len(feature_D2), len(feature_E))\n",
    "pd.concat([feature_A, feature_B, feature_D2, feature_E], axis=1).shape"
   ]
  },
  {
   "cell_type": "code",
   "execution_count": null,
   "metadata": {},
   "outputs": [],
   "source": [
    "df_save = pd.DataFrame()\n",
    "# df = pd.concat([feature_A, feature_B, feature_D2, feature_E, feature_G], axis=1)\n",
    "df_save = pd.concat([feature_A, feature_B, feature_D2, feature_E], axis=1)\n",
    "# df = df.rename(columns={0:\"A\", 1:\"B\", 2: \"D2\", 3:\"E\", 4:\"G\"})\n",
    "df_save = df_save.rename(columns={0:\"A\", 1:\"B\", 2: \"D2\", 3:\"E\"})\n",
    "df_save.to_csv(\"featured_datasets/final_data_featured_2.csv\") #change file name so it does not overwrite"
   ]
  },
  {
   "cell_type": "code",
   "execution_count": null,
   "metadata": {},
   "outputs": [],
   "source": []
  }
 ],
 "metadata": {
  "kernelspec": {
   "display_name": "venv",
   "language": "python",
   "name": "python3"
  },
  "language_info": {
   "codemirror_mode": {
    "name": "ipython",
    "version": 3
   },
   "file_extension": ".py",
   "mimetype": "text/x-python",
   "name": "python",
   "nbconvert_exporter": "python",
   "pygments_lexer": "ipython3",
   "version": "3.12.2"
  }
 },
 "nbformat": 4,
 "nbformat_minor": 4
}
