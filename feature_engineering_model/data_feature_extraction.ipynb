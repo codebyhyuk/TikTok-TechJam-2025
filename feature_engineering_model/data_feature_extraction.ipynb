{
 "cells": [
  {
   "cell_type": "code",
   "execution_count": 1,
   "metadata": {},
   "outputs": [
    {
     "data": {
      "text/html": [
       "<div>\n",
       "<style scoped>\n",
       "    .dataframe tbody tr th:only-of-type {\n",
       "        vertical-align: middle;\n",
       "    }\n",
       "\n",
       "    .dataframe tbody tr th {\n",
       "        vertical-align: top;\n",
       "    }\n",
       "\n",
       "    .dataframe thead th {\n",
       "        text-align: right;\n",
       "    }\n",
       "</style>\n",
       "<table border=\"1\" class=\"dataframe\">\n",
       "  <thead>\n",
       "    <tr style=\"text-align: right;\">\n",
       "      <th></th>\n",
       "      <th>Unnamed: 0</th>\n",
       "      <th>rating</th>\n",
       "      <th>text</th>\n",
       "      <th>business_name</th>\n",
       "      <th>business_category</th>\n",
       "      <th>business_description</th>\n",
       "      <th>_id</th>\n",
       "      <th>policy_label</th>\n",
       "    </tr>\n",
       "  </thead>\n",
       "  <tbody>\n",
       "    <tr>\n",
       "      <th>0</th>\n",
       "      <td>0</td>\n",
       "      <td>5</td>\n",
       "      <td>My husband took me here for my birthday!  The ...</td>\n",
       "      <td>Buona Sera</td>\n",
       "      <td>['Italian restaurant', 'Restaurant']</td>\n",
       "      <td>Casual trattoria serving familiar Italian entr...</td>\n",
       "      <td>1.089786951023629e+20_1507964592497</td>\n",
       "      <td>1</td>\n",
       "    </tr>\n",
       "    <tr>\n",
       "      <th>1</th>\n",
       "      <td>1</td>\n",
       "      <td>4</td>\n",
       "      <td>was a great place.  Now closed. Too bad. We'll...</td>\n",
       "      <td>Buona Sera</td>\n",
       "      <td>['Italian restaurant', 'Restaurant']</td>\n",
       "      <td>Casual trattoria serving familiar Italian entr...</td>\n",
       "      <td>1.124085651879834e+20_1519880201044</td>\n",
       "      <td>1</td>\n",
       "    </tr>\n",
       "    <tr>\n",
       "      <th>2</th>\n",
       "      <td>2</td>\n",
       "      <td>5</td>\n",
       "      <td>cozy, great food. love how you can sign your b...</td>\n",
       "      <td>Buona Sera</td>\n",
       "      <td>['Italian restaurant', 'Restaurant']</td>\n",
       "      <td>Casual trattoria serving familiar Italian entr...</td>\n",
       "      <td>1.1571615809204435e+20_1490033397528</td>\n",
       "      <td>1</td>\n",
       "    </tr>\n",
       "    <tr>\n",
       "      <th>3</th>\n",
       "      <td>3</td>\n",
       "      <td>4</td>\n",
       "      <td>Not your average little Italian joint, don't e...</td>\n",
       "      <td>Buona Sera</td>\n",
       "      <td>['Italian restaurant', 'Restaurant']</td>\n",
       "      <td>Casual trattoria serving familiar Italian entr...</td>\n",
       "      <td>1.181306411818766e+20_1511165172600</td>\n",
       "      <td>1</td>\n",
       "    </tr>\n",
       "    <tr>\n",
       "      <th>4</th>\n",
       "      <td>4</td>\n",
       "      <td>3</td>\n",
       "      <td>Service was great and the mozzarella fritta an...</td>\n",
       "      <td>Buona Sera</td>\n",
       "      <td>['Italian restaurant', 'Restaurant']</td>\n",
       "      <td>Casual trattoria serving familiar Italian entr...</td>\n",
       "      <td>1.1430211684992369e+20_1505179108178</td>\n",
       "      <td>1</td>\n",
       "    </tr>\n",
       "  </tbody>\n",
       "</table>\n",
       "</div>"
      ],
      "text/plain": [
       "   Unnamed: 0  rating                                               text  \\\n",
       "0           0       5  My husband took me here for my birthday!  The ...   \n",
       "1           1       4  was a great place.  Now closed. Too bad. We'll...   \n",
       "2           2       5  cozy, great food. love how you can sign your b...   \n",
       "3           3       4  Not your average little Italian joint, don't e...   \n",
       "4           4       3  Service was great and the mozzarella fritta an...   \n",
       "\n",
       "  business_name                     business_category  \\\n",
       "0    Buona Sera  ['Italian restaurant', 'Restaurant']   \n",
       "1    Buona Sera  ['Italian restaurant', 'Restaurant']   \n",
       "2    Buona Sera  ['Italian restaurant', 'Restaurant']   \n",
       "3    Buona Sera  ['Italian restaurant', 'Restaurant']   \n",
       "4    Buona Sera  ['Italian restaurant', 'Restaurant']   \n",
       "\n",
       "                                business_description  \\\n",
       "0  Casual trattoria serving familiar Italian entr...   \n",
       "1  Casual trattoria serving familiar Italian entr...   \n",
       "2  Casual trattoria serving familiar Italian entr...   \n",
       "3  Casual trattoria serving familiar Italian entr...   \n",
       "4  Casual trattoria serving familiar Italian entr...   \n",
       "\n",
       "                                    _id  policy_label  \n",
       "0   1.089786951023629e+20_1507964592497             1  \n",
       "1   1.124085651879834e+20_1519880201044             1  \n",
       "2  1.1571615809204435e+20_1490033397528             1  \n",
       "3   1.181306411818766e+20_1511165172600             1  \n",
       "4  1.1430211684992369e+20_1505179108178             1  "
      ]
     },
     "execution_count": 1,
     "metadata": {},
     "output_type": "execute_result"
    }
   ],
   "source": [
    "import pandas as pd\n",
    "\n",
    "df = pd.read_csv(\"../data_gpt_labeler/final_data_labeled_1.csv\")\n",
    "df.head()"
   ]
  },
  {
   "cell_type": "code",
   "execution_count": 15,
   "metadata": {},
   "outputs": [
    {
     "name": "stderr",
     "output_type": "stream",
     "text": [
      "[nltk_data] Downloading package wordnet to /Users/yumin/nltk_data...\n",
      "[nltk_data]   Package wordnet is already up-to-date!\n"
     ]
    },
    {
     "name": "stdout",
     "output_type": "stream",
     "text": [
      "0       0.226304\n",
      "1       0.013471\n",
      "2       0.011281\n",
      "3       0.121243\n",
      "4       0.010963\n",
      "          ...   \n",
      "9995    0.346210\n",
      "9996    0.288726\n",
      "9997    0.385898\n",
      "9998    0.023491\n",
      "9999    0.139411\n",
      "Length: 10000, dtype: float64\n"
     ]
    }
   ],
   "source": [
    "from modules.policy_A_module import policy_A_feature_generation\n",
    "feature_A = policy_A_feature_generation(df)\n",
    "print(feature_A)"
   ]
  },
  {
   "cell_type": "code",
   "execution_count": 3,
   "metadata": {},
   "outputs": [
    {
     "name": "stderr",
     "output_type": "stream",
     "text": [
      "[nltk_data] Downloading package averaged_perceptron_tagger to\n",
      "[nltk_data]     /Users/yumin/nltk_data...\n",
      "[nltk_data]   Package averaged_perceptron_tagger is already up-to-\n",
      "[nltk_data]       date!\n",
      "[nltk_data] Downloading package maxent_ne_chunker to\n",
      "[nltk_data]     /Users/yumin/nltk_data...\n",
      "[nltk_data]   Package maxent_ne_chunker is already up-to-date!\n",
      "[nltk_data] Downloading package words to /Users/yumin/nltk_data...\n",
      "[nltk_data]   Package words is already up-to-date!\n"
     ]
    }
   ],
   "source": [
    "from modules.policy_B_module import calculate_specificity_score\n",
    "feature_B = calculate_specificity_score(df, n_workers=8)"
   ]
  },
  {
   "cell_type": "code",
   "execution_count": 7,
   "metadata": {},
   "outputs": [
    {
     "name": "stderr",
     "output_type": "stream",
     "text": [
      "python(2676) MallocStackLogging: can't turn off malloc stack logging because it was not enabled.\n",
      "python(2677) MallocStackLogging: can't turn off malloc stack logging because it was not enabled.\n",
      "python(2678) MallocStackLogging: can't turn off malloc stack logging because it was not enabled.\n",
      "python(2679) MallocStackLogging: can't turn off malloc stack logging because it was not enabled.\n",
      "python(2680) MallocStackLogging: can't turn off malloc stack logging because it was not enabled.\n",
      "python(2681) MallocStackLogging: can't turn off malloc stack logging because it was not enabled.\n",
      "python(2682) MallocStackLogging: can't turn off malloc stack logging because it was not enabled.\n",
      "python(2683) MallocStackLogging: can't turn off malloc stack logging because it was not enabled.\n"
     ]
    }
   ],
   "source": [
    "from modules.policy_D2_module import calculate_interpretability_scores_for_df\n",
    "feature_D2 = calculate_interpretability_scores_for_df(df, n_workers=8)"
   ]
  },
  {
   "cell_type": "code",
   "execution_count": 12,
   "metadata": {},
   "outputs": [],
   "source": [
    "df = pd.DataFrame()\n",
    "df = pd.concat([feature_A, feature_B, feature_D2], axis=1)\n",
    "df = df.rename(columns={0:\"A\", 1:\"B\", 2: \"D2\"})\n",
    "df.to_csv(\"temp.csv\")"
   ]
  },
  {
   "cell_type": "code",
   "execution_count": 16,
   "metadata": {},
   "outputs": [
    {
     "name": "stderr",
     "output_type": "stream",
     "text": [
      "python(3537) MallocStackLogging: can't turn off malloc stack logging because it was not enabled.\n",
      "python(3538) MallocStackLogging: can't turn off malloc stack logging because it was not enabled.\n",
      "python(3539) MallocStackLogging: can't turn off malloc stack logging because it was not enabled.\n",
      "python(3540) MallocStackLogging: can't turn off malloc stack logging because it was not enabled.\n",
      "python(3541) MallocStackLogging: can't turn off malloc stack logging because it was not enabled.\n",
      "python(3542) MallocStackLogging: can't turn off malloc stack logging because it was not enabled.\n",
      "python(3543) MallocStackLogging: can't turn off malloc stack logging because it was not enabled.\n",
      "python(3544) MallocStackLogging: can't turn off malloc stack logging because it was not enabled.\n",
      "Some weights of the model checkpoint at cardiffnlp/twitter-roberta-base-sentiment-latest were not used when initializing RobertaForSequenceClassification: ['roberta.pooler.dense.bias', 'roberta.pooler.dense.weight']\n",
      "- This IS expected if you are initializing RobertaForSequenceClassification from the checkpoint of a model trained on another task or with another architecture (e.g. initializing a BertForSequenceClassification model from a BertForPreTraining model).\n",
      "- This IS NOT expected if you are initializing RobertaForSequenceClassification from the checkpoint of a model that you expect to be exactly identical (initializing a BertForSequenceClassification model from a BertForSequenceClassification model).\n",
      "Some weights of the model checkpoint at cardiffnlp/twitter-roberta-base-sentiment-latest were not used when initializing RobertaForSequenceClassification: ['roberta.pooler.dense.bias', 'roberta.pooler.dense.weight']\n",
      "- This IS expected if you are initializing RobertaForSequenceClassification from the checkpoint of a model trained on another task or with another architecture (e.g. initializing a BertForSequenceClassification model from a BertForPreTraining model).\n",
      "- This IS NOT expected if you are initializing RobertaForSequenceClassification from the checkpoint of a model that you expect to be exactly identical (initializing a BertForSequenceClassification model from a BertForSequenceClassification model).\n",
      "Some weights of the model checkpoint at cardiffnlp/twitter-roberta-base-sentiment-latest were not used when initializing RobertaForSequenceClassification: ['roberta.pooler.dense.bias', 'roberta.pooler.dense.weight']\n",
      "- This IS expected if you are initializing RobertaForSequenceClassification from the checkpoint of a model trained on another task or with another architecture (e.g. initializing a BertForSequenceClassification model from a BertForPreTraining model).\n",
      "- This IS NOT expected if you are initializing RobertaForSequenceClassification from the checkpoint of a model that you expect to be exactly identical (initializing a BertForSequenceClassification model from a BertForSequenceClassification model).\n",
      "Some weights of the model checkpoint at cardiffnlp/twitter-roberta-base-sentiment-latest were not used when initializing RobertaForSequenceClassification: ['roberta.pooler.dense.bias', 'roberta.pooler.dense.weight']\n",
      "- This IS expected if you are initializing RobertaForSequenceClassification from the checkpoint of a model trained on another task or with another architecture (e.g. initializing a BertForSequenceClassification model from a BertForPreTraining model).\n",
      "- This IS NOT expected if you are initializing RobertaForSequenceClassification from the checkpoint of a model that you expect to be exactly identical (initializing a BertForSequenceClassification model from a BertForSequenceClassification model).\n",
      "Some weights of the model checkpoint at cardiffnlp/twitter-roberta-base-sentiment-latest were not used when initializing RobertaForSequenceClassification: ['roberta.pooler.dense.bias', 'roberta.pooler.dense.weight']\n",
      "- This IS expected if you are initializing RobertaForSequenceClassification from the checkpoint of a model trained on another task or with another architecture (e.g. initializing a BertForSequenceClassification model from a BertForPreTraining model).\n",
      "- This IS NOT expected if you are initializing RobertaForSequenceClassification from the checkpoint of a model that you expect to be exactly identical (initializing a BertForSequenceClassification model from a BertForSequenceClassification model).\n",
      "Some weights of the model checkpoint at cardiffnlp/twitter-roberta-base-sentiment-latest were not used when initializing RobertaForSequenceClassification: ['roberta.pooler.dense.bias', 'roberta.pooler.dense.weight']\n",
      "- This IS expected if you are initializing RobertaForSequenceClassification from the checkpoint of a model trained on another task or with another architecture (e.g. initializing a BertForSequenceClassification model from a BertForPreTraining model).\n",
      "- This IS NOT expected if you are initializing RobertaForSequenceClassification from the checkpoint of a model that you expect to be exactly identical (initializing a BertForSequenceClassification model from a BertForSequenceClassification model).\n",
      "Some weights of the model checkpoint at cardiffnlp/twitter-roberta-base-sentiment-latest were not used when initializing RobertaForSequenceClassification: ['roberta.pooler.dense.bias', 'roberta.pooler.dense.weight']\n",
      "- This IS expected if you are initializing RobertaForSequenceClassification from the checkpoint of a model trained on another task or with another architecture (e.g. initializing a BertForSequenceClassification model from a BertForPreTraining model).\n",
      "- This IS NOT expected if you are initializing RobertaForSequenceClassification from the checkpoint of a model that you expect to be exactly identical (initializing a BertForSequenceClassification model from a BertForSequenceClassification model).\n",
      "Some weights of the model checkpoint at cardiffnlp/twitter-roberta-base-sentiment-latest were not used when initializing RobertaForSequenceClassification: ['roberta.pooler.dense.bias', 'roberta.pooler.dense.weight']\n",
      "- This IS expected if you are initializing RobertaForSequenceClassification from the checkpoint of a model trained on another task or with another architecture (e.g. initializing a BertForSequenceClassification model from a BertForPreTraining model).\n",
      "- This IS NOT expected if you are initializing RobertaForSequenceClassification from the checkpoint of a model that you expect to be exactly identical (initializing a BertForSequenceClassification model from a BertForSequenceClassification model).\n"
     ]
    }
   ],
   "source": [
    "from modules.policy_E_module import compute_consistency_scores\n",
    "feature_E = compute_consistency_scores(df, max_workers=8)"
   ]
  },
  {
   "cell_type": "code",
   "execution_count": null,
   "metadata": {},
   "outputs": [
    {
     "name": "stderr",
     "output_type": "stream",
     "text": [
      "/Users/evan/Documents/Projects/TikTok-TechJam-2025/venv/lib/python3.12/site-packages/tqdm/auto.py:21: TqdmWarning: IProgress not found. Please update jupyter and ipywidgets. See https://ipywidgets.readthedocs.io/en/stable/user_install.html\n",
      "  from .autonotebook import tqdm as notebook_tqdm\n"
     ]
    }
   ],
   "source": [
    "# import importlib\n",
    "# import modules.policy_G_module\n",
    "# importlib.reload(modules.policy_G_module)\n",
    "from modules.policy_G_module import compute_policy_g_series_processed\n",
    "feature_G = compute_policy_g_series_processed(df)\n",
    "print(feature_G)"
   ]
  },
  {
   "cell_type": "code",
   "execution_count": 21,
   "metadata": {},
   "outputs": [],
   "source": [
    "df_temp = pd.read_csv(\"temp.csv\")\n",
    "df_temp_2 = pd.concat([df_temp, feature_E], axis=1)\n",
    "df_temp_2 = df_temp_2.rename(columns={0:\"E\"})\n",
    "df_temp_2 = df_temp_2.drop(columns=\"Unnamed: 0\")\n",
    "df_temp_2.to_csv(\"temp.csv\", index=False)"
   ]
  },
  {
   "cell_type": "code",
   "execution_count": 22,
   "metadata": {},
   "outputs": [
    {
     "data": {
      "text/html": [
       "<div>\n",
       "<style scoped>\n",
       "    .dataframe tbody tr th:only-of-type {\n",
       "        vertical-align: middle;\n",
       "    }\n",
       "\n",
       "    .dataframe tbody tr th {\n",
       "        vertical-align: top;\n",
       "    }\n",
       "\n",
       "    .dataframe thead th {\n",
       "        text-align: right;\n",
       "    }\n",
       "</style>\n",
       "<table border=\"1\" class=\"dataframe\">\n",
       "  <thead>\n",
       "    <tr style=\"text-align: right;\">\n",
       "      <th></th>\n",
       "      <th>A</th>\n",
       "      <th>B</th>\n",
       "      <th>D2</th>\n",
       "      <th>E</th>\n",
       "    </tr>\n",
       "  </thead>\n",
       "  <tbody>\n",
       "    <tr>\n",
       "      <th>0</th>\n",
       "      <td>0.126823</td>\n",
       "      <td>0.581653</td>\n",
       "      <td>0.660104</td>\n",
       "      <td>0.993421</td>\n",
       "    </tr>\n",
       "    <tr>\n",
       "      <th>1</th>\n",
       "      <td>0.066522</td>\n",
       "      <td>0.565305</td>\n",
       "      <td>0.620909</td>\n",
       "      <td>0.360918</td>\n",
       "    </tr>\n",
       "    <tr>\n",
       "      <th>2</th>\n",
       "      <td>0.158263</td>\n",
       "      <td>0.575038</td>\n",
       "      <td>0.551840</td>\n",
       "      <td>0.987322</td>\n",
       "    </tr>\n",
       "    <tr>\n",
       "      <th>3</th>\n",
       "      <td>0.062633</td>\n",
       "      <td>0.575837</td>\n",
       "      <td>0.630236</td>\n",
       "      <td>0.859828</td>\n",
       "    </tr>\n",
       "    <tr>\n",
       "      <th>4</th>\n",
       "      <td>0.005904</td>\n",
       "      <td>0.572793</td>\n",
       "      <td>0.792418</td>\n",
       "      <td>0.901759</td>\n",
       "    </tr>\n",
       "    <tr>\n",
       "      <th>...</th>\n",
       "      <td>...</td>\n",
       "      <td>...</td>\n",
       "      <td>...</td>\n",
       "      <td>...</td>\n",
       "    </tr>\n",
       "    <tr>\n",
       "      <th>9995</th>\n",
       "      <td>0.353107</td>\n",
       "      <td>0.584095</td>\n",
       "      <td>0.609373</td>\n",
       "      <td>0.986010</td>\n",
       "    </tr>\n",
       "    <tr>\n",
       "      <th>9996</th>\n",
       "      <td>0.407681</td>\n",
       "      <td>0.572810</td>\n",
       "      <td>0.561827</td>\n",
       "      <td>0.803679</td>\n",
       "    </tr>\n",
       "    <tr>\n",
       "      <th>9997</th>\n",
       "      <td>0.129818</td>\n",
       "      <td>0.583600</td>\n",
       "      <td>0.596096</td>\n",
       "      <td>0.905910</td>\n",
       "    </tr>\n",
       "    <tr>\n",
       "      <th>9998</th>\n",
       "      <td>0.024677</td>\n",
       "      <td>0.561784</td>\n",
       "      <td>0.500000</td>\n",
       "      <td>0.767955</td>\n",
       "    </tr>\n",
       "    <tr>\n",
       "      <th>9999</th>\n",
       "      <td>0.298661</td>\n",
       "      <td>0.572159</td>\n",
       "      <td>0.588138</td>\n",
       "      <td>0.982511</td>\n",
       "    </tr>\n",
       "  </tbody>\n",
       "</table>\n",
       "<p>10000 rows × 4 columns</p>\n",
       "</div>"
      ],
      "text/plain": [
       "             A         B        D2         E\n",
       "0     0.126823  0.581653  0.660104  0.993421\n",
       "1     0.066522  0.565305  0.620909  0.360918\n",
       "2     0.158263  0.575038  0.551840  0.987322\n",
       "3     0.062633  0.575837  0.630236  0.859828\n",
       "4     0.005904  0.572793  0.792418  0.901759\n",
       "...        ...       ...       ...       ...\n",
       "9995  0.353107  0.584095  0.609373  0.986010\n",
       "9996  0.407681  0.572810  0.561827  0.803679\n",
       "9997  0.129818  0.583600  0.596096  0.905910\n",
       "9998  0.024677  0.561784  0.500000  0.767955\n",
       "9999  0.298661  0.572159  0.588138  0.982511\n",
       "\n",
       "[10000 rows x 4 columns]"
      ]
     },
     "execution_count": 22,
     "metadata": {},
     "output_type": "execute_result"
    }
   ],
   "source": [
    "df_check = pd.read_csv(\"temp.csv\")\n",
    "df_check"
   ]
  },
  {
   "cell_type": "code",
   "execution_count": null,
   "metadata": {},
   "outputs": [
    {
     "name": "stderr",
     "output_type": "stream",
     "text": [
      "python(6664) MallocStackLogging: can't turn off malloc stack logging because it was not enabled.\n"
     ]
    },
    {
     "name": "stdout",
     "output_type": "stream",
     "text": [
      "model uploaded\n",
      "append complete\n",
      "0     0.263324\n",
      "1     0.251285\n",
      "2     0.250274\n",
      "3     0.250229\n",
      "4     0.250013\n",
      "        ...   \n",
      "95    0.250280\n",
      "96    0.250419\n",
      "97    0.255028\n",
      "98    0.250016\n",
      "99    0.250104\n",
      "Name: policy_F_S_intent, Length: 100, dtype: float64\n"
     ]
    }
   ],
   "source": [
    "import importlib\n",
    "import modules.policy_F_module\n",
    "importlib.reload(modules.policy_F_module)\n",
    "from modules.policy_F_module import compute_policy_f_scores_processes\n",
    "feature_F = compute_policy_f_scores_processes(df.head(100))\n",
    "print(feature_F)"
   ]
  },
  {
   "cell_type": "code",
   "execution_count": null,
   "metadata": {},
   "outputs": [],
   "source": []
  }
 ],
 "metadata": {
  "kernelspec": {
   "display_name": "venv",
   "language": "python",
   "name": "python3"
  },
  "language_info": {
   "codemirror_mode": {
    "name": "ipython",
    "version": 3
   },
   "file_extension": ".py",
   "mimetype": "text/x-python",
   "name": "python",
   "nbconvert_exporter": "python",
   "pygments_lexer": "ipython3",
   "version": "3.12.2"
  }
 },
 "nbformat": 4,
 "nbformat_minor": 4
}
