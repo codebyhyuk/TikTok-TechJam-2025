{
 "cells": [
  {
   "cell_type": "code",
   "execution_count": 1,
   "metadata": {},
   "outputs": [
    {
     "data": {
      "text/plain": [
       "(40000, 8)"
      ]
     },
     "execution_count": 1,
     "metadata": {},
     "output_type": "execute_result"
    }
   ],
   "source": [
    "import pandas as pd\n",
    "df1 = pd.read_csv(\"../data_gpt_labeler/labeled_datasets/final_data_labeled_1.csv\")\n",
    "df2 = pd.read_csv(\"../data_gpt_labeler/labeled_datasets/final_data_labeled_2.csv\")\n",
    "df3 = pd.read_csv(\"../data_gpt_labeler/labeled_datasets/final_data_labeled_3.csv\")\n",
    "df6 = pd.read_csv(\"../data_gpt_labeler/labeled_datasets/final_data_labeled_6.csv\")\n",
    "df = pd.concat([df1, df2, df3, df6])\n",
    "df.shape"
   ]
  },
  {
   "cell_type": "code",
   "execution_count": 2,
   "metadata": {},
   "outputs": [],
   "source": [
    "# Filtering data\n",
    "filtered_df = df[df['policy_label'].notna()].reset_index(drop=True).copy()\n",
    "filtered_df = filtered_df.drop(columns=\"Unnamed: 0\")\n",
    "filtered_df.to_csv(\"../final_lda_train_data.csv\", index=False)"
   ]
  },
  {
   "cell_type": "markdown",
   "metadata": {},
   "source": [
    "### Feature A"
   ]
  },
  {
   "cell_type": "code",
   "execution_count": 7,
   "metadata": {},
   "outputs": [
    {
     "name": "stderr",
     "output_type": "stream",
     "text": [
      "[nltk_data] Downloading package wordnet to /Users/yumin/nltk_data...\n",
      "[nltk_data]   Package wordnet is already up-to-date!\n",
      "[nltk_data] Downloading package wordnet to /Users/yumin/nltk_data...\n",
      "[nltk_data]   Package wordnet is already up-to-date!\n"
     ]
    }
   ],
   "source": [
    "from modules.policy_A_module import policy_A_feature_generation\n",
    "feature_A = policy_A_feature_generation(filtered_df)"
   ]
  },
  {
   "cell_type": "markdown",
   "metadata": {},
   "source": [
    "### Feature B"
   ]
  },
  {
   "cell_type": "code",
   "execution_count": 8,
   "metadata": {},
   "outputs": [
    {
     "name": "stderr",
     "output_type": "stream",
     "text": [
      "[nltk_data] Downloading package averaged_perceptron_tagger to\n",
      "[nltk_data]     /Users/yumin/nltk_data...\n",
      "[nltk_data]   Package averaged_perceptron_tagger is already up-to-\n",
      "[nltk_data]       date!\n",
      "[nltk_data] Downloading package maxent_ne_chunker to\n",
      "[nltk_data]     /Users/yumin/nltk_data...\n",
      "[nltk_data]   Package maxent_ne_chunker is already up-to-date!\n",
      "[nltk_data] Downloading package words to /Users/yumin/nltk_data...\n",
      "[nltk_data]   Package words is already up-to-date!\n"
     ]
    }
   ],
   "source": [
    "from modules.policy_B_module import calculate_specificity_score\n",
    "feature_B = calculate_specificity_score(filtered_df, n_workers=4)"
   ]
  },
  {
   "cell_type": "markdown",
   "metadata": {},
   "source": [
    "### Feature D2"
   ]
  },
  {
   "cell_type": "code",
   "execution_count": 9,
   "metadata": {},
   "outputs": [
    {
     "name": "stderr",
     "output_type": "stream",
     "text": [
      "/Users/yumin/Documents/GitHub/TikTok-TechJam-2025/venv/lib/python3.12/site-packages/tqdm/auto.py:21: TqdmWarning: IProgress not found. Please update jupyter and ipywidgets. See https://ipywidgets.readthedocs.io/en/stable/user_install.html\n",
      "  from .autonotebook import tqdm as notebook_tqdm\n"
     ]
    }
   ],
   "source": [
    "from modules.policy_D2_module import calculate_interpretability_scores_for_df\n",
    "feature_D2 = calculate_interpretability_scores_for_df(filtered_df, n_workers=4)"
   ]
  },
  {
   "cell_type": "markdown",
   "metadata": {},
   "source": [
    "### Feature E"
   ]
  },
  {
   "cell_type": "code",
   "execution_count": 11,
   "metadata": {},
   "outputs": [
    {
     "name": "stderr",
     "output_type": "stream",
     "text": [
      "Some weights of the model checkpoint at cardiffnlp/twitter-roberta-base-sentiment-latest were not used when initializing RobertaForSequenceClassification: ['roberta.pooler.dense.bias', 'roberta.pooler.dense.weight']\n",
      "- This IS expected if you are initializing RobertaForSequenceClassification from the checkpoint of a model trained on another task or with another architecture (e.g. initializing a BertForSequenceClassification model from a BertForPreTraining model).\n",
      "- This IS NOT expected if you are initializing RobertaForSequenceClassification from the checkpoint of a model that you expect to be exactly identical (initializing a BertForSequenceClassification model from a BertForSequenceClassification model).\n",
      "Some weights of the model checkpoint at cardiffnlp/twitter-roberta-base-sentiment-latest were not used when initializing RobertaForSequenceClassification: ['roberta.pooler.dense.bias', 'roberta.pooler.dense.weight']\n",
      "- This IS expected if you are initializing RobertaForSequenceClassification from the checkpoint of a model trained on another task or with another architecture (e.g. initializing a BertForSequenceClassification model from a BertForPreTraining model).\n",
      "- This IS NOT expected if you are initializing RobertaForSequenceClassification from the checkpoint of a model that you expect to be exactly identical (initializing a BertForSequenceClassification model from a BertForSequenceClassification model).\n"
     ]
    }
   ],
   "source": [
    "from modules.policy_E_module import compute_consistency_scores\n",
    "feature_E = compute_consistency_scores(filtered_df, max_workers=2)"
   ]
  },
  {
   "cell_type": "markdown",
   "metadata": {},
   "source": [
    "### Feature G"
   ]
  },
  {
   "cell_type": "code",
   "execution_count": 31,
   "metadata": {},
   "outputs": [],
   "source": [
    "from modules.policy_G_module import compute_policy_g_series_processed\n",
    "\n",
    "\n",
    "\n",
    "feature_G = compute_policy_g_series_processed(filtered_df)"
   ]
  },
  {
   "cell_type": "code",
   "execution_count": 32,
   "metadata": {},
   "outputs": [
    {
     "name": "stdout",
     "output_type": "stream",
     "text": [
      "0       0.990305\n",
      "1       0.999477\n",
      "2       0.999410\n",
      "3       0.977368\n",
      "4       0.999571\n",
      "          ...   \n",
      "9914    0.999582\n",
      "9915    0.999487\n",
      "9916    0.957214\n",
      "9917    0.999015\n",
      "9918    0.999614\n",
      "Name: policy_G_S_toxicity, Length: 9919, dtype: float64\n"
     ]
    }
   ],
   "source": [
    "print(feature_G)"
   ]
  },
  {
   "cell_type": "markdown",
   "metadata": {},
   "source": [
    "### Concat Data into New CSV"
   ]
  },
  {
   "cell_type": "code",
   "execution_count": 33,
   "metadata": {},
   "outputs": [
    {
     "name": "stdout",
     "output_type": "stream",
     "text": [
      "      Unnamed: 0         A         B        D2         E\n",
      "0              0  0.755270  0.553070  0.500000  0.750000\n",
      "1              1  0.007409  0.559989  0.500000  0.986859\n",
      "2              2  0.007982  0.552950  0.624615  0.645319\n",
      "3              3  0.005442  0.574159  0.645191  0.707052\n",
      "4              4  0.011812  0.569315  0.500000  0.989223\n",
      "...          ...       ...       ...       ...       ...\n",
      "9914        9914  0.008216  0.549692  0.500000  0.773126\n",
      "9915        9915  0.484086  0.553054  0.576117  0.942918\n",
      "9916        9916  0.007779  0.544649  0.500000  0.979812\n",
      "9917        9917  0.010173  0.536573  0.500000  0.796173\n",
      "9918        9918  0.557961  0.530914  0.500000  0.984082\n",
      "\n",
      "[9919 rows x 5 columns]\n"
     ]
    }
   ],
   "source": [
    "df_featured_6 = pd.read_csv('../feature_engineering_model/featured_datasets/final_data_featured_6.csv')\n",
    "print(df_featured_6)\n"
   ]
  },
  {
   "cell_type": "code",
   "execution_count": 34,
   "metadata": {},
   "outputs": [
    {
     "name": "stdout",
     "output_type": "stream",
     "text": [
      "      Unnamed: 0         A         B        D2         E  policy_G_S_toxicity\n",
      "0              0  0.755270  0.553070  0.500000  0.750000             0.990305\n",
      "1              1  0.007409  0.559989  0.500000  0.986859             0.999477\n",
      "2              2  0.007982  0.552950  0.624615  0.645319             0.999410\n",
      "3              3  0.005442  0.574159  0.645191  0.707052             0.977368\n",
      "4              4  0.011812  0.569315  0.500000  0.989223             0.999571\n",
      "...          ...       ...       ...       ...       ...                  ...\n",
      "9914        9914  0.008216  0.549692  0.500000  0.773126             0.999582\n",
      "9915        9915  0.484086  0.553054  0.576117  0.942918             0.999487\n",
      "9916        9916  0.007779  0.544649  0.500000  0.979812             0.957214\n",
      "9917        9917  0.010173  0.536573  0.500000  0.796173             0.999015\n",
      "9918        9918  0.557961  0.530914  0.500000  0.984082             0.999614\n",
      "\n",
      "[9919 rows x 6 columns]\n"
     ]
    }
   ],
   "source": [
    "df_temp = pd.concat([df_featured_6, feature_G], axis = 1)\n",
    "print(df_temp)"
   ]
  },
  {
   "cell_type": "code",
   "execution_count": 35,
   "metadata": {},
   "outputs": [
    {
     "name": "stdout",
     "output_type": "stream",
     "text": [
      "      Unnamed: 0         A         B        D2         E         G\n",
      "0              0  0.755270  0.553070  0.500000  0.750000  0.990305\n",
      "1              1  0.007409  0.559989  0.500000  0.986859  0.999477\n",
      "2              2  0.007982  0.552950  0.624615  0.645319  0.999410\n",
      "3              3  0.005442  0.574159  0.645191  0.707052  0.977368\n",
      "4              4  0.011812  0.569315  0.500000  0.989223  0.999571\n",
      "...          ...       ...       ...       ...       ...       ...\n",
      "9914        9914  0.008216  0.549692  0.500000  0.773126  0.999582\n",
      "9915        9915  0.484086  0.553054  0.576117  0.942918  0.999487\n",
      "9916        9916  0.007779  0.544649  0.500000  0.979812  0.957214\n",
      "9917        9917  0.010173  0.536573  0.500000  0.796173  0.999015\n",
      "9918        9918  0.557961  0.530914  0.500000  0.984082  0.999614\n",
      "\n",
      "[9919 rows x 6 columns]\n"
     ]
    }
   ],
   "source": [
    "df_temp = df_temp.rename(columns={\"policy_G_S_toxicity\":\"G\"})\n",
    "print(df_temp)"
   ]
  },
  {
   "cell_type": "code",
   "execution_count": 36,
   "metadata": {},
   "outputs": [],
   "source": [
    "df_temp.to_csv(\"featured_datasets/final_data_featured_6.csv\") #change file name so it does not overwrite"
   ]
  },
  {
   "cell_type": "code",
   "execution_count": 38,
   "metadata": {},
   "outputs": [
    {
     "name": "stdout",
     "output_type": "stream",
     "text": [
      "      Unnamed: 0.1  Unnamed: 0         A         B        D2         E  \\\n",
      "0                0           0  0.755270  0.553070  0.500000  0.750000   \n",
      "1                1           1  0.007409  0.559989  0.500000  0.986859   \n",
      "2                2           2  0.007982  0.552950  0.624615  0.645319   \n",
      "3                3           3  0.005442  0.574159  0.645191  0.707052   \n",
      "4                4           4  0.011812  0.569315  0.500000  0.989223   \n",
      "...            ...         ...       ...       ...       ...       ...   \n",
      "9914          9914        9914  0.008216  0.549692  0.500000  0.773126   \n",
      "9915          9915        9915  0.484086  0.553054  0.576117  0.942918   \n",
      "9916          9916        9916  0.007779  0.544649  0.500000  0.979812   \n",
      "9917          9917        9917  0.010173  0.536573  0.500000  0.796173   \n",
      "9918          9918        9918  0.557961  0.530914  0.500000  0.984082   \n",
      "\n",
      "             G  \n",
      "0     0.990305  \n",
      "1     0.999477  \n",
      "2     0.999410  \n",
      "3     0.977368  \n",
      "4     0.999571  \n",
      "...        ...  \n",
      "9914  0.999582  \n",
      "9915  0.999487  \n",
      "9916  0.957214  \n",
      "9917  0.999015  \n",
      "9918  0.999614  \n",
      "\n",
      "[9919 rows x 7 columns]\n"
     ]
    }
   ],
   "source": [
    "final_df = pd.read_csv(\"../feature_engineering_model/featured_datasets/final_data_featured_6.csv\")\n",
    "print(final_df)"
   ]
  },
  {
   "cell_type": "code",
   "execution_count": 12,
   "metadata": {},
   "outputs": [
    {
     "name": "stdout",
     "output_type": "stream",
     "text": [
      "5972 5972 5972 5972\n"
     ]
    },
    {
     "data": {
      "text/plain": [
       "(5972, 4)"
      ]
     },
     "execution_count": 12,
     "metadata": {},
     "output_type": "execute_result"
    }
   ],
   "source": [
    "print(len(feature_A), len(feature_B), len(feature_D2), len(feature_E))\n",
    "pd.concat([feature_A, feature_B, feature_D2, feature_E], axis=1).shape"
   ]
  },
  {
   "cell_type": "code",
   "execution_count": null,
   "metadata": {},
   "outputs": [],
   "source": [
    "df_save = pd.DataFrame()\n",
    "# df = pd.concat([feature_A, feature_B, feature_D2, feature_E, feature_G], axis=1)\n",
    "df_save = pd.concat([feature_A, feature_B, feature_D2, feature_E], axis=1)\n",
    "# df = df.rename(columns={0:\"A\", 1:\"B\", 2: \"D2\", 3:\"E\", 4:\"G\"})\n",
    "df_save = df_save.rename(columns={0:\"A\", 1:\"B\", 2: \"D2\", 3:\"E\"})\n",
    "df_save.to_csv(\"featured_datasets/final_data_featured_2.csv\") #change file name so it does not overwrite"
   ]
  },
  {
   "cell_type": "code",
   "execution_count": 11,
   "metadata": {},
   "outputs": [
    {
     "data": {
      "text/html": [
       "<div>\n",
       "<style scoped>\n",
       "    .dataframe tbody tr th:only-of-type {\n",
       "        vertical-align: middle;\n",
       "    }\n",
       "\n",
       "    .dataframe tbody tr th {\n",
       "        vertical-align: top;\n",
       "    }\n",
       "\n",
       "    .dataframe thead th {\n",
       "        text-align: right;\n",
       "    }\n",
       "</style>\n",
       "<table border=\"1\" class=\"dataframe\">\n",
       "  <thead>\n",
       "    <tr style=\"text-align: right;\">\n",
       "      <th></th>\n",
       "      <th>A</th>\n",
       "      <th>B</th>\n",
       "      <th>D2</th>\n",
       "      <th>E</th>\n",
       "      <th>G</th>\n",
       "      <th>policy_label</th>\n",
       "    </tr>\n",
       "  </thead>\n",
       "  <tbody>\n",
       "    <tr>\n",
       "      <th>0</th>\n",
       "      <td>0.151367</td>\n",
       "      <td>0.581653</td>\n",
       "      <td>0.660104</td>\n",
       "      <td>0.993421</td>\n",
       "      <td>0.999407</td>\n",
       "      <td>1.0</td>\n",
       "    </tr>\n",
       "    <tr>\n",
       "      <th>1</th>\n",
       "      <td>0.014161</td>\n",
       "      <td>0.565305</td>\n",
       "      <td>0.620909</td>\n",
       "      <td>0.360918</td>\n",
       "      <td>0.997275</td>\n",
       "      <td>1.0</td>\n",
       "    </tr>\n",
       "    <tr>\n",
       "      <th>2</th>\n",
       "      <td>0.009880</td>\n",
       "      <td>0.575038</td>\n",
       "      <td>0.551840</td>\n",
       "      <td>0.987322</td>\n",
       "      <td>0.999049</td>\n",
       "      <td>1.0</td>\n",
       "    </tr>\n",
       "    <tr>\n",
       "      <th>3</th>\n",
       "      <td>0.143038</td>\n",
       "      <td>0.575837</td>\n",
       "      <td>0.630236</td>\n",
       "      <td>0.859828</td>\n",
       "      <td>0.999422</td>\n",
       "      <td>1.0</td>\n",
       "    </tr>\n",
       "    <tr>\n",
       "      <th>4</th>\n",
       "      <td>0.384205</td>\n",
       "      <td>0.572793</td>\n",
       "      <td>0.792418</td>\n",
       "      <td>0.901759</td>\n",
       "      <td>0.999557</td>\n",
       "      <td>1.0</td>\n",
       "    </tr>\n",
       "    <tr>\n",
       "      <th>...</th>\n",
       "      <td>...</td>\n",
       "      <td>...</td>\n",
       "      <td>...</td>\n",
       "      <td>...</td>\n",
       "      <td>...</td>\n",
       "      <td>...</td>\n",
       "    </tr>\n",
       "    <tr>\n",
       "      <th>31115</th>\n",
       "      <td>0.007734</td>\n",
       "      <td>0.549692</td>\n",
       "      <td>0.500000</td>\n",
       "      <td>0.773126</td>\n",
       "      <td>0.999582</td>\n",
       "      <td>1.0</td>\n",
       "    </tr>\n",
       "    <tr>\n",
       "      <th>31116</th>\n",
       "      <td>0.078986</td>\n",
       "      <td>0.553054</td>\n",
       "      <td>0.576117</td>\n",
       "      <td>0.942918</td>\n",
       "      <td>0.999487</td>\n",
       "      <td>1.0</td>\n",
       "    </tr>\n",
       "    <tr>\n",
       "      <th>31117</th>\n",
       "      <td>0.009356</td>\n",
       "      <td>0.544649</td>\n",
       "      <td>0.500000</td>\n",
       "      <td>0.979812</td>\n",
       "      <td>0.957214</td>\n",
       "      <td>1.0</td>\n",
       "    </tr>\n",
       "    <tr>\n",
       "      <th>31118</th>\n",
       "      <td>0.012299</td>\n",
       "      <td>0.536573</td>\n",
       "      <td>0.500000</td>\n",
       "      <td>0.796173</td>\n",
       "      <td>0.999015</td>\n",
       "      <td>1.0</td>\n",
       "    </tr>\n",
       "    <tr>\n",
       "      <th>31119</th>\n",
       "      <td>0.100145</td>\n",
       "      <td>0.530914</td>\n",
       "      <td>0.500000</td>\n",
       "      <td>0.984082</td>\n",
       "      <td>0.999614</td>\n",
       "      <td>1.0</td>\n",
       "    </tr>\n",
       "  </tbody>\n",
       "</table>\n",
       "<p>31120 rows × 6 columns</p>\n",
       "</div>"
      ],
      "text/plain": [
       "              A         B        D2         E         G  policy_label\n",
       "0      0.151367  0.581653  0.660104  0.993421  0.999407           1.0\n",
       "1      0.014161  0.565305  0.620909  0.360918  0.997275           1.0\n",
       "2      0.009880  0.575038  0.551840  0.987322  0.999049           1.0\n",
       "3      0.143038  0.575837  0.630236  0.859828  0.999422           1.0\n",
       "4      0.384205  0.572793  0.792418  0.901759  0.999557           1.0\n",
       "...         ...       ...       ...       ...       ...           ...\n",
       "31115  0.007734  0.549692  0.500000  0.773126  0.999582           1.0\n",
       "31116  0.078986  0.553054  0.576117  0.942918  0.999487           1.0\n",
       "31117  0.009356  0.544649  0.500000  0.979812  0.957214           1.0\n",
       "31118  0.012299  0.536573  0.500000  0.796173  0.999015           1.0\n",
       "31119  0.100145  0.530914  0.500000  0.984082  0.999614           1.0\n",
       "\n",
       "[31120 rows x 6 columns]"
      ]
     },
     "execution_count": 11,
     "metadata": {},
     "output_type": "execute_result"
    }
   ],
   "source": [
    "df_temp = pd.read_csv('../final_data_featured_filtered.csv')\n",
    "df_temp[\"A\"] = feature_A\n",
    "df_temp"
   ]
  },
  {
   "cell_type": "code",
   "execution_count": 13,
   "metadata": {},
   "outputs": [],
   "source": [
    "df_temp.to_csv(\"../final_data_featured_filtered.csv\", index=False) #change file name so it does not overwrite"
   ]
  },
  {
   "cell_type": "code",
   "execution_count": 14,
   "metadata": {},
   "outputs": [
    {
     "data": {
      "text/html": [
       "<div>\n",
       "<style scoped>\n",
       "    .dataframe tbody tr th:only-of-type {\n",
       "        vertical-align: middle;\n",
       "    }\n",
       "\n",
       "    .dataframe tbody tr th {\n",
       "        vertical-align: top;\n",
       "    }\n",
       "\n",
       "    .dataframe thead th {\n",
       "        text-align: right;\n",
       "    }\n",
       "</style>\n",
       "<table border=\"1\" class=\"dataframe\">\n",
       "  <thead>\n",
       "    <tr style=\"text-align: right;\">\n",
       "      <th></th>\n",
       "      <th>A</th>\n",
       "      <th>B</th>\n",
       "      <th>D2</th>\n",
       "      <th>E</th>\n",
       "      <th>G</th>\n",
       "      <th>policy_label</th>\n",
       "    </tr>\n",
       "  </thead>\n",
       "  <tbody>\n",
       "    <tr>\n",
       "      <th>0</th>\n",
       "      <td>0.151367</td>\n",
       "      <td>0.581653</td>\n",
       "      <td>0.660104</td>\n",
       "      <td>0.993421</td>\n",
       "      <td>0.999407</td>\n",
       "      <td>1.0</td>\n",
       "    </tr>\n",
       "    <tr>\n",
       "      <th>1</th>\n",
       "      <td>0.014161</td>\n",
       "      <td>0.565305</td>\n",
       "      <td>0.620909</td>\n",
       "      <td>0.360918</td>\n",
       "      <td>0.997275</td>\n",
       "      <td>1.0</td>\n",
       "    </tr>\n",
       "    <tr>\n",
       "      <th>2</th>\n",
       "      <td>0.009880</td>\n",
       "      <td>0.575038</td>\n",
       "      <td>0.551840</td>\n",
       "      <td>0.987322</td>\n",
       "      <td>0.999049</td>\n",
       "      <td>1.0</td>\n",
       "    </tr>\n",
       "    <tr>\n",
       "      <th>3</th>\n",
       "      <td>0.143038</td>\n",
       "      <td>0.575837</td>\n",
       "      <td>0.630236</td>\n",
       "      <td>0.859828</td>\n",
       "      <td>0.999422</td>\n",
       "      <td>1.0</td>\n",
       "    </tr>\n",
       "    <tr>\n",
       "      <th>4</th>\n",
       "      <td>0.384205</td>\n",
       "      <td>0.572793</td>\n",
       "      <td>0.792418</td>\n",
       "      <td>0.901759</td>\n",
       "      <td>0.999557</td>\n",
       "      <td>1.0</td>\n",
       "    </tr>\n",
       "    <tr>\n",
       "      <th>...</th>\n",
       "      <td>...</td>\n",
       "      <td>...</td>\n",
       "      <td>...</td>\n",
       "      <td>...</td>\n",
       "      <td>...</td>\n",
       "      <td>...</td>\n",
       "    </tr>\n",
       "    <tr>\n",
       "      <th>31115</th>\n",
       "      <td>0.007734</td>\n",
       "      <td>0.549692</td>\n",
       "      <td>0.500000</td>\n",
       "      <td>0.773126</td>\n",
       "      <td>0.999582</td>\n",
       "      <td>1.0</td>\n",
       "    </tr>\n",
       "    <tr>\n",
       "      <th>31116</th>\n",
       "      <td>0.078986</td>\n",
       "      <td>0.553054</td>\n",
       "      <td>0.576117</td>\n",
       "      <td>0.942918</td>\n",
       "      <td>0.999487</td>\n",
       "      <td>1.0</td>\n",
       "    </tr>\n",
       "    <tr>\n",
       "      <th>31117</th>\n",
       "      <td>0.009356</td>\n",
       "      <td>0.544649</td>\n",
       "      <td>0.500000</td>\n",
       "      <td>0.979812</td>\n",
       "      <td>0.957214</td>\n",
       "      <td>1.0</td>\n",
       "    </tr>\n",
       "    <tr>\n",
       "      <th>31118</th>\n",
       "      <td>0.012299</td>\n",
       "      <td>0.536573</td>\n",
       "      <td>0.500000</td>\n",
       "      <td>0.796173</td>\n",
       "      <td>0.999015</td>\n",
       "      <td>1.0</td>\n",
       "    </tr>\n",
       "    <tr>\n",
       "      <th>31119</th>\n",
       "      <td>0.100145</td>\n",
       "      <td>0.530914</td>\n",
       "      <td>0.500000</td>\n",
       "      <td>0.984082</td>\n",
       "      <td>0.999614</td>\n",
       "      <td>1.0</td>\n",
       "    </tr>\n",
       "  </tbody>\n",
       "</table>\n",
       "<p>31120 rows × 6 columns</p>\n",
       "</div>"
      ],
      "text/plain": [
       "              A         B        D2         E         G  policy_label\n",
       "0      0.151367  0.581653  0.660104  0.993421  0.999407           1.0\n",
       "1      0.014161  0.565305  0.620909  0.360918  0.997275           1.0\n",
       "2      0.009880  0.575038  0.551840  0.987322  0.999049           1.0\n",
       "3      0.143038  0.575837  0.630236  0.859828  0.999422           1.0\n",
       "4      0.384205  0.572793  0.792418  0.901759  0.999557           1.0\n",
       "...         ...       ...       ...       ...       ...           ...\n",
       "31115  0.007734  0.549692  0.500000  0.773126  0.999582           1.0\n",
       "31116  0.078986  0.553054  0.576117  0.942918  0.999487           1.0\n",
       "31117  0.009356  0.544649  0.500000  0.979812  0.957214           1.0\n",
       "31118  0.012299  0.536573  0.500000  0.796173  0.999015           1.0\n",
       "31119  0.100145  0.530914  0.500000  0.984082  0.999614           1.0\n",
       "\n",
       "[31120 rows x 6 columns]"
      ]
     },
     "execution_count": 14,
     "metadata": {},
     "output_type": "execute_result"
    }
   ],
   "source": [
    "pd.read_csv(\"../final_data_featured_filtered.csv\")"
   ]
  },
  {
   "cell_type": "code",
   "execution_count": null,
   "metadata": {},
   "outputs": [],
   "source": []
  }
 ],
 "metadata": {
  "kernelspec": {
   "display_name": "myenv2",
   "language": "python",
   "name": "python3"
  },
  "language_info": {
   "codemirror_mode": {
    "name": "ipython",
    "version": 3
   },
   "file_extension": ".py",
   "mimetype": "text/x-python",
   "name": "python",
   "nbconvert_exporter": "python",
   "pygments_lexer": "ipython3",
   "version": "3.12.11"
  }
 },
 "nbformat": 4,
 "nbformat_minor": 4
}
