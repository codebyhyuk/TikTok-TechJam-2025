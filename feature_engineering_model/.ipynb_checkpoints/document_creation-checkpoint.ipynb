{
 "cells": [
  {
   "cell_type": "markdown",
   "metadata": {},
   "source": [
    "# Document Creation for NLP Tasks\n",
    "This notebook loads the Google reviews data and creates two distinct documents for each review:\n",
    "1. **Review Document:** The raw text of the customer review.\n",
    "2. **Business Document:** A concatenation of the business name, category, and description."
   ]
  },
  {
   "cell_type": "code",
   "execution_count": 83,
   "metadata": {},
   "outputs": [],
   "source": [
    "import pandas as pd"
   ]
  },
  {
   "cell_type": "markdown",
   "metadata": {},
   "source": [
    "## 1. Load the data"
   ]
  },
  {
   "cell_type": "code",
   "execution_count": 85,
   "metadata": {},
   "outputs": [],
   "source": [
    "df = pd.read_csv('../data_gpt_labeler/final_data_sampled.csv')"
   ]
  },
  {
   "cell_type": "code",
   "execution_count": 87,
   "metadata": {},
   "outputs": [
    {
     "data": {
      "text/html": [
       "<div>\n",
       "<style scoped>\n",
       "    .dataframe tbody tr th:only-of-type {\n",
       "        vertical-align: middle;\n",
       "    }\n",
       "\n",
       "    .dataframe tbody tr th {\n",
       "        vertical-align: top;\n",
       "    }\n",
       "\n",
       "    .dataframe thead th {\n",
       "        text-align: right;\n",
       "    }\n",
       "</style>\n",
       "<table border=\"1\" class=\"dataframe\">\n",
       "  <thead>\n",
       "    <tr style=\"text-align: right;\">\n",
       "      <th></th>\n",
       "      <th>Unnamed: 0</th>\n",
       "      <th>rating</th>\n",
       "      <th>text</th>\n",
       "      <th>business_name</th>\n",
       "      <th>business_category</th>\n",
       "      <th>business_description</th>\n",
       "      <th>_id</th>\n",
       "    </tr>\n",
       "  </thead>\n",
       "  <tbody>\n",
       "    <tr>\n",
       "      <th>0</th>\n",
       "      <td>848717</td>\n",
       "      <td>5</td>\n",
       "      <td>great for sunset</td>\n",
       "      <td>'Ehukai Beach Park</td>\n",
       "      <td>['Park', 'Public beach', 'Tourist attraction']</td>\n",
       "      <td>Popular surfing beach offering massive wintert...</td>\n",
       "      <td>1.1426748616291053e+20_1589655333572</td>\n",
       "    </tr>\n",
       "    <tr>\n",
       "      <th>1</th>\n",
       "      <td>848703</td>\n",
       "      <td>5</td>\n",
       "      <td>The main access point to popular surfing break...</td>\n",
       "      <td>'Ehukai Beach Park</td>\n",
       "      <td>['Park', 'Public beach', 'Tourist attraction']</td>\n",
       "      <td>Popular surfing beach offering massive wintert...</td>\n",
       "      <td>1.1447491719186307e+20_1591852064598</td>\n",
       "    </tr>\n",
       "    <tr>\n",
       "      <th>2</th>\n",
       "      <td>848713</td>\n",
       "      <td>5</td>\n",
       "      <td>Great place to set up your camping chairs and ...</td>\n",
       "      <td>'Ehukai Beach Park</td>\n",
       "      <td>['Park', 'Public beach', 'Tourist attraction']</td>\n",
       "      <td>Popular surfing beach offering massive wintert...</td>\n",
       "      <td>1.0893375045945795e+20_1463461472578</td>\n",
       "    </tr>\n",
       "    <tr>\n",
       "      <th>3</th>\n",
       "      <td>848706</td>\n",
       "      <td>5</td>\n",
       "      <td>My favorite Beach for surfing on Oahu North Sh...</td>\n",
       "      <td>'Ehukai Beach Park</td>\n",
       "      <td>['Park', 'Public beach', 'Tourist attraction']</td>\n",
       "      <td>Popular surfing beach offering massive wintert...</td>\n",
       "      <td>1.1249899958787118e+20_1570685676722</td>\n",
       "    </tr>\n",
       "    <tr>\n",
       "      <th>4</th>\n",
       "      <td>848694</td>\n",
       "      <td>5</td>\n",
       "      <td>Excellent beach for family activities great su...</td>\n",
       "      <td>'Ehukai Beach Park</td>\n",
       "      <td>['Park', 'Public beach', 'Tourist attraction']</td>\n",
       "      <td>Popular surfing beach offering massive wintert...</td>\n",
       "      <td>1.1730942640485394e+20_1605375558437</td>\n",
       "    </tr>\n",
       "  </tbody>\n",
       "</table>\n",
       "</div>"
      ],
      "text/plain": [
       "   Unnamed: 0  rating                                               text  \\\n",
       "0      848717       5                                   great for sunset   \n",
       "1      848703       5  The main access point to popular surfing break...   \n",
       "2      848713       5  Great place to set up your camping chairs and ...   \n",
       "3      848706       5  My favorite Beach for surfing on Oahu North Sh...   \n",
       "4      848694       5  Excellent beach for family activities great su...   \n",
       "\n",
       "        business_name                               business_category  \\\n",
       "0  'Ehukai Beach Park  ['Park', 'Public beach', 'Tourist attraction']   \n",
       "1  'Ehukai Beach Park  ['Park', 'Public beach', 'Tourist attraction']   \n",
       "2  'Ehukai Beach Park  ['Park', 'Public beach', 'Tourist attraction']   \n",
       "3  'Ehukai Beach Park  ['Park', 'Public beach', 'Tourist attraction']   \n",
       "4  'Ehukai Beach Park  ['Park', 'Public beach', 'Tourist attraction']   \n",
       "\n",
       "                                business_description  \\\n",
       "0  Popular surfing beach offering massive wintert...   \n",
       "1  Popular surfing beach offering massive wintert...   \n",
       "2  Popular surfing beach offering massive wintert...   \n",
       "3  Popular surfing beach offering massive wintert...   \n",
       "4  Popular surfing beach offering massive wintert...   \n",
       "\n",
       "                                    _id  \n",
       "0  1.1426748616291053e+20_1589655333572  \n",
       "1  1.1447491719186307e+20_1591852064598  \n",
       "2  1.0893375045945795e+20_1463461472578  \n",
       "3  1.1249899958787118e+20_1570685676722  \n",
       "4  1.1730942640485394e+20_1605375558437  "
      ]
     },
     "execution_count": 87,
     "metadata": {},
     "output_type": "execute_result"
    }
   ],
   "source": [
    "df.head()"
   ]
  },
  {
   "cell_type": "markdown",
   "metadata": {},
   "source": [
    "## 2. Create Review and Business Documents"
   ]
  },
  {
   "cell_type": "code",
   "execution_count": 89,
   "metadata": {},
   "outputs": [
    {
     "data": {
      "text/html": [
       "<div>\n",
       "<style scoped>\n",
       "    .dataframe tbody tr th:only-of-type {\n",
       "        vertical-align: middle;\n",
       "    }\n",
       "\n",
       "    .dataframe tbody tr th {\n",
       "        vertical-align: top;\n",
       "    }\n",
       "\n",
       "    .dataframe thead th {\n",
       "        text-align: right;\n",
       "    }\n",
       "</style>\n",
       "<table border=\"1\" class=\"dataframe\">\n",
       "  <thead>\n",
       "    <tr style=\"text-align: right;\">\n",
       "      <th></th>\n",
       "      <th>review_document</th>\n",
       "      <th>business_document</th>\n",
       "    </tr>\n",
       "  </thead>\n",
       "  <tbody>\n",
       "    <tr>\n",
       "      <th>0</th>\n",
       "      <td>great for sunset</td>\n",
       "      <td>'Ehukai Beach Park ['Park', 'Public beach', 'T...</td>\n",
       "    </tr>\n",
       "    <tr>\n",
       "      <th>1</th>\n",
       "      <td>The main access point to popular surfing break...</td>\n",
       "      <td>'Ehukai Beach Park ['Park', 'Public beach', 'T...</td>\n",
       "    </tr>\n",
       "    <tr>\n",
       "      <th>2</th>\n",
       "      <td>Great place to set up your camping chairs and ...</td>\n",
       "      <td>'Ehukai Beach Park ['Park', 'Public beach', 'T...</td>\n",
       "    </tr>\n",
       "    <tr>\n",
       "      <th>3</th>\n",
       "      <td>My favorite Beach for surfing on Oahu North Sh...</td>\n",
       "      <td>'Ehukai Beach Park ['Park', 'Public beach', 'T...</td>\n",
       "    </tr>\n",
       "    <tr>\n",
       "      <th>4</th>\n",
       "      <td>Excellent beach for family activities great su...</td>\n",
       "      <td>'Ehukai Beach Park ['Park', 'Public beach', 'T...</td>\n",
       "    </tr>\n",
       "  </tbody>\n",
       "</table>\n",
       "</div>"
      ],
      "text/plain": [
       "                                     review_document  \\\n",
       "0                                   great for sunset   \n",
       "1  The main access point to popular surfing break...   \n",
       "2  Great place to set up your camping chairs and ...   \n",
       "3  My favorite Beach for surfing on Oahu North Sh...   \n",
       "4  Excellent beach for family activities great su...   \n",
       "\n",
       "                                   business_document  \n",
       "0  'Ehukai Beach Park ['Park', 'Public beach', 'T...  \n",
       "1  'Ehukai Beach Park ['Park', 'Public beach', 'T...  \n",
       "2  'Ehukai Beach Park ['Park', 'Public beach', 'T...  \n",
       "3  'Ehukai Beach Park ['Park', 'Public beach', 'T...  \n",
       "4  'Ehukai Beach Park ['Park', 'Public beach', 'T...  "
      ]
     },
     "execution_count": 89,
     "metadata": {},
     "output_type": "execute_result"
    }
   ],
   "source": [
    "df['review_document'] = df['text'].astype(str)\n",
    "df['business_document'] = df['business_name'].fillna('') + ' ' + df['business_category'].fillna('') + ' ' + df['business_description'].fillna('')\n",
    "df[['review_document', 'business_document']].head()"
   ]
  },
  {
   "cell_type": "markdown",
   "metadata": {},
   "source": [
    "## 3. Display a single example"
   ]
  },
  {
   "cell_type": "code",
   "execution_count": 91,
   "metadata": {},
   "outputs": [
    {
     "name": "stdout",
     "output_type": "stream",
     "text": [
      "Review Document:\n",
      "great for sunset\n",
      "---\n",
      "Business Document:\n",
      "'Ehukai Beach Park ['Park', 'Public beach', 'Tourist attraction'] Popular surfing beach offering massive wintertime waves, with calmer waters in the summer.\n"
     ]
    }
   ],
   "source": [
    "print('Review Document:')\n",
    "print(df['review_document'].iloc[0])\n",
    "print('---')\n",
    "print('Business Document:')\n",
    "print(df['business_document'].iloc[0])"
   ]
  },
  {
   "cell_type": "markdown",
   "metadata": {},
   "source": [
    "## 4. Create the Corpus"
   ]
  },
  {
   "cell_type": "code",
   "execution_count": 93,
   "metadata": {},
   "outputs": [
    {
     "name": "stdout",
     "output_type": "stream",
     "text": [
      "Total number of documents in the corpus: 20000\n",
      "---\n",
      "First 4 documents in the corpus:\n",
      "great for sunset\n",
      "'Ehukai Beach Park ['Park', 'Public beach', 'Tourist attraction'] Popular surfing beach offering massive wintertime waves, with calmer waters in the summer.\n",
      "The main access point to popular surfing breaks such as Pipeline.\n",
      "'Ehukai Beach Park ['Park', 'Public beach', 'Tourist attraction'] Popular surfing beach offering massive wintertime waves, with calmer waters in the summer.\n",
      "---\n"
     ]
    }
   ],
   "source": [
    "corpus = []\n",
    "for index, row in df.iterrows():\n",
    "    corpus.append(row['review_document'])     \n",
    "    corpus.append(row['business_document']) \n",
    "print(f'Total number of documents in the corpus: {len(corpus)}')\n",
    "print('---')\n",
    "print('First 4 documents in the corpus:')\n",
    "for doc in corpus[:4]:\n",
    "    print(doc)    \n",
    "print('---')"
   ]
  },
  {
   "cell_type": "markdown",
   "metadata": {},
   "source": [
    "## 5. Preprocess Corpus for LDA"
   ]
  },
  {
   "cell_type": "code",
   "execution_count": 97,
   "metadata": {},
   "outputs": [
    {
     "name": "stderr",
     "output_type": "stream",
     "text": [
      "[nltk_data] Downloading package punkt to /Users/yumin/nltk_data...\n",
      "[nltk_data]   Package punkt is already up-to-date!\n",
      "[nltk_data] Downloading package stopwords to /Users/yumin/nltk_data...\n",
      "[nltk_data]   Package stopwords is already up-to-date!\n",
      "[nltk_data] Downloading package wordnet to /Users/yumin/nltk_data...\n",
      "[nltk_data]   Package wordnet is already up-to-date!\n"
     ]
    }
   ],
   "source": [
    "import nltk \n",
    "from nltk.tokenize import word_tokenize \n",
    "from nltk.corpus import stopwords \n",
    "from nltk.stem import WordNetLemmatizer\n",
    "\n",
    "nltk.download('punkt')\n",
    "nltk.download('stopwords')\n",
    "nltk.download('wordnet')\n",
    "\n",
    "stop_words = set(stopwords.words('english'))\n",
    "lemmatizer = WordNetLemmatizer()\n",
    "def preprocess_text(text):    \n",
    "    tokens = word_tokenize(text.lower())    \n",
    "    return [lemmatizer.lemmatize(w) for w in tokens if w.isalpha() and w not in stop_words]\n",
    "processed_corpus = [preprocess_text(doc) for doc in corpus]"
   ]
  },
  {
   "cell_type": "markdown",
   "metadata": {},
   "source": [
    "## 6. Create Dictionary and Corpus for LDA"
   ]
  },
  {
   "cell_type": "code",
   "execution_count": 99,
   "metadata": {},
   "outputs": [],
   "source": [
    "from gensim import corpora\n",
    "dictionary = corpora.Dictionary(processed_corpus)\n",
    "bow_corpus = [dictionary.doc2bow(text) for text in processed_corpus]"
   ]
  },
  {
   "cell_type": "markdown",
   "metadata": {},
   "source": [
    "## 7. Train the LDA Model"
   ]
  },
  {
   "cell_type": "code",
   "execution_count": 101,
   "metadata": {},
   "outputs": [
    {
     "name": "stdout",
     "output_type": "stream",
     "text": [
      "Topic: 0 Words: 0.022*\"store\" + 0.019*\"factory\" + 0.018*\"large\" + 0.017*\"amid\" + 0.016*\"attraction\" + 0.014*\"part\" + 0.014*\"valley\" + 0.012*\"wide\" + 0.012*\"lively\" + 0.012*\"cook\"\n",
      "Topic: 1 Words: 0.099*\"shop\" + 0.063*\"store\" + 0.047*\"cafe\" + 0.026*\"coffee\" + 0.025*\"coffeehouse\" + 0.025*\"light\" + 0.024*\"plus\" + 0.022*\"wifi\" + 0.022*\"availability\" + 0.021*\"asian\"\n",
      "Topic: 2 Words: 0.046*\"food\" + 0.037*\"great\" + 0.033*\"good\" + 0.023*\"service\" + 0.019*\"place\" + 0.009*\"time\" + 0.009*\"get\" + 0.009*\"staff\" + 0.009*\"delicious\" + 0.009*\"friendly\"\n",
      "Topic: 3 Words: 0.056*\"beach\" + 0.033*\"starbucks\" + 0.032*\"attraction\" + 0.031*\"park\" + 0.017*\"view\" + 0.014*\"canyon\" + 0.014*\"rock\" + 0.013*\"surf\" + 0.012*\"wave\" + 0.011*\"mountain\"\n",
      "Topic: 4 Words: 0.033*\"ice\" + 0.027*\"beautiful\" + 0.022*\"sushi\" + 0.021*\"cream\" + 0.020*\"see\" + 0.017*\"harbor\" + 0.015*\"shave\" + 0.015*\"waimea\" + 0.015*\"hike\" + 0.013*\"cave\"\n",
      "Topic: 5 Words: 0.049*\"restaurant\" + 0.028*\"classic\" + 0.024*\"bar\" + 0.021*\"house\" + 0.020*\"dining\" + 0.020*\"ocean\" + 0.019*\"view\" + 0.019*\"italian\" + 0.018*\"fall\" + 0.018*\"trail\"\n",
      "Topic: 6 Words: 0.035*\"thai\" + 0.021*\"fried\" + 0.020*\"market\" + 0.018*\"elegant\" + 0.018*\"pancake\" + 0.018*\"water\" + 0.017*\"shopping\" + 0.017*\"stand\" + 0.016*\"small\" + 0.015*\"air\"\n",
      "Topic: 7 Words: 0.057*\"known\" + 0.041*\"center\" + 0.027*\"bar\" + 0.026*\"mexican\" + 0.025*\"chain\" + 0.024*\"bite\" + 0.023*\"historic\" + 0.022*\"roast\" + 0.021*\"landmark\" + 0.020*\"memorial\"\n",
      "Topic: 8 Words: 0.242*\"restaurant\" + 0.030*\"chain\" + 0.029*\"hawaiian\" + 0.023*\"fare\" + 0.020*\"serving\" + 0.018*\"casual\" + 0.017*\"including\" + 0.017*\"traditional\" + 0.017*\"menu\" + 0.016*\"served\"\n",
      "Topic: 9 Words: 0.047*\"noodle\" + 0.047*\"chinese\" + 0.045*\"course\" + 0.039*\"modern\" + 0.038*\"seafood\" + 0.037*\"golf\" + 0.027*\"standard\" + 0.023*\"specialty\" + 0.021*\"ramen\" + 0.020*\"theater\"\n"
     ]
    }
   ],
   "source": [
    "from gensim.models import LdaModel\n",
    "lda_model = LdaModel(bow_corpus, num_topics=10, id2word=dictionary, passes=15)\n",
    "for idx, topic in lda_model.print_topics(-1):    print(f'Topic: {idx} Words: {topic}')"
   ]
  },
  {
   "cell_type": "markdown",
   "metadata": {},
   "source": [
    "## 8. Visualize the Topics"
   ]
  },
  {
   "cell_type": "code",
   "execution_count": 107,
   "metadata": {},
   "outputs": [
    {
     "name": "stderr",
     "output_type": "stream",
     "text": [
      "/Users/yumin/opt/anaconda3/lib/python3.12/site-packages/joblib/externals/loky/backend/fork_exec.py:38: DeprecationWarning: This process (pid=47046) is multi-threaded, use of fork() may lead to deadlocks in the child.\n",
      "  pid = os.fork()\n",
      "/Users/yumin/opt/anaconda3/lib/python3.12/site-packages/joblib/externals/loky/backend/fork_exec.py:38: DeprecationWarning: This process (pid=47046) is multi-threaded, use of fork() may lead to deadlocks in the child.\n",
      "  pid = os.fork()\n",
      "/Users/yumin/opt/anaconda3/lib/python3.12/site-packages/joblib/externals/loky/backend/fork_exec.py:38: DeprecationWarning: This process (pid=47046) is multi-threaded, use of fork() may lead to deadlocks in the child.\n",
      "  pid = os.fork()\n",
      "/Users/yumin/opt/anaconda3/lib/python3.12/site-packages/joblib/externals/loky/backend/fork_exec.py:38: DeprecationWarning: This process (pid=47046) is multi-threaded, use of fork() may lead to deadlocks in the child.\n",
      "  pid = os.fork()\n",
      "/Users/yumin/opt/anaconda3/lib/python3.12/site-packages/joblib/externals/loky/backend/fork_exec.py:38: DeprecationWarning: This process (pid=47046) is multi-threaded, use of fork() may lead to deadlocks in the child.\n",
      "  pid = os.fork()\n",
      "/Users/yumin/opt/anaconda3/lib/python3.12/site-packages/joblib/externals/loky/backend/fork_exec.py:38: DeprecationWarning: This process (pid=47046) is multi-threaded, use of fork() may lead to deadlocks in the child.\n",
      "  pid = os.fork()\n",
      "/Users/yumin/opt/anaconda3/lib/python3.12/site-packages/joblib/externals/loky/backend/fork_exec.py:38: DeprecationWarning: This process (pid=47046) is multi-threaded, use of fork() may lead to deadlocks in the child.\n",
      "  pid = os.fork()\n",
      "/Users/yumin/opt/anaconda3/lib/python3.12/site-packages/joblib/externals/loky/backend/fork_exec.py:38: DeprecationWarning: This process (pid=47046) is multi-threaded, use of fork() may lead to deadlocks in the child.\n",
      "  pid = os.fork()\n",
      "/Users/yumin/opt/anaconda3/lib/python3.12/site-packages/joblib/externals/loky/backend/fork_exec.py:38: DeprecationWarning: This process (pid=47046) is multi-threaded, use of fork() may lead to deadlocks in the child.\n",
      "  pid = os.fork()\n",
      "/Users/yumin/opt/anaconda3/lib/python3.12/site-packages/joblib/externals/loky/backend/fork_exec.py:38: DeprecationWarning: This process (pid=47046) is multi-threaded, use of fork() may lead to deadlocks in the child.\n",
      "  pid = os.fork()\n",
      "/Users/yumin/opt/anaconda3/lib/python3.12/site-packages/joblib/externals/loky/backend/fork_exec.py:38: DeprecationWarning: This process (pid=47046) is multi-threaded, use of fork() may lead to deadlocks in the child.\n",
      "  pid = os.fork()\n"
     ]
    },
    {
     "data": {
      "text/html": [
       "\n",
       "<link rel=\"stylesheet\" type=\"text/css\" href=\"https://cdn.jsdelivr.net/gh/bmabey/pyLDAvis@3.4.0/pyLDAvis/js/ldavis.v1.0.0.css\">\n",
       "\n",
       "\n",
       "<div id=\"ldavis_el47046112592126242198853594\" style=\"background-color:white;\"></div>\n",
       "<script type=\"text/javascript\">\n",
       "\n",
       "var ldavis_el47046112592126242198853594_data = {\"mdsDat\": {\"x\": [-0.2655505693389214, 0.1822138938325697, 0.21569028952151914, -0.2942089950755161, 0.0941438005512763, 0.05484075227844249, 0.03525819681076189, -0.03668037842102407, -0.0632880720241687, 0.07758108186506067], \"y\": [0.18348696501040887, 0.26116391145765694, 0.06700677764271415, 0.07808531810157006, 0.035129383685345045, 0.024307345427383234, -0.20147986094121242, -0.12859707521633115, -0.22830395268235884, -0.09079881248517595], \"topics\": [1, 2, 3, 4, 5, 6, 7, 8, 9, 10], \"cluster\": [1, 1, 1, 1, 1, 1, 1, 1, 1, 1], \"Freq\": [29.04305304031418, 17.86239584274311, 9.155534844396932, 8.033075770865366, 7.525100526440021, 7.006040644711733, 6.504053463068112, 5.116524447026003, 4.975444283711364, 4.778777136723179]}, \"tinfo\": {\"Term\": [\"restaurant\", \"shop\", \"great\", \"food\", \"store\", \"good\", \"known\", \"chain\", \"beach\", \"thai\", \"cafe\", \"service\", \"center\", \"bar\", \"hawaiian\", \"noodle\", \"attraction\", \"chinese\", \"ice\", \"course\", \"park\", \"classic\", \"fare\", \"place\", \"starbucks\", \"modern\", \"casual\", \"view\", \"seafood\", \"beautiful\", \"great\", \"service\", \"time\", \"staff\", \"delicious\", \"friendly\", \"always\", \"order\", \"excellent\", \"awesome\", \"really\", \"would\", \"experience\", \"wait\", \"u\", \"got\", \"recommend\", \"try\", \"tasty\", \"much\", \"better\", \"bit\", \"counter\", \"fast\", \"super\", \"come\", \"quality\", \"ordered\", \"first\", \"went\", \"like\", \"good\", \"back\", \"food\", \"price\", \"go\", \"day\", \"get\", \"amazing\", \"place\", \"love\", \"lot\", \"well\", \"nice\", \"best\", \"also\", \"little\", \"one\", \"casual\", \"traditional\", \"cuisine\", \"signature\", \"space\", \"locally\", \"eats\", \"feature\", \"fusion\", \"roy\", \"sourced\", \"takeout\", \"dishing\", \"creative\", \"bistro\", \"cooking\", \"japan\", \"delivery\", \"hut\", \"dig\", \"yamaguchi\", \"kai\", \"draw\", \"vast\", \"funky\", \"hall\", \"neighborhood\", \"refined\", \"homey\", \"byob\", \"restaurant\", \"served\", \"fare\", \"including\", \"hawaiian\", \"american\", \"kitchen\", \"serving\", \"chain\", \"menu\", \"simple\", \"setting\", \"plate\", \"thai\", \"eatery\", \"dish\", \"pizza\", \"spot\", \"option\", \"japanese\", \"offering\", \"local\", \"portion\", \"food\", \"featuring\", \"classic\", \"italian\", \"fall\", \"trail\", \"comfort\", \"pool\", \"cheesecake\", \"upscale\", \"picturesque\", \"hiking\", \"environs\", \"modest\", \"sizable\", \"regional\", \"serf\", \"steakhouse\", \"destination\", \"staple\", \"forest\", \"swimming\", \"tropical\", \"saimin\", \"denny\", \"sophisticated\", \"rainbow\", \"using\", \"joint\", \"mauna\", \"rainforest\", \"fleetwood\", \"ocean\", \"resort\", \"relaxed\", \"dining\", \"waterfall\", \"house\", \"venue\", \"grill\", \"bar\", \"view\", \"hotel\", \"restaurant\", \"offering\", \"park\", \"attraction\", \"featuring\", \"setting\", \"japanese\", \"ice\", \"beautiful\", \"sushi\", \"cream\", \"see\", \"harbor\", \"shave\", \"waimea\", \"cave\", \"visitor\", \"stop\", \"cool\", \"lava\", \"cocktail\", \"shaved\", \"kona\", \"took\", \"surrounded\", \"steep\", \"cliff\", \"frozen\", \"away\", \"whole\", \"numerous\", \"north\", \"quiet\", \"couple\", \"drop\", \"treat\", \"step\", \"hike\", \"area\", \"cake\", \"roll\", \"make\", \"best\", \"nice\", \"short\", \"view\", \"one\", \"place\", \"flavor\", \"way\", \"take\", \"island\", \"shop\", \"coffee\", \"coffeehouse\", \"light\", \"wifi\", \"availability\", \"asian\", \"pearl\", \"clothing\", \"curry\", \"snug\", \"korean\", \"gallery\", \"king\", \"snow\", \"lahaina\", \"men\", \"artist\", \"hyatt\", \"takeaway\", \"whipping\", \"gourmet\", \"turning\", \"flair\", \"donut\", \"navy\", \"version\", \"organic\", \"tiny\", \"northern\", \"cafe\", \"store\", \"various\", \"topping\", \"seating\", \"art\", \"bustling\", \"plus\", \"offer\", \"offering\", \"local\", \"range\", \"old\", \"tree\", \"new\", \"known\", \"center\", \"mexican\", \"bite\", \"historic\", \"roast\", \"landmark\", \"memorial\", \"taco\", \"wwii\", \"battleship\", \"attack\", \"base\", \"hilo\", \"naval\", \"garden\", \"alley\", \"us\", \"blend\", \"missouri\", \"inventive\", \"unassuming\", \"surrender\", \"official\", \"quaint\", \"array\", \"owner\", \"sand\", \"built\", \"verde\", \"brought\", \"site\", \"soup\", \"bar\", \"maui\", \"beer\", \"chain\", \"offer\", \"tour\", \"attraction\", \"flavor\", \"place\", \"hawaiian\", \"starbucks\", \"canyon\", \"rock\", \"wave\", \"mountain\", \"pacific\", \"grand\", \"formation\", \"child\", \"farm\", \"volcano\", \"sweeping\", \"city\", \"spring\", \"moana\", \"wing\", \"banyan\", \"sandy\", \"expansive\", \"gorge\", \"tokyo\", \"reached\", \"setup\", \"shoreline\", \"powerful\", \"shooting\", \"central\", \"nakalele\", \"aqua\", \"jazz\", \"beach\", \"park\", \"surf\", \"history\", \"attraction\", \"blowhole\", \"along\", \"view\", \"top\", \"water\", \"tree\", \"state\", \"club\", \"fun\", \"hotel\", \"spot\", \"factory\", \"amid\", \"valley\", \"wide\", \"lively\", \"cook\", \"guest\", \"statue\", \"google\", \"mall\", \"organization\", \"translated\", \"ukulele\", \"sell\", \"mixed\", \"platter\", \"trip\", \"mini\", \"sound\", \"reef\", \"co\", \"welcoming\", \"monument\", \"getting\", \"surfer\", \"cheese\", \"shirt\", \"viewpoint\", \"behind\", \"inc\", \"part\", \"large\", \"use\", \"store\", \"decor\", \"original\", \"attraction\", \"new\", \"different\", \"aloha\", \"selection\", \"spot\", \"hawaiian\", \"fried\", \"elegant\", \"pancake\", \"shopping\", \"stand\", \"air\", \"spouting\", \"lookout\", \"stadium\", \"condo\", \"meet\", \"charge\", \"turtle\", \"swap\", \"foot\", \"flea\", \"biggest\", \"admission\", \"tea\", \"nut\", \"macadamia\", \"everyone\", \"horn\", \"mai\", \"sea\", \"bbq\", \"accompanied\", \"village\", \"spice\", \"shoe\", \"market\", \"water\", \"thai\", \"steak\", \"live\", \"small\", \"chicken\", \"blowhole\", \"aloha\", \"state\", \"noodle\", \"chinese\", \"course\", \"modern\", \"seafood\", \"golf\", \"standard\", \"specialty\", \"ramen\", \"theater\", \"buffet\", \"diner\", \"udon\", \"express\", \"panda\", \"movie\", \"daytime\", \"bright\", \"daily\", \"ceiling\", \"film\", \"theatre\", \"backed\", \"driving\", \"broad\", \"fairway\", \"pahoa\", \"waikele\", \"broth\", \"royal\", \"club\", \"lobster\", \"set\", \"la\", \"open\", \"japanese\", \"waikiki\", \"house\", \"eatery\", \"room\", \"setting\", \"offering\"], \"Freq\": [12322.0, 1921.0, 2755.0, 3914.0, 1514.0, 2581.0, 1034.0, 1835.0, 1094.0, 1162.0, 1042.0, 1690.0, 738.0, 1126.0, 1585.0, 584.0, 1379.0, 576.0, 687.0, 553.0, 800.0, 670.0, 1153.0, 1942.0, 553.0, 479.0, 845.0, 1102.0, 470.0, 560.0, 2754.613314708779, 1689.5222622584572, 710.8430752518033, 707.324561790727, 689.513603994658, 661.6668933649214, 514.8869802364737, 488.06383080180365, 487.44589690140015, 487.1326467563362, 540.8482459703038, 361.8990569220566, 342.2356960190179, 323.6123647582301, 306.5901092193557, 288.2773532921465, 280.466816342739, 266.3566263197393, 245.74564788890473, 241.6805987634134, 238.53940854605372, 230.7136094369944, 229.20010319697772, 226.81310492392308, 224.97535209162487, 215.6476900396028, 203.13743938069592, 200.07180821719083, 199.02389399990784, 196.2653067195235, 529.3088994333006, 2502.200061083978, 379.98966363655643, 3488.862703735476, 585.7952886624025, 597.5655431085477, 347.4054597703932, 710.701257795795, 575.1089097879549, 1446.6008481671104, 523.7773193518525, 401.70074133228064, 375.7452447996935, 563.3034107669438, 571.9202547785509, 399.66844404109906, 359.25746204990804, 434.9613753029652, 844.5187286009511, 796.2250589317995, 618.7940338180517, 608.2255222482218, 548.8214278134308, 336.21113989157885, 320.6652846451907, 316.0666995844179, 305.4695870403647, 293.2535088238307, 291.9783999767863, 268.85653373950674, 257.71656180200057, 257.27077368497163, 214.71714750649616, 210.1089929468291, 205.37723056773694, 159.7242157333479, 156.5906671920556, 153.0777794136967, 133.9806401186672, 131.3622746897561, 129.03641335963073, 119.40937919730607, 118.37046493701453, 115.63551290528277, 111.295057012998, 105.768983216699, 101.71761220898829, 99.53249777833007, 11166.714235485784, 745.3611723910947, 1039.477419925349, 796.7508867676698, 1325.747194474121, 717.9167097420509, 273.257750573647, 928.24491947928, 1376.5613626295597, 787.2732550628009, 402.3886976796578, 688.4254925632156, 400.5637404792939, 714.2481724513401, 518.156968565668, 618.6929196971511, 446.2782043992792, 518.172021709996, 386.6215182026637, 530.4396892025914, 419.791293765434, 395.2317447223671, 343.2222923938066, 425.211931037961, 322.4798766804602, 669.5530910410017, 443.5342410663701, 434.9049072366961, 424.5342665688062, 345.78736280038964, 311.5199917586722, 287.186777331209, 275.54169140529984, 192.79324291890694, 188.08373429272314, 180.44175825488168, 179.53574521849941, 176.88031291300533, 165.42916478820018, 165.21655516924622, 160.48262107177814, 155.26492817052187, 148.9265845062054, 148.88358641799246, 136.91751937779233, 131.57289338659498, 125.02098116108549, 121.24886612938245, 119.75342326339873, 120.01273447162679, 114.13554282337107, 113.12187474274992, 107.83307682558448, 105.11588643543082, 103.77548358708444, 474.5340439843433, 220.0501289430075, 351.91295355553257, 482.0708890902763, 284.9352470878721, 508.1201251433534, 240.7744579435729, 175.7523763933933, 574.1862192337414, 460.13443505490517, 259.96432504911746, 1154.8831051543889, 344.8504431658661, 285.3313232995726, 273.8682600418892, 218.29466944002218, 215.93282777222097, 183.77363062026504, 686.8625902509016, 560.0779979880273, 457.9755747071788, 426.7385186362951, 423.84967517478964, 356.23956623748467, 315.7734951366465, 302.876753725509, 280.0283415530853, 277.06091155348224, 245.4267062365349, 219.92462995695672, 211.2786214323766, 196.26892146971264, 161.3747481035791, 129.3700081298917, 120.90019553659381, 107.46137528796628, 105.33362977892678, 98.84284207162335, 95.39170738466039, 90.60654542084372, 85.27294110217696, 85.29552288490619, 83.21220594539908, 78.93314670269004, 77.99681024784557, 77.22823661313132, 75.02556503912619, 70.43535107370604, 302.37647294581586, 270.75946266513944, 111.27275468870398, 183.15848966406324, 202.5980487572722, 270.1604990113696, 220.76244794470793, 102.69664814509473, 229.0158332507692, 186.3329177268511, 261.2779958765708, 163.67067228570698, 135.23649416597326, 138.07045470799764, 127.80592712817158, 1920.2879089849441, 513.8522344556518, 483.8117177735914, 480.2086662120227, 432.96280645842114, 428.8700373243071, 400.81575046826293, 383.61417612748573, 355.02505564311565, 253.0334894399578, 247.34442728161636, 236.38459584194183, 125.76198390889598, 124.53187381130546, 122.51819385496489, 120.15233688006712, 113.21679419987903, 109.02563039069811, 104.09103008162418, 100.71807946398548, 98.3851082887832, 93.39509133047034, 91.50221006645477, 79.9553625724912, 79.44789753944902, 74.08096673721572, 71.97536055235994, 70.52487029956485, 69.75100311064232, 65.44817706340443, 917.6259312445146, 1216.7625577850738, 128.9728428658868, 184.71993550534427, 230.9061839906306, 133.09982047924333, 130.71383340877438, 462.2164194045171, 198.84394256156034, 289.2442699708902, 262.33498874898214, 135.4044899359198, 133.61161592888453, 123.62543970586938, 127.62869242488944, 1033.7023120583187, 737.9227423391023, 476.6710320169927, 441.3016740254071, 413.9093461909857, 393.9720508289485, 381.248525953524, 358.5749937616647, 311.13943256558036, 280.76317878533297, 218.8004814010888, 199.69344980745555, 180.0809522550988, 168.64896004326357, 162.19878660936686, 154.2793644567763, 148.83669851135787, 147.0977802286487, 128.817849445628, 125.7603573188518, 119.62653027141694, 110.6675661938371, 106.89952192514482, 105.75312263413186, 104.39740301376295, 94.93713121263596, 91.7707658614037, 88.0031939277416, 87.84493638896959, 83.92701009373685, 173.03742480864898, 353.96648834864914, 164.04701671334584, 484.06327766857976, 244.98388459487745, 165.3240925511901, 458.5886637948981, 206.11201053254675, 164.88019883747194, 299.93763620452415, 184.93333436566027, 175.67506170092145, 169.51147754658535, 553.0403052887914, 238.3243420756422, 235.8828973077174, 206.52396763678473, 189.61584407297164, 183.57500697116507, 177.58252926514265, 139.7447003765153, 134.25626914481555, 130.805838783958, 124.63900572399686, 122.14884137048772, 113.97478800717587, 113.57583865238281, 110.73387848705536, 105.74529673548454, 105.70801709116326, 104.16756361781391, 103.94214744458951, 103.94214744458951, 97.14240609417561, 94.0945661371784, 92.22868900955625, 89.70449455014071, 86.54845670924693, 83.07023692228219, 81.83714280170403, 80.08965849536688, 79.44069043795277, 77.16012522731116, 938.5685496342612, 512.8868161746416, 222.09370420516387, 131.07723396819995, 533.9226208862556, 175.9833022126554, 127.78399513427998, 280.941999235982, 147.3024846521013, 163.88291379985765, 140.15187145500875, 149.26753925818878, 141.38022829669288, 128.56619426670497, 130.13714641987607, 139.1888805335196, 249.31015595265185, 231.34471722171742, 182.94168433792007, 163.76469267193096, 162.80992824841007, 158.37807194845846, 153.9052531748526, 146.6623609798594, 131.20338213309293, 129.8353956670722, 125.42637979603941, 120.34593662376389, 120.16081088192843, 116.96413639657104, 111.15398217482469, 105.32378405995489, 101.38209149549796, 91.0320878778441, 89.60720977172248, 78.47198325308315, 77.4454451839954, 73.5252686978053, 73.24024379841718, 72.6584719564283, 70.63623162924728, 69.93850826784964, 69.65968625732918, 67.80194260066509, 66.43752264174901, 66.12568426148614, 186.45362819569453, 233.34006399100753, 85.3117123107611, 297.3586324479469, 106.9196450749029, 127.44331040107156, 208.3540145424165, 114.82827294322055, 92.3315284180265, 86.91185436618878, 86.65646412255265, 90.99653368266628, 88.80189985922023, 276.2270184306046, 230.5525747677006, 227.409158264239, 220.85888838076806, 213.95782456282365, 199.05369458951435, 190.57385440900862, 152.98403571254443, 143.24063295282093, 142.55345684205892, 141.8546602778976, 126.07906817873155, 122.63221408336099, 121.33637779130012, 120.42508266796625, 114.4612024267536, 114.15243380209957, 107.45787861889505, 107.37718235693845, 105.78037632183486, 103.80128132959096, 102.73509874027773, 97.37762047885283, 95.34750331029166, 94.30489706354533, 93.74072405100772, 88.70335334118785, 83.04589966417605, 82.59867992618585, 74.7375031007815, 252.28354141538497, 226.36053813336233, 447.67875787932337, 138.1606259608895, 127.78087758913942, 199.65272297232553, 160.74834348002403, 138.62840311953252, 132.23123570456, 127.4229197050445, 583.1611101755655, 575.3114102150224, 552.1630522628717, 478.134414920383, 469.34317623796716, 460.0882330718604, 335.3226159827031, 278.8158637516683, 264.4201062770641, 250.21572182907906, 243.60064943925673, 240.77960023120554, 203.27317949151205, 149.22186331792594, 144.38977493999715, 104.39048810103252, 97.11627647179975, 89.68736244099811, 88.31452101771912, 76.02592646626186, 68.25967605331105, 63.10217183529523, 61.64363137989388, 61.13798062584812, 56.540390942153174, 52.400499445859246, 48.65556220273392, 48.067402542325205, 46.41322309411796, 44.85187371658809, 191.3486217255391, 89.38029341975091, 80.69644892588425, 55.746495497761416, 110.06768077706688, 181.3310285126947, 112.04980457802347, 124.66834270441473, 113.87446446187556, 90.20095830536617, 81.46711312083254, 79.50695487469892], \"Total\": [12322.0, 1921.0, 2755.0, 3914.0, 1514.0, 2581.0, 1034.0, 1835.0, 1094.0, 1162.0, 1042.0, 1690.0, 738.0, 1126.0, 1585.0, 584.0, 1379.0, 576.0, 687.0, 553.0, 800.0, 670.0, 1153.0, 1942.0, 553.0, 479.0, 845.0, 1102.0, 470.0, 560.0, 2755.523642065356, 1690.4326222323689, 711.7534836662451, 708.2348671922401, 690.4239093042116, 662.5771977820576, 515.7972921209476, 488.97440690872446, 488.3562063885292, 488.04296576731196, 542.1976583018126, 362.8093759469506, 343.1460364031961, 324.5226607690244, 307.5004511820236, 289.1876778974231, 281.3771380640396, 267.2669442834319, 246.6559577303193, 242.5909544375785, 239.44973811180068, 231.62393842057787, 230.1111292901896, 227.7234036993231, 225.88568327717766, 216.55802959509492, 204.04774962398912, 200.98212057600435, 199.93425299760116, 197.1778711498042, 532.8108318402615, 2581.207119766723, 384.793751419658, 3914.8881008506523, 611.6499783345033, 651.3088061163012, 361.8728371998783, 818.9362601700631, 658.1827345794848, 1942.826690459637, 596.7827873800092, 473.0323380914028, 433.56869809496413, 784.8757804447561, 842.8906636315448, 498.491751156956, 419.61823246660117, 706.1858634555546, 845.4321219318248, 797.1383854258348, 619.7073850463793, 609.1393442232315, 549.7584114793634, 337.12455906765086, 321.5786346273441, 316.98114456377357, 306.38286677632743, 294.16685398422544, 292.8917375344185, 269.76989959287715, 258.62985309773757, 258.18413194983737, 215.63066960783468, 211.02230410546017, 206.29289544105958, 160.63751132510012, 157.50403537123537, 153.99129077763175, 134.8939155624183, 132.27588410911085, 129.94979530868096, 120.32270497503686, 119.28384327597429, 116.54887913000455, 112.20901424484721, 106.68440724925111, 102.63148659676658, 100.44585875334937, 12322.410173590977, 794.4842135689562, 1153.058319188241, 905.3163014350959, 1585.0702497668046, 830.6102448106357, 296.56920789107596, 1147.2891105941878, 1835.9832652664245, 1077.9068718348553, 494.1971123321995, 1026.5478327518083, 529.4100620290949, 1162.737753757335, 754.3274229615911, 1014.1448446369219, 673.8086700281054, 934.7943482586948, 554.7251446932596, 1030.431464837228, 1226.1726843670522, 983.7732329508218, 621.0949759067887, 3914.8881008506523, 664.6619336187277, 670.4628894777846, 444.443920197346, 435.81460552568905, 425.44401590452355, 346.69712737811625, 312.42966783641384, 288.09658749928633, 276.451382082648, 193.70293907262408, 188.9934345371744, 181.35151884268902, 180.4454247841273, 177.79012389310796, 166.3388475496273, 166.12649372876115, 161.39229115862275, 156.17466354483332, 149.83642197904013, 149.79332552357678, 137.82723212778438, 132.48260803093288, 125.93065200295571, 122.1586672669337, 120.66309897239054, 120.94149521808265, 115.04547492243374, 114.03181995171165, 108.74274454642928, 106.02551779395196, 104.68508800781167, 546.6017228600248, 240.63846153656064, 410.1099981171804, 601.1757493890957, 364.4762887178305, 794.3659390772671, 304.17898896492113, 205.04120106636276, 1126.1765638267266, 1102.554515838847, 464.00760838651024, 12322.410173590977, 1226.1726843670522, 800.3403555447811, 1379.8432293933463, 664.6619336187277, 1026.5478327518083, 1030.431464837228, 687.7723839923174, 560.9878193674856, 458.8854523368799, 427.6483144112284, 424.7595136173337, 357.1498257583673, 316.68329852600624, 303.7872629101247, 280.93815752165773, 277.970972900348, 246.3365625739182, 220.83445638892675, 212.18873838672747, 197.17900882152784, 162.28455013455198, 130.2802642325349, 121.81007672847116, 108.3718723800904, 106.24342744037968, 99.75265551711662, 96.30158476628498, 91.51641627281616, 86.18285371392199, 86.20597545727273, 84.12209320417212, 79.84312508311356, 78.90670367319778, 78.13810444145244, 75.93541850429179, 71.34519387445027, 331.3523914577718, 346.8925004907913, 121.35693405624389, 260.9982679495499, 394.8508320018011, 842.8906636315448, 784.8757804447561, 138.09540218184182, 1102.554515838847, 706.1858634555546, 1942.826690459637, 523.4334751605028, 293.00063902169984, 515.5938610024414, 538.8617678215052, 1921.1994247766934, 514.7637657442808, 484.7232081845871, 481.1202009498546, 433.87431595146546, 429.7815455491871, 401.72735584063565, 384.52636079592855, 355.9365342657425, 253.94508857888505, 248.25596606785737, 237.2962184301567, 126.67348642341051, 125.44364713533845, 123.42973001813603, 121.06391010986738, 114.12830775599704, 109.93715296932096, 105.00257870336779, 101.62969795270595, 99.29661215810926, 94.30656112841399, 92.41388696092268, 80.86724842213816, 80.35939849442016, 74.99249935616709, 72.88699229451544, 71.43636816395275, 70.66260751327796, 66.35974084355628, 1042.5607092727926, 1514.9227017914786, 152.9951203329897, 257.34168740957716, 351.69738637204495, 165.91622160872714, 166.15101946681935, 1069.159449303232, 405.7785264409915, 1226.1726843670522, 983.7732329508218, 298.8998837400154, 289.0607187163324, 264.5904218991989, 388.490224494874, 1034.6236519487884, 738.8440179105843, 477.59222613558774, 442.22292775256466, 414.830598000726, 394.89328009337584, 382.1697723859477, 359.4961668759681, 312.0606068128027, 281.6843434863126, 219.7216224515618, 200.61460572062205, 181.00215278897917, 169.57017461243657, 163.11993550824792, 155.2006207775992, 149.75793758849895, 148.01897181184873, 129.7390140106889, 126.6815150405493, 120.54793622572859, 111.58888428698594, 107.82065718055976, 106.67428431233719, 105.31870355903406, 95.85844367023317, 92.69208552506474, 88.92475917648409, 88.76608130334797, 84.84827987057159, 188.0377112666513, 441.5566095371028, 190.26881190667976, 1126.1765638267266, 419.928393604985, 240.49363109768035, 1835.9832652664245, 405.7785264409915, 273.9110678609018, 1379.8432293933463, 523.4334751605028, 1942.826690459637, 1585.0702497668046, 553.9527862433829, 239.23605490805951, 236.79461835926708, 207.43570437491806, 190.52754827144676, 184.48678670198535, 178.4942839595079, 140.65639389053362, 135.1680886071041, 131.7175586655376, 125.55094046036133, 123.06055363630783, 114.88665386632009, 114.48783197826877, 111.6456325701833, 106.65717258136554, 106.6197549533425, 105.07926722417295, 104.85382968321319, 104.85382968321319, 98.05448186025747, 95.00645800510647, 93.1413883317099, 90.61618477075974, 87.46014341602229, 83.98192214809212, 82.74904678235477, 81.00133603992255, 80.35239508981294, 78.07185437948307, 1094.86246582, 800.3403555447811, 287.0597151979748, 166.87867730147968, 1379.8432293933463, 315.420912758402, 182.6035064315488, 1102.554515838847, 266.1280024668442, 391.05273511177427, 264.5904218991989, 337.98147135396084, 333.52692760869854, 300.71918386925756, 464.00760838651024, 934.7943482586948, 250.21064021696176, 232.2450560651538, 183.842144252219, 164.66521736635218, 163.7102761638537, 159.2783034356537, 154.80577720274314, 147.562815373979, 132.10357740166353, 130.73565565335437, 126.32670941317974, 121.24612338671417, 121.06107863376225, 117.8643783757857, 112.05427831132108, 106.22413651336495, 102.28244222587482, 91.9326121627154, 90.50752932312729, 79.37235321069883, 78.34570564634936, 74.42555975141951, 74.14071150536253, 73.55882885692401, 71.53656047993793, 70.83886889961826, 70.55995248830065, 68.70224961543211, 67.33782880974333, 67.02587290381456, 215.26335540287374, 358.44486638037904, 107.93417396282011, 1514.9227017914786, 184.16438462468705, 322.96826284199955, 1379.8432293933463, 388.490224494874, 216.7979538915021, 327.33816567322276, 324.4367953689948, 934.7943482586948, 1585.0702497668046, 277.1347635345766, 231.46036707517806, 228.3191719048237, 221.76660285955487, 214.86558502563275, 199.96145481300798, 191.48155046045187, 153.89185937706753, 144.14830411730318, 143.46130376003964, 142.76235315715104, 126.9867441845182, 123.53996706984972, 122.24402667689435, 121.33278289127544, 115.36885271959662, 115.06009477780349, 108.36551854337173, 108.28495438310442, 106.68807789402969, 104.70899039892711, 103.64290018330775, 98.28532326853842, 96.25525067723072, 95.21262791567322, 94.6484269490688, 89.61103901707249, 83.9535845109587, 83.50636664100851, 75.64526191299473, 328.86043311125866, 391.05273511177427, 1162.737753757335, 199.9800306851882, 185.10458075425268, 593.815330229019, 377.44504205618523, 315.420912758402, 327.33816567322276, 337.98147135396084, 584.057610412517, 576.2078904905302, 553.0595488088424, 479.030967591227, 470.23973303544983, 460.9846908422322, 336.2191427982014, 279.7124269644488, 265.3165876592318, 251.11219427518972, 244.49715313138384, 241.67629218524067, 204.1696688383952, 150.11833662621143, 145.28624332103018, 105.28696193385606, 98.01285982735533, 90.58410125389352, 89.21101848610395, 76.92257103170317, 69.15614774309329, 63.99864305227895, 62.54042944503605, 62.03446260622041, 57.436853660440185, 53.297001687618625, 49.55210214250259, 48.963898101921274, 47.30973262440555, 45.7484899548738, 333.52692760869854, 129.04337779604623, 114.1047498421596, 62.5456594462479, 211.2961075372067, 1030.431464837228, 408.913648235035, 794.3659390772671, 754.3274229615911, 328.55091603066114, 1026.5478327518083, 1226.1726843670522], \"Category\": [\"Default\", \"Default\", \"Default\", \"Default\", \"Default\", \"Default\", \"Default\", \"Default\", \"Default\", \"Default\", \"Default\", \"Default\", \"Default\", \"Default\", \"Default\", \"Default\", \"Default\", \"Default\", \"Default\", \"Default\", \"Default\", \"Default\", \"Default\", \"Default\", \"Default\", \"Default\", \"Default\", \"Default\", \"Default\", \"Default\", \"Topic1\", \"Topic1\", \"Topic1\", \"Topic1\", \"Topic1\", \"Topic1\", \"Topic1\", \"Topic1\", \"Topic1\", \"Topic1\", \"Topic1\", \"Topic1\", \"Topic1\", \"Topic1\", \"Topic1\", \"Topic1\", \"Topic1\", \"Topic1\", \"Topic1\", \"Topic1\", \"Topic1\", \"Topic1\", \"Topic1\", \"Topic1\", \"Topic1\", \"Topic1\", \"Topic1\", \"Topic1\", \"Topic1\", \"Topic1\", \"Topic1\", \"Topic1\", \"Topic1\", \"Topic1\", \"Topic1\", \"Topic1\", \"Topic1\", \"Topic1\", \"Topic1\", \"Topic1\", \"Topic1\", \"Topic1\", \"Topic1\", \"Topic1\", \"Topic1\", \"Topic1\", \"Topic1\", \"Topic1\", \"Topic2\", \"Topic2\", \"Topic2\", \"Topic2\", \"Topic2\", \"Topic2\", \"Topic2\", \"Topic2\", \"Topic2\", \"Topic2\", \"Topic2\", \"Topic2\", \"Topic2\", \"Topic2\", \"Topic2\", \"Topic2\", \"Topic2\", \"Topic2\", \"Topic2\", \"Topic2\", \"Topic2\", \"Topic2\", \"Topic2\", \"Topic2\", \"Topic2\", \"Topic2\", \"Topic2\", \"Topic2\", \"Topic2\", \"Topic2\", \"Topic2\", \"Topic2\", \"Topic2\", \"Topic2\", \"Topic2\", \"Topic2\", \"Topic2\", \"Topic2\", \"Topic2\", \"Topic2\", \"Topic2\", \"Topic2\", \"Topic2\", \"Topic2\", \"Topic2\", \"Topic2\", \"Topic2\", \"Topic2\", \"Topic2\", \"Topic2\", \"Topic2\", \"Topic2\", \"Topic2\", \"Topic2\", \"Topic2\", \"Topic3\", \"Topic3\", \"Topic3\", \"Topic3\", \"Topic3\", \"Topic3\", \"Topic3\", \"Topic3\", \"Topic3\", \"Topic3\", \"Topic3\", \"Topic3\", \"Topic3\", \"Topic3\", \"Topic3\", \"Topic3\", \"Topic3\", \"Topic3\", \"Topic3\", \"Topic3\", \"Topic3\", \"Topic3\", \"Topic3\", \"Topic3\", \"Topic3\", \"Topic3\", \"Topic3\", \"Topic3\", \"Topic3\", \"Topic3\", \"Topic3\", \"Topic3\", \"Topic3\", \"Topic3\", \"Topic3\", \"Topic3\", \"Topic3\", \"Topic3\", \"Topic3\", \"Topic3\", \"Topic3\", \"Topic3\", \"Topic3\", \"Topic3\", \"Topic3\", \"Topic3\", \"Topic3\", \"Topic3\", \"Topic4\", \"Topic4\", \"Topic4\", \"Topic4\", \"Topic4\", \"Topic4\", \"Topic4\", \"Topic4\", \"Topic4\", \"Topic4\", \"Topic4\", \"Topic4\", \"Topic4\", \"Topic4\", \"Topic4\", \"Topic4\", \"Topic4\", \"Topic4\", \"Topic4\", \"Topic4\", \"Topic4\", \"Topic4\", \"Topic4\", \"Topic4\", \"Topic4\", \"Topic4\", \"Topic4\", \"Topic4\", \"Topic4\", \"Topic4\", \"Topic4\", \"Topic4\", \"Topic4\", \"Topic4\", \"Topic4\", \"Topic4\", \"Topic4\", \"Topic4\", \"Topic4\", \"Topic4\", \"Topic4\", \"Topic4\", \"Topic4\", \"Topic4\", \"Topic4\", \"Topic5\", \"Topic5\", \"Topic5\", \"Topic5\", \"Topic5\", \"Topic5\", \"Topic5\", \"Topic5\", \"Topic5\", \"Topic5\", \"Topic5\", \"Topic5\", \"Topic5\", \"Topic5\", \"Topic5\", \"Topic5\", \"Topic5\", \"Topic5\", \"Topic5\", \"Topic5\", \"Topic5\", \"Topic5\", \"Topic5\", \"Topic5\", \"Topic5\", \"Topic5\", \"Topic5\", \"Topic5\", \"Topic5\", \"Topic5\", \"Topic5\", \"Topic5\", \"Topic5\", \"Topic5\", \"Topic5\", \"Topic5\", \"Topic5\", \"Topic5\", \"Topic5\", \"Topic5\", \"Topic5\", \"Topic5\", \"Topic5\", \"Topic5\", \"Topic5\", \"Topic6\", \"Topic6\", \"Topic6\", \"Topic6\", \"Topic6\", \"Topic6\", \"Topic6\", \"Topic6\", \"Topic6\", \"Topic6\", \"Topic6\", \"Topic6\", \"Topic6\", \"Topic6\", \"Topic6\", \"Topic6\", \"Topic6\", \"Topic6\", \"Topic6\", \"Topic6\", \"Topic6\", \"Topic6\", \"Topic6\", \"Topic6\", \"Topic6\", \"Topic6\", \"Topic6\", \"Topic6\", \"Topic6\", \"Topic6\", \"Topic6\", \"Topic6\", \"Topic6\", \"Topic6\", \"Topic6\", \"Topic6\", \"Topic6\", \"Topic6\", \"Topic6\", \"Topic6\", \"Topic6\", \"Topic6\", \"Topic6\", \"Topic7\", \"Topic7\", \"Topic7\", \"Topic7\", \"Topic7\", \"Topic7\", \"Topic7\", \"Topic7\", \"Topic7\", \"Topic7\", \"Topic7\", \"Topic7\", \"Topic7\", \"Topic7\", \"Topic7\", \"Topic7\", \"Topic7\", \"Topic7\", \"Topic7\", \"Topic7\", \"Topic7\", \"Topic7\", \"Topic7\", \"Topic7\", \"Topic7\", \"Topic7\", \"Topic7\", \"Topic7\", \"Topic7\", \"Topic7\", \"Topic7\", \"Topic7\", \"Topic7\", \"Topic7\", \"Topic7\", \"Topic7\", \"Topic7\", \"Topic7\", \"Topic7\", \"Topic7\", \"Topic7\", \"Topic7\", \"Topic7\", \"Topic7\", \"Topic7\", \"Topic7\", \"Topic8\", \"Topic8\", \"Topic8\", \"Topic8\", \"Topic8\", \"Topic8\", \"Topic8\", \"Topic8\", \"Topic8\", \"Topic8\", \"Topic8\", \"Topic8\", \"Topic8\", \"Topic8\", \"Topic8\", \"Topic8\", \"Topic8\", \"Topic8\", \"Topic8\", \"Topic8\", \"Topic8\", \"Topic8\", \"Topic8\", \"Topic8\", \"Topic8\", \"Topic8\", \"Topic8\", \"Topic8\", \"Topic8\", \"Topic8\", \"Topic8\", \"Topic8\", \"Topic8\", \"Topic8\", \"Topic8\", \"Topic8\", \"Topic8\", \"Topic8\", \"Topic8\", \"Topic8\", \"Topic8\", \"Topic8\", \"Topic8\", \"Topic9\", \"Topic9\", \"Topic9\", \"Topic9\", \"Topic9\", \"Topic9\", \"Topic9\", \"Topic9\", \"Topic9\", \"Topic9\", \"Topic9\", \"Topic9\", \"Topic9\", \"Topic9\", \"Topic9\", \"Topic9\", \"Topic9\", \"Topic9\", \"Topic9\", \"Topic9\", \"Topic9\", \"Topic9\", \"Topic9\", \"Topic9\", \"Topic9\", \"Topic9\", \"Topic9\", \"Topic9\", \"Topic9\", \"Topic9\", \"Topic9\", \"Topic9\", \"Topic9\", \"Topic9\", \"Topic9\", \"Topic9\", \"Topic9\", \"Topic9\", \"Topic9\", \"Topic9\", \"Topic10\", \"Topic10\", \"Topic10\", \"Topic10\", \"Topic10\", \"Topic10\", \"Topic10\", \"Topic10\", \"Topic10\", \"Topic10\", \"Topic10\", \"Topic10\", \"Topic10\", \"Topic10\", \"Topic10\", \"Topic10\", \"Topic10\", \"Topic10\", \"Topic10\", \"Topic10\", \"Topic10\", \"Topic10\", \"Topic10\", \"Topic10\", \"Topic10\", \"Topic10\", \"Topic10\", \"Topic10\", \"Topic10\", \"Topic10\", \"Topic10\", \"Topic10\", \"Topic10\", \"Topic10\", \"Topic10\", \"Topic10\", \"Topic10\", \"Topic10\", \"Topic10\", \"Topic10\", \"Topic10\", \"Topic10\"], \"logprob\": [30.0, 29.0, 28.0, 27.0, 26.0, 25.0, 24.0, 23.0, 22.0, 21.0, 20.0, 19.0, 18.0, 17.0, 16.0, 15.0, 14.0, 13.0, 12.0, 11.0, 10.0, 9.0, 8.0, 7.0, 6.0, 5.0, 4.0, 3.0, 2.0, 1.0, -3.3054, -3.7942, -4.6599, -4.6649, -4.6904, -4.7316, -4.9824, -5.0359, -5.0372, -5.0379, -4.9333, -5.335, -5.3909, -5.4468, -5.5009, -5.5625, -5.5899, -5.6416, -5.7221, -5.7388, -5.7519, -5.7852, -5.7918, -5.8023, -5.8104, -5.8527, -5.9125, -5.9277, -5.933, -5.9469, -4.9548, -3.4015, -5.2863, -3.0691, -4.8534, -4.8335, -5.3759, -4.6601, -4.8718, -3.9494, -4.9653, -5.2307, -5.2975, -4.8926, -4.8774, -5.2358, -5.3424, -5.1511, -4.0015, -4.0604, -4.3125, -4.3298, -4.4325, -4.9226, -4.9699, -4.9844, -5.0185, -5.0593, -5.0636, -5.1461, -5.1885, -5.1902, -5.371, -5.3927, -5.4155, -5.6669, -5.6867, -5.7094, -5.8426, -5.8624, -5.8802, -5.9578, -5.9665, -5.9899, -6.0281, -6.0791, -6.1181, -6.1398, -1.4196, -4.1264, -3.7938, -4.0598, -3.5506, -4.164, -5.1299, -3.907, -3.513, -4.0717, -4.7429, -4.2059, -4.7474, -4.1691, -4.49, -4.3127, -4.6394, -4.49, -4.7829, -4.4666, -4.7006, -4.7608, -4.9019, -4.6877, -4.9643, -3.5654, -3.9772, -3.9968, -4.021, -4.2262, -4.3305, -4.4118, -4.4532, -4.8104, -4.8351, -4.8766, -4.8816, -4.8965, -4.9634, -4.9647, -4.9938, -5.0268, -5.0685, -5.0688, -5.1526, -5.1924, -5.2435, -5.2741, -5.2865, -5.2844, -5.3346, -5.3435, -5.3914, -5.4169, -5.4297, -3.9096, -4.6781, -4.2086, -3.8939, -4.4197, -3.8413, -4.5881, -4.9029, -3.719, -3.9405, -4.5114, -3.0202, -4.2289, -4.4183, -4.4593, -4.6861, -4.697, -4.8583, -3.409, -3.6131, -3.8144, -3.885, -3.8918, -4.0656, -4.1862, -4.2279, -4.3063, -4.3169, -4.4382, -4.5479, -4.588, -4.6617, -4.8575, -5.0785, -5.1462, -5.2641, -5.2841, -5.3477, -5.3832, -5.4347, -5.4953, -5.4951, -5.5198, -5.5726, -5.5845, -5.5944, -5.6234, -5.6865, -4.2295, -4.34, -5.2292, -4.7308, -4.63, -4.3422, -4.5441, -5.3094, -4.5074, -4.7136, -4.3756, -4.8433, -5.0342, -5.0134, -5.0907, -2.3156, -3.6339, -3.6942, -3.7016, -3.8052, -3.8147, -3.8824, -3.9262, -4.0037, -4.3423, -4.3651, -4.4104, -5.0415, -5.0513, -5.0676, -5.0871, -5.1466, -5.1843, -5.2306, -5.2635, -5.287, -5.339, -5.3595, -5.4944, -5.5008, -5.5707, -5.5995, -5.6199, -5.6309, -5.6946, -3.0541, -2.7719, -5.0163, -4.657, -4.4338, -4.9848, -5.0028, -3.7398, -4.5833, -4.2086, -4.3062, -4.9676, -4.9809, -5.0586, -5.0267, -2.8635, -3.2005, -3.6376, -3.7147, -3.7787, -3.8281, -3.8609, -3.9223, -4.0641, -4.1669, -4.4162, -4.5076, -4.611, -4.6766, -4.7156, -4.7656, -4.8015, -4.8133, -4.946, -4.97, -5.02, -5.0979, -5.1325, -5.1433, -5.1562, -5.2512, -5.2851, -5.327, -5.3288, -5.3744, -4.6509, -3.9352, -4.7042, -3.6222, -4.3032, -4.6965, -3.6762, -4.476, -4.6992, -4.1008, -4.5844, -4.6358, -4.6715, -3.4146, -4.2564, -4.2667, -4.3996, -4.485, -4.5174, -4.5506, -4.7902, -4.8303, -4.8563, -4.9046, -4.9248, -4.9941, -4.9976, -5.0229, -5.069, -5.0694, -5.084, -5.0862, -5.0862, -5.1539, -5.1857, -5.2058, -5.2335, -5.2693, -5.3104, -5.3253, -5.3469, -5.355, -5.3842, -2.8857, -3.49, -4.3269, -4.8543, -3.4498, -4.5597, -4.8797, -4.0919, -4.7376, -4.6309, -4.7873, -4.7243, -4.7786, -4.8736, -4.8615, -4.7942, -3.9714, -4.0462, -4.2809, -4.3917, -4.3975, -4.4251, -4.4538, -4.502, -4.6133, -4.6238, -4.6584, -4.6997, -4.7013, -4.7282, -4.7792, -4.8331, -4.8712, -4.9789, -4.9947, -5.1273, -5.1405, -5.1925, -5.1963, -5.2043, -5.2325, -5.2425, -5.2465, -5.2735, -5.2938, -5.2985, -4.2619, -4.0376, -5.0438, -3.7952, -4.818, -4.6424, -4.1509, -4.7467, -4.9647, -5.0252, -5.0281, -4.9793, -5.0037, -3.8409, -4.0217, -4.0354, -4.0646, -4.0964, -4.1686, -4.2121, -4.4318, -4.4976, -4.5024, -4.5073, -4.6252, -4.6529, -4.6636, -4.6711, -4.7219, -4.7246, -4.785, -4.7858, -4.8008, -4.8197, -4.83, -4.8835, -4.9046, -4.9156, -4.9216, -4.9768, -5.0427, -5.0481, -5.1481, -3.9316, -4.04, -3.3581, -4.5337, -4.6118, -4.1656, -4.3823, -4.5303, -4.5776, -4.6146, -3.0533, -3.0669, -3.108, -3.2519, -3.2705, -3.2904, -3.6067, -3.7912, -3.8443, -3.8995, -3.9263, -3.9379, -4.1073, -4.4164, -4.4493, -4.7737, -4.8459, -4.9255, -4.9409, -5.0907, -5.1985, -5.277, -5.3004, -5.3087, -5.3868, -5.4629, -5.537, -5.5492, -5.5842, -5.6184, -4.1677, -4.9289, -5.0311, -5.401, -4.7207, -4.2215, -4.7029, -4.5961, -4.6867, -4.9198, -5.0216, -5.046], \"loglift\": [30.0, 29.0, 28.0, 27.0, 26.0, 25.0, 24.0, 23.0, 22.0, 21.0, 20.0, 19.0, 18.0, 17.0, 16.0, 15.0, 14.0, 13.0, 12.0, 11.0, 10.0, 9.0, 8.0, 7.0, 6.0, 5.0, 4.0, 3.0, 2.0, 1.0, 1.2361, 1.2359, 1.2351, 1.2351, 1.2351, 1.235, 1.2346, 1.2345, 1.2345, 1.2345, 1.2339, 1.2339, 1.2337, 1.2336, 1.2334, 1.2332, 1.2332, 1.233, 1.2327, 1.2326, 1.2326, 1.2325, 1.2324, 1.2324, 1.2324, 1.2322, 1.2319, 1.2319, 1.2318, 1.2318, 1.2298, 1.2053, 1.2238, 1.1212, 1.1932, 1.1503, 1.1956, 1.0946, 1.1015, 0.9415, 1.1059, 1.0729, 1.0933, 0.9047, 0.8486, 1.0154, 1.0811, 0.7518, 1.7214, 1.7213, 1.721, 1.721, 1.7208, 1.7198, 1.7196, 1.7196, 1.7195, 1.7194, 1.7193, 1.7191, 1.7189, 1.7189, 1.7182, 1.7181, 1.718, 1.7168, 1.7167, 1.7165, 1.7157, 1.7155, 1.7154, 1.7149, 1.7148, 1.7146, 1.7143, 1.7139, 1.7135, 1.7133, 1.624, 1.6586, 1.6188, 1.5947, 1.5438, 1.5767, 1.6406, 1.5106, 1.4345, 1.4083, 1.517, 1.3229, 1.4436, 1.2352, 1.3469, 1.2283, 1.3105, 1.1325, 1.3614, 1.0584, 0.6506, 0.8105, 1.1294, -0.4975, 0.9992, 2.3895, 2.3888, 2.3887, 2.3887, 2.3882, 2.3879, 2.3876, 2.3875, 2.3861, 2.386, 2.3858, 2.3858, 2.3857, 2.3853, 2.3853, 2.3852, 2.385, 2.3847, 2.3847, 2.3842, 2.3839, 2.3836, 2.3833, 2.3832, 2.3831, 2.3829, 2.3828, 2.3824, 2.3822, 2.3821, 2.2494, 2.3014, 2.2378, 2.17, 2.1446, 1.944, 2.1571, 2.2367, 1.7172, 1.5169, 1.8115, 0.0234, 1.1223, 1.3594, 0.7737, 1.2774, 0.8318, 0.6668, 2.5203, 2.52, 2.5196, 2.5195, 2.5195, 2.5191, 2.5187, 2.5186, 2.5184, 2.5183, 2.5179, 2.5175, 2.5173, 2.517, 2.516, 2.5146, 2.5141, 2.5132, 2.513, 2.5124, 2.5121, 2.5116, 2.511, 2.511, 2.5107, 2.5101, 2.51, 2.5099, 2.5095, 2.5088, 2.4301, 2.2738, 2.4349, 2.1674, 1.8543, 1.3838, 1.2532, 2.2254, 0.95, 1.1893, 0.5153, 1.359, 1.7485, 1.204, 1.0827, 2.5865, 2.5852, 2.585, 2.585, 2.5848, 2.5848, 2.5847, 2.5846, 2.5844, 2.5833, 2.5832, 2.5831, 2.5797, 2.5796, 2.5795, 2.5794, 2.5789, 2.5786, 2.5782, 2.5779, 2.5777, 2.5772, 2.577, 2.5756, 2.5755, 2.5747, 2.5743, 2.5741, 2.5739, 2.5731, 2.4593, 2.3678, 2.4161, 2.2554, 2.1662, 2.3665, 2.347, 1.7483, 1.8736, 1.1425, 1.2652, 1.7951, 1.8152, 1.826, 1.4738, 2.6575, 2.6571, 2.6565, 2.6563, 2.6562, 2.6561, 2.656, 2.6558, 2.6554, 2.6551, 2.6542, 2.6538, 2.6533, 2.6529, 2.6527, 2.6524, 2.6522, 2.6522, 2.6513, 2.6511, 2.6507, 2.6501, 2.6498, 2.6497, 2.6496, 2.6487, 2.6484, 2.648, 2.648, 2.6475, 2.5753, 2.4373, 2.5101, 1.814, 2.1195, 2.2836, 1.2712, 1.981, 2.1508, 1.1322, 1.618, 0.2551, 0.4229, 2.7311, 2.7289, 2.7289, 2.7283, 2.7279, 2.7278, 2.7276, 2.7262, 2.726, 2.7258, 2.7255, 2.7253, 2.7248, 2.7247, 2.7245, 2.7242, 2.7242, 2.724, 2.724, 2.724, 2.7234, 2.7231, 2.7229, 2.7226, 2.7223, 2.7218, 2.7217, 2.7214, 2.7213, 2.721, 2.5787, 2.2878, 2.4762, 2.4913, 1.7833, 2.1492, 2.3758, 1.3655, 2.1413, 1.8631, 2.0973, 1.9155, 1.8745, 1.883, 1.4614, 0.8282, 2.9691, 2.9688, 2.9678, 2.9672, 2.9672, 2.967, 2.9669, 2.9666, 2.9659, 2.9658, 2.9655, 2.9652, 2.9652, 2.965, 2.9646, 2.9642, 2.9639, 2.9629, 2.9627, 2.9613, 2.9611, 2.9605, 2.9605, 2.9604, 2.96, 2.9599, 2.9599, 2.9595, 2.9592, 2.9592, 2.829, 2.5434, 2.7375, 1.3445, 2.4289, 2.0428, 1.0822, 1.7539, 2.1191, 1.6466, 1.6526, 0.6432, 0.0907, 2.9974, 2.9967, 2.9967, 2.9966, 2.9964, 2.9961, 2.9959, 2.9947, 2.9943, 2.9943, 2.9943, 2.9935, 2.9933, 2.9932, 2.9931, 2.9928, 2.9927, 2.9922, 2.9922, 2.9921, 2.9919, 2.9919, 2.9914, 2.9912, 2.9911, 2.991, 2.9905, 2.9898, 2.9897, 2.9886, 2.7356, 2.4539, 2.0462, 2.6309, 2.6301, 1.9107, 2.1471, 2.1785, 2.0942, 2.0252, 3.0394, 3.0394, 3.0394, 3.0391, 3.0391, 3.039, 3.0383, 3.0378, 3.0376, 3.0374, 3.0373, 3.0373, 3.0366, 3.035, 3.0348, 3.0324, 3.0318, 3.031, 3.0309, 3.0293, 3.0279, 3.0269, 3.0265, 3.0264, 3.0253, 3.024, 3.0227, 3.0225, 3.0219, 3.0212, 2.4854, 2.6737, 2.6946, 2.9259, 2.3888, 1.3036, 1.7464, 1.1891, 1.1503, 1.7483, 0.5072, 0.3052]}, \"token.table\": {\"Topic\": [9, 9, 9, 6, 6, 8, 9, 7, 8, 1, 7, 8, 1, 1, 4, 2, 3, 8, 7, 3, 4, 6, 5, 9, 5, 5, 6, 3, 6, 7, 8, 9, 5, 4, 1, 1, 4, 10, 7, 1, 3, 6, 6, 6, 9, 3, 7, 4, 1, 6, 8, 1, 4, 1, 9, 2, 1, 6, 6, 7, 9, 10, 10, 10, 4, 6, 10, 6, 5, 10, 2, 5, 6, 1, 4, 7, 2, 4, 10, 6, 7, 2, 6, 9, 8, 3, 1, 9, 7, 10, 7, 3, 4, 5, 7, 10, 8, 4, 5, 5, 1, 3, 9, 8, 2, 4, 1, 4, 10, 4, 2, 2, 5, 10, 1, 4, 10, 1, 2, 8, 1, 2, 3, 3, 1, 8, 2, 10, 2, 3, 9, 1, 2, 3, 6, 2, 5, 2, 10, 4, 2, 3, 5, 10, 2, 9, 3, 9, 1, 7, 1, 10, 8, 10, 3, 2, 5, 7, 1, 2, 2, 3, 6, 10, 1, 5, 1, 4, 5, 6, 9, 3, 1, 2, 9, 3, 7, 9, 1, 4, 1, 7, 2, 2, 5, 6, 1, 4, 8, 1, 4, 8, 10, 1, 8, 8, 7, 1, 5, 7, 1, 3, 5, 8, 2, 4, 2, 6, 8, 4, 8, 3, 6, 6, 7, 8, 2, 9, 3, 7, 10, 2, 3, 10, 2, 5, 4, 8, 2, 7, 6, 1, 2, 4, 7, 8, 3, 2, 2, 3, 6, 10, 7, 3, 2, 5, 1, 2, 6, 4, 5, 1, 10, 5, 6, 1, 8, 4, 5, 1, 4, 1, 4, 7, 9, 8, 1, 10, 1, 2, 4, 5, 6, 2, 9, 1, 7, 1, 4, 9, 9, 1, 4, 8, 6, 9, 1, 5, 6, 3, 9, 6, 5, 1, 2, 6, 8, 6, 8, 7, 10, 3, 8, 7, 10, 1, 7, 6, 5, 2, 3, 4, 5, 8, 1, 4, 10, 4, 5, 4, 9, 3, 4, 9, 5, 6, 2, 3, 5, 7, 8, 10, 6, 1, 3, 5, 1, 4, 6, 9, 1, 10, 1, 2, 3, 1, 1, 5, 8, 3, 5, 7, 8, 6, 7, 10, 9, 10, 3, 7, 8, 1, 8, 5, 3, 1, 2, 1, 4, 6, 8, 1, 2, 8, 2, 3, 5, 6, 7, 8, 3, 1, 2, 8, 7, 1, 9, 6, 1, 4, 3, 3, 10, 2, 5, 10, 7, 1, 4, 1, 8, 2, 3, 3, 8, 3, 9, 2, 3, 6, 7, 1, 3, 4, 1, 3, 7, 10, 2, 10, 3, 6, 7, 9, 10, 1, 2, 5, 4, 1, 5, 6, 8, 8, 3, 1, 2, 5, 1, 2, 3, 5, 4, 10, 2, 3, 5, 10, 7, 4, 4, 8, 9, 7, 5, 9, 7, 1, 4, 2, 2, 3, 6, 6, 7, 3, 1, 2, 9, 5, 5, 3, 8, 6, 9, 2, 2, 10, 9, 1, 2, 3, 4, 6, 7, 8, 9, 7, 9, 1, 9, 10, 3, 7, 3, 7, 9, 8, 1, 9, 3, 4, 4, 4, 5, 8, 1, 3, 7, 8, 6, 4, 4, 9, 7, 3, 6, 1, 2, 4, 5, 2, 1, 9, 2, 9, 10, 10, 1, 5, 7, 4, 4, 7, 9, 2, 5, 6, 7, 2, 3, 8, 4, 5, 7, 8, 3, 1, 5, 9, 1, 10, 8, 6, 3, 6, 8, 9, 3, 8, 2, 5, 2, 3, 6, 6, 5, 1, 3, 4, 7, 8, 9, 4, 7, 10, 1, 3, 7, 10, 4, 1, 7, 9, 3, 4, 7, 1, 4, 8, 1, 3, 7, 10, 1, 5, 4, 8, 5, 7, 1, 6, 2], \"Freq\": [0.9931812082107867, 0.9873989571431322, 0.9951917992699789, 0.9949389154210871, 0.3268790847530338, 0.26578019040667233, 0.4032527026859856, 0.7009723005947993, 0.295722689313431, 0.8024204995802534, 0.048145229974815205, 0.14844779242234687, 0.9984542529921605, 0.8736175681778853, 0.12458546189667234, 0.8644246859291884, 0.13484061953212967, 0.9946390416818841, 0.9831692000182282, 0.2162053082551174, 0.7812218471618243, 0.9910446734021018, 0.8016093827983137, 0.19286842292891757, 0.9914755572251132, 0.9981894291487479, 0.9969363859704315, 0.19857328293770388, 0.21741600321646412, 0.3870004857253061, 0.1507417622300818, 0.04565736067545746, 0.9981815283664904, 0.9943571187132515, 0.997862963221543, 0.9875420237413629, 0.010395179197277504, 0.9913587186747573, 0.994187240876574, 0.05949333537215094, 0.5096891716957409, 0.42977275104658297, 0.9944633101124077, 0.9967157422036563, 0.9931490995680495, 0.14157029292616435, 0.8576419681139893, 0.9982391429307692, 0.30770045619188857, 0.6860888550224542, 0.9801325817391108, 0.67861707891694, 0.32032624354470945, 0.9981217849084024, 0.9907865991258683, 0.9970752323452797, 0.9973062437983204, 0.9972345898961419, 0.9943038413207919, 0.5579845624719498, 0.4406809896795513, 0.9935518347501581, 0.9923941923590939, 0.9723157889138038, 0.07445315041165848, 0.9200282158012084, 0.997966630183556, 0.9913696617886062, 0.7884393392251254, 0.21065173185404115, 0.9955612032304467, 0.8805242628415604, 0.11893791785659422, 0.07416139893439361, 0.9146572535241878, 0.9948333251501972, 0.9994888744813275, 0.9966606262035252, 0.9880064977115373, 0.9988576507488399, 0.9909479708651521, 0.7500068361462869, 0.25000227871542896, 0.9922295496994205, 0.9881580703835492, 0.9961936810539658, 0.5722687436118102, 0.42655216537732155, 0.9913582516469593, 0.9979037244882192, 0.9922823597303845, 0.9993095971677938, 0.9924547821487572, 0.9973688166974078, 0.42275447146331896, 0.5726674046063399, 0.9828234919164065, 0.994020616958294, 0.9985162791262581, 0.9985079976110578, 0.997423186772902, 0.9979892323210514, 0.9967844725514886, 0.9919744032421207, 0.995155468945362, 0.9962213487760391, 0.9951713361556347, 0.9885091680302219, 0.9980842048363068, 0.9984840010134941, 0.9954136145358947, 0.9988585176432482, 0.9962783742573093, 0.9864252364040369, 0.9589003769529588, 0.03868762327764099, 0.989666051688121, 0.11945849380614129, 0.2986462345153532, 0.5810026744207781, 0.9993860158976261, 0.996031367021057, 0.9905150629680508, 0.9924785268098489, 0.5719611175945719, 0.42435824853790816, 0.9935626828463747, 0.9972016610354055, 0.1663407083562806, 0.8017622142772725, 0.03160473458769331, 0.1360752369149063, 0.6103664612342536, 0.13804734179773104, 0.11536813564524666, 0.9975646543111961, 0.9830835158066228, 0.9926910596017113, 0.9833243883680121, 0.9854347062859042, 0.6867044525124941, 0.02121094834015426, 0.13919684848226233, 0.1511280069235991, 0.9982006434351129, 0.99801103281311, 0.9925475184806068, 0.9937969684158714, 0.9972229156284128, 0.9918569528095178, 0.9966602079534164, 0.992550299641302, 0.9951615158495578, 0.975664640663643, 0.9981308439061916, 0.901081916421592, 0.0980002469255437, 0.9945522930062828, 0.9968233229981129, 0.9969047226290895, 0.48445680986555484, 0.32798628742450603, 0.18505648327162497, 0.9832820684664474, 0.995327198898668, 0.9892756531344926, 0.2560019684620113, 0.31331584199828244, 0.07641849804836158, 0.3534355534736723, 0.988134988887134, 0.9934557249666681, 0.8912132122606231, 0.10855993557201628, 0.9890154757888499, 0.9947038660046844, 0.9953333519196826, 0.9959053728225797, 0.9991288595744168, 0.9864842850775114, 0.5686368185753822, 0.4289716350656392, 0.9892370731801121, 0.9954864748447667, 0.9946832881731907, 0.9922640723240426, 0.8681994369773679, 0.13065729923569389, 0.9924029669095064, 0.9181512584880019, 0.05373794991150513, 0.027636659954488354, 0.9978639402526943, 0.9693139232570065, 0.030218419669882698, 0.9916461202386058, 0.9918569528095178, 0.9958930549667321, 0.986145596734941, 0.9972308135109804, 0.9998099664044386, 0.8583640706583483, 0.13655792033200995, 0.9947949151685221, 0.9952905670642074, 0.9967805506948638, 0.8365559824210195, 0.10725076697705378, 0.05614893094681051, 0.9114163886711755, 0.08450218173110235, 0.9947435500095163, 0.9966375300742614, 0.9979977417173924, 0.7850014280934048, 0.20973320597915393, 0.9938470481359424, 0.9869225309965496, 0.5603356395471527, 0.28016781977357635, 0.15732500648823902, 0.2026773708185639, 0.6395037538871458, 0.1573582071572701, 0.996799857412876, 0.9904518658898838, 0.9988769773106708, 0.9846943745844722, 0.8803552954217281, 0.11929532234071095, 0.99545461960707, 0.424969841385843, 0.21341280244267224, 0.2375377279361917, 0.10763428297108688, 0.01670187149551348, 0.9990011783778054, 0.99373271949916, 0.5143476476465335, 0.17856597578672107, 0.13004261280119905, 0.17565457400758974, 0.986270924547621, 0.9909514734383035, 0.9903543709595741, 0.9964633750256017, 0.07418167299445386, 0.920527123976632, 0.9993972185464601, 0.9901729994172427, 0.9945375512566872, 0.09592991828883721, 0.8953459040291473, 0.9912119961357446, 0.9969391289670959, 0.3459388364301809, 0.6500302329696142, 0.9943977310211397, 0.9976716817384864, 0.9928476832441651, 0.005630516162065208, 0.8555395648318833, 0.1429871138994791, 0.30793403257628704, 0.6915009854344691, 0.9956613831428468, 0.3022239549683806, 0.6896905639022018, 0.17280405108206293, 0.40151529516126383, 0.10571541948549731, 0.2663215375500029, 0.05285770974274866, 0.9966642623997465, 0.9942046357703542, 0.8498361901048774, 0.15009544651106044, 0.8780414098410252, 0.12064691127586605, 0.9932289443702402, 0.9869591459333485, 0.4837269786964226, 0.5141182024888681, 0.994372953195684, 0.2311010761646963, 0.766282515703993, 0.37625462437442664, 0.038101734113865984, 0.583432803618573, 0.9931697093950747, 0.9946599846507724, 0.9986198270755436, 0.9901136906506199, 0.26903993988492775, 0.7301187334118556, 0.9987599753447, 0.989855480652886, 0.994620248736912, 0.9905913604798562, 0.9942171264981867, 0.997847805964589, 0.9975315263068588, 0.9846142357929756, 0.9972311181441585, 0.9877766258023043, 0.9975639881587978, 0.9876380305699028, 0.9931342818107521, 0.9867653516726608, 0.9892253376167349, 0.25740673431364414, 0.11840709778427631, 0.3294806199214645, 0.2960177444606908, 0.7173109605713297, 0.28157321898093046, 0.9981892018977888, 0.9866611354825814, 0.979509551630681, 0.9860105352224631, 0.993550564340346, 0.8690056765913986, 0.007317942539717041, 0.1244050231751897, 0.4904153054756057, 0.5076660951154511, 0.34252924188798345, 0.28136330583655783, 0.23569274025149337, 0.06442811930750166, 0.011417641396266115, 0.06524366512152066, 0.9936790359861902, 0.21448780822012428, 0.32173171233018644, 0.46357042421768796, 0.6159851428792835, 0.2633867507483833, 0.04531384959111971, 0.07505106338529202, 0.47326948501590926, 0.5205964335175002, 0.27400957294634587, 0.6976427942778675, 0.028843112941720622, 0.9980072435388089, 0.9951133933048888, 0.9938915124723132, 0.9894977917232021, 0.29414654915017235, 0.3096279464738656, 0.0030962794647386564, 0.39322749202180934, 0.992533499261082, 0.9973614007231223, 0.9888581489254513, 0.994222246455179, 0.9911468333709472, 0.35609849987634856, 0.6409772997774275, 0.001249468420618767, 0.13007323028853152, 0.8640578869166736, 0.9986311450927863, 0.9963710459119026, 0.33689088623708496, 0.6619089659107484, 0.7447910856411317, 0.13434034094840042, 0.09058965519892134, 0.030368123049638405, 0.241778555378053, 0.7574468805203067, 0.9884759099622247, 0.28994739765151595, 0.09820798952712638, 0.43211515391935607, 0.07014856394794741, 0.07950170580767373, 0.028994739765151597, 0.9986247534064568, 0.445986541101197, 0.5522504823022043, 0.0016100597151667763, 0.994738821615767, 0.9580642863679206, 0.04087304975972358, 0.9874789233586141, 0.9948651743235597, 0.9894402294219333, 0.9922152837916801, 0.9903276322974914, 0.995037673027354, 0.3011041652939633, 0.4516562479409449, 0.24422893407177018, 0.9894064253500287, 0.9977911038834736, 0.0018443458482134448, 0.9951057215468365, 0.98270993418759, 0.9935847490097396, 0.991951083169385, 0.8583063120041842, 0.13898710165976846, 0.9142345683031015, 0.08311223348210013, 0.90623505001747, 0.09373166318350298, 0.9977379202473017, 0.9966442718809535, 0.13793194982795318, 0.15708916508183557, 0.7011540782920953, 0.1704454234264681, 0.41393888546427965, 0.14000874067174165, 0.273930144792538, 0.9960333600865582, 0.9836390238101388, 0.9926098055703398, 0.9896006558235512, 0.9897290183622001, 0.9872640011916569, 0.9973636148790592, 0.16775785742572036, 0.17344456445710071, 0.6568146621244305, 0.9982118973372355, 0.42227022938068565, 0.24041662694666774, 0.06780981785675244, 0.26815700697897554, 0.9926663306785548, 0.9932190603468679, 0.05789919952387763, 0.9377152966367137, 0.0037760347515572367, 0.9997440760272376, 0.8088632511463334, 0.11156734498570116, 0.07844578944307112, 0.2892079431018314, 0.7098740421590407, 0.670207444845232, 0.21041396524210773, 0.038965549118908836, 0.0789052369657904, 0.987745637550033, 0.9978423285055239, 0.9920845814744106, 0.9920641600716285, 0.99146989650539, 0.9883079343390043, 0.9993756896024301, 0.9965431996988277, 0.9932000583304345, 0.2534479747118051, 0.7458611827233121, 0.9981295835935792, 0.8134406089564025, 0.056657554852684755, 0.1274794984185407, 0.8017092086360318, 0.19703022924105867, 0.9955558617328879, 0.42942643448031764, 0.23239548218934838, 0.3368050466512295, 0.9965184237373533, 0.994940842358189, 0.9945045421670939, 0.9943924077154364, 0.8619384246769581, 0.13139305254221922, 0.9969554022181534, 0.9986204640738054, 0.9974530020986899, 0.993936191198626, 0.08451056657237893, 0.554132575753067, 0.02567409617388727, 0.07702228852166182, 0.012837048086943635, 0.1486958070070971, 0.09734761465932257, 0.9974851338977886, 0.9957390058852598, 0.9920338700872351, 0.9982564157041072, 0.9959715045779458, 0.996373963754547, 0.9944177659343926, 0.9982800226534753, 0.18048326659929825, 0.44085256923435145, 0.3757602435755882, 0.9961859268369704, 0.3050304562460398, 0.690068901015631, 0.9913732486934314, 0.9882964295266411, 0.9811452769079655, 0.9945742420047079, 0.8033413180493177, 0.19604960678771355, 0.9960790641339988, 0.22295012713944026, 0.7733582535149335, 0.992499492897923, 0.9923886831891086, 0.9873410659983907, 0.9980704283991337, 0.9898234154198596, 0.9913818554770834, 0.9939980502037694, 0.9966012794000656, 0.33941443689759404, 0.3917812357332228, 0.2676525273821027, 0.9938039966132833, 0.9971460878547271, 0.9973405964471513, 0.9881335833733803, 0.6140679596002976, 0.38529754327861815, 0.995570926858411, 0.9843958714646, 0.9989413698934583, 0.9906229399593914, 0.9892459595905033, 0.9933496739331598, 0.323152765597128, 0.5523657737532304, 0.12024288952451274, 0.2797836632096338, 0.7188885790803091, 0.6023852971278645, 0.39428855812005675, 0.9985719099134504, 0.9989563470446763, 0.9897223651205765, 0.9876813939698124, 0.4686488615496457, 0.5291196823947613, 0.9874617559185501, 0.9963571970834074, 0.995259629705317, 0.9955213769863647, 0.995629211479841, 0.9983725188691598, 0.9942710940119072, 0.9912351794173894, 0.9947227334447449, 0.9983672279760458, 0.9931159377789492, 0.7875170289372835, 0.20382793690141457, 0.990912507222569, 0.9954191991415003, 0.1503315919484303, 0.8431641461455439, 0.9890070209499423, 0.792296669865626, 0.20711489710180264, 0.9900023916587871, 0.9878305817458984, 0.11972197120753851, 0.4172129299656645, 0.2076994803524721, 0.2548626811311994, 0.9897783606888708, 0.9886415271424863, 0.9965069269995466, 0.9956118173361252, 0.9803141061213129, 0.124720708687831, 0.39372615879883904, 0.2054223437211334, 0.27389645829484455, 0.9974085058649822, 0.9983894475418578, 0.41938077725789086, 0.5779271686602643, 0.7819438707592874, 0.21674935364906564, 0.9978995690436658, 0.5358350088389141, 0.4607498483646713, 0.9942820752327443, 0.8672212769327852, 0.0023064395663105986, 0.06227386829038617, 0.06688674742300736, 0.9940263522324505, 0.986942030247269, 0.986275069077564, 0.9959601828668395, 0.9979848635438395, 0.993838458629079, 0.9977691426941818, 0.9975705306235955, 0.9933731958280604], \"Term\": [\"accompanied\", \"admission\", \"air\", \"alley\", \"aloha\", \"aloha\", \"aloha\", \"along\", \"along\", \"also\", \"also\", \"also\", \"always\", \"amazing\", \"amazing\", \"american\", \"american\", \"amid\", \"aqua\", \"area\", \"area\", \"array\", \"art\", \"art\", \"artist\", \"asian\", \"attack\", \"attraction\", \"attraction\", \"attraction\", \"attraction\", \"attraction\", \"availability\", \"away\", \"awesome\", \"back\", \"back\", \"backed\", \"banyan\", \"bar\", \"bar\", \"bar\", \"base\", \"battleship\", \"bbq\", \"beach\", \"beach\", \"beautiful\", \"beer\", \"beer\", \"behind\", \"best\", \"best\", \"better\", \"biggest\", \"bistro\", \"bit\", \"bite\", \"blend\", \"blowhole\", \"blowhole\", \"bright\", \"broad\", \"broth\", \"brought\", \"brought\", \"buffet\", \"built\", \"bustling\", \"bustling\", \"byob\", \"cafe\", \"cafe\", \"cake\", \"cake\", \"canyon\", \"casual\", \"cave\", \"ceiling\", \"center\", \"central\", \"chain\", \"chain\", \"charge\", \"cheese\", \"cheesecake\", \"chicken\", \"chicken\", \"child\", \"chinese\", \"city\", \"classic\", \"cliff\", \"clothing\", \"club\", \"club\", \"co\", \"cocktail\", \"coffee\", \"coffeehouse\", \"come\", \"comfort\", \"condo\", \"cook\", \"cooking\", \"cool\", \"counter\", \"couple\", \"course\", \"cream\", \"creative\", \"cuisine\", \"curry\", \"daily\", \"day\", \"day\", \"daytime\", \"decor\", \"decor\", \"decor\", \"delicious\", \"delivery\", \"denny\", \"destination\", \"different\", \"different\", \"dig\", \"diner\", \"dining\", \"dining\", \"dining\", \"dish\", \"dish\", \"dish\", \"dish\", \"dishing\", \"donut\", \"draw\", \"driving\", \"drop\", \"eatery\", \"eatery\", \"eatery\", \"eatery\", \"eats\", \"elegant\", \"environs\", \"everyone\", \"excellent\", \"expansive\", \"experience\", \"express\", \"factory\", \"fairway\", \"fall\", \"fare\", \"fare\", \"farm\", \"fast\", \"feature\", \"featuring\", \"featuring\", \"featuring\", \"film\", \"first\", \"flair\", \"flavor\", \"flavor\", \"flavor\", \"flavor\", \"flea\", \"fleetwood\", \"food\", \"food\", \"foot\", \"forest\", \"formation\", \"fried\", \"friendly\", \"frozen\", \"fun\", \"fun\", \"funky\", \"fusion\", \"gallery\", \"garden\", \"get\", \"get\", \"getting\", \"go\", \"go\", \"go\", \"golf\", \"good\", \"good\", \"google\", \"gorge\", \"got\", \"gourmet\", \"grand\", \"great\", \"grill\", \"grill\", \"guest\", \"hall\", \"harbor\", \"hawaiian\", \"hawaiian\", \"hawaiian\", \"hike\", \"hike\", \"hiking\", \"hilo\", \"historic\", \"history\", \"history\", \"homey\", \"horn\", \"hotel\", \"hotel\", \"hotel\", \"house\", \"house\", \"house\", \"hut\", \"hyatt\", \"ice\", \"inc\", \"including\", \"including\", \"inventive\", \"island\", \"island\", \"island\", \"island\", \"island\", \"italian\", \"japan\", \"japanese\", \"japanese\", \"japanese\", \"japanese\", \"jazz\", \"joint\", \"kai\", \"king\", \"kitchen\", \"kitchen\", \"known\", \"kona\", \"korean\", \"la\", \"la\", \"lahaina\", \"landmark\", \"large\", \"large\", \"lava\", \"light\", \"like\", \"like\", \"little\", \"little\", \"live\", \"live\", \"lively\", \"lobster\", \"lobster\", \"local\", \"local\", \"local\", \"local\", \"local\", \"locally\", \"lookout\", \"lot\", \"lot\", \"love\", \"love\", \"macadamia\", \"mai\", \"make\", \"make\", \"mall\", \"market\", \"market\", \"maui\", \"maui\", \"maui\", \"mauna\", \"meet\", \"memorial\", \"men\", \"menu\", \"menu\", \"mexican\", \"mini\", \"missouri\", \"mixed\", \"moana\", \"modern\", \"modest\", \"monument\", \"mountain\", \"movie\", \"much\", \"nakalele\", \"naval\", \"navy\", \"neighborhood\", \"new\", \"new\", \"new\", \"new\", \"nice\", \"nice\", \"noodle\", \"north\", \"northern\", \"numerous\", \"nut\", \"ocean\", \"ocean\", \"ocean\", \"offer\", \"offer\", \"offering\", \"offering\", \"offering\", \"offering\", \"offering\", \"offering\", \"official\", \"old\", \"old\", \"old\", \"one\", \"one\", \"one\", \"one\", \"open\", \"open\", \"option\", \"option\", \"option\", \"order\", \"ordered\", \"organic\", \"organization\", \"original\", \"original\", \"original\", \"original\", \"owner\", \"pacific\", \"pahoa\", \"pancake\", \"panda\", \"park\", \"park\", \"park\", \"part\", \"part\", \"pearl\", \"picturesque\", \"pizza\", \"pizza\", \"place\", \"place\", \"place\", \"place\", \"plate\", \"plate\", \"platter\", \"plus\", \"plus\", \"plus\", \"plus\", \"plus\", \"plus\", \"pool\", \"portion\", \"portion\", \"portion\", \"powerful\", \"price\", \"price\", \"quaint\", \"quality\", \"quiet\", \"rainbow\", \"rainforest\", \"ramen\", \"range\", \"range\", \"range\", \"reached\", \"really\", \"really\", \"recommend\", \"reef\", \"refined\", \"regional\", \"relaxed\", \"relaxed\", \"resort\", \"resort\", \"restaurant\", \"restaurant\", \"roast\", \"rock\", \"roll\", \"roll\", \"roll\", \"room\", \"room\", \"room\", \"room\", \"roy\", \"royal\", \"saimin\", \"sand\", \"sandy\", \"sea\", \"seafood\", \"seating\", \"seating\", \"seating\", \"see\", \"selection\", \"selection\", \"selection\", \"selection\", \"sell\", \"serf\", \"served\", \"served\", \"served\", \"service\", \"serving\", \"serving\", \"serving\", \"set\", \"set\", \"setting\", \"setting\", \"setting\", \"setting\", \"setup\", \"shave\", \"shaved\", \"shirt\", \"shoe\", \"shooting\", \"shop\", \"shopping\", \"shoreline\", \"short\", \"short\", \"signature\", \"simple\", \"simple\", \"simple\", \"site\", \"site\", \"sizable\", \"small\", \"small\", \"small\", \"snow\", \"snug\", \"sophisticated\", \"sound\", \"soup\", \"soup\", \"sourced\", \"space\", \"specialty\", \"spice\", \"spot\", \"spot\", \"spot\", \"spot\", \"spot\", \"spot\", \"spot\", \"spouting\", \"spring\", \"stadium\", \"staff\", \"stand\", \"standard\", \"staple\", \"starbucks\", \"state\", \"state\", \"state\", \"statue\", \"steak\", \"steak\", \"steakhouse\", \"steep\", \"step\", \"stop\", \"store\", \"store\", \"super\", \"surf\", \"surf\", \"surfer\", \"surrender\", \"surrounded\", \"sushi\", \"swap\", \"sweeping\", \"swimming\", \"taco\", \"take\", \"take\", \"take\", \"takeaway\", \"takeout\", \"tasty\", \"tea\", \"thai\", \"thai\", \"theater\", \"theatre\", \"time\", \"tiny\", \"tokyo\", \"took\", \"top\", \"top\", \"top\", \"topping\", \"topping\", \"tour\", \"tour\", \"traditional\", \"trail\", \"translated\", \"treat\", \"tree\", \"tree\", \"trip\", \"tropical\", \"try\", \"turning\", \"turtle\", \"u\", \"udon\", \"ukulele\", \"unassuming\", \"upscale\", \"us\", \"use\", \"use\", \"using\", \"valley\", \"various\", \"various\", \"vast\", \"venue\", \"venue\", \"verde\", \"version\", \"view\", \"view\", \"view\", \"view\", \"viewpoint\", \"village\", \"visitor\", \"volcano\", \"waikele\", \"waikiki\", \"waikiki\", \"waikiki\", \"waikiki\", \"waimea\", \"wait\", \"water\", \"water\", \"waterfall\", \"waterfall\", \"wave\", \"way\", \"way\", \"welcoming\", \"well\", \"well\", \"well\", \"well\", \"went\", \"whipping\", \"whole\", \"wide\", \"wifi\", \"wing\", \"would\", \"wwii\", \"yamaguchi\"]}, \"R\": 30, \"lambda.step\": 0.01, \"plot.opts\": {\"xlab\": \"PC1\", \"ylab\": \"PC2\"}, \"topic.order\": [3, 9, 6, 5, 2, 8, 4, 1, 7, 10]};\n",
       "\n",
       "function LDAvis_load_lib(url, callback){\n",
       "  var s = document.createElement('script');\n",
       "  s.src = url;\n",
       "  s.async = true;\n",
       "  s.onreadystatechange = s.onload = callback;\n",
       "  s.onerror = function(){console.warn(\"failed to load library \" + url);};\n",
       "  document.getElementsByTagName(\"head\")[0].appendChild(s);\n",
       "}\n",
       "\n",
       "if(typeof(LDAvis) !== \"undefined\"){\n",
       "   // already loaded: just create the visualization\n",
       "   !function(LDAvis){\n",
       "       new LDAvis(\"#\" + \"ldavis_el47046112592126242198853594\", ldavis_el47046112592126242198853594_data);\n",
       "   }(LDAvis);\n",
       "}else if(typeof define === \"function\" && define.amd){\n",
       "   // require.js is available: use it to load d3/LDAvis\n",
       "   require.config({paths: {d3: \"https://d3js.org/d3.v5\"}});\n",
       "   require([\"d3\"], function(d3){\n",
       "      window.d3 = d3;\n",
       "      LDAvis_load_lib(\"https://cdn.jsdelivr.net/gh/bmabey/pyLDAvis@3.4.0/pyLDAvis/js/ldavis.v3.0.0.js\", function(){\n",
       "        new LDAvis(\"#\" + \"ldavis_el47046112592126242198853594\", ldavis_el47046112592126242198853594_data);\n",
       "      });\n",
       "    });\n",
       "}else{\n",
       "    // require.js not available: dynamically load d3 & LDAvis\n",
       "    LDAvis_load_lib(\"https://d3js.org/d3.v5.js\", function(){\n",
       "         LDAvis_load_lib(\"https://cdn.jsdelivr.net/gh/bmabey/pyLDAvis@3.4.0/pyLDAvis/js/ldavis.v3.0.0.js\", function(){\n",
       "                 new LDAvis(\"#\" + \"ldavis_el47046112592126242198853594\", ldavis_el47046112592126242198853594_data);\n",
       "            })\n",
       "         });\n",
       "}\n",
       "</script>"
      ],
      "text/plain": [
       "PreparedData(topic_coordinates=              x         y  topics  cluster       Freq\n",
       "topic                                                \n",
       "2     -0.265551  0.183487       1        1  29.043053\n",
       "8      0.182214  0.261164       2        1  17.862396\n",
       "5      0.215690  0.067007       3        1   9.155535\n",
       "4     -0.294209  0.078085       4        1   8.033076\n",
       "1      0.094144  0.035129       5        1   7.525101\n",
       "7      0.054841  0.024307       6        1   7.006041\n",
       "3      0.035258 -0.201480       7        1   6.504053\n",
       "0     -0.036680 -0.128597       8        1   5.116524\n",
       "6     -0.063288 -0.228304       9        1   4.975444\n",
       "9      0.077581 -0.090799      10        1   4.778777, topic_info=            Term          Freq         Total Category  logprob  loglift\n",
       "255   restaurant  12322.000000  12322.000000  Default  30.0000  30.0000\n",
       "1125        shop   1921.000000   1921.000000  Default  29.0000  29.0000\n",
       "0          great   2755.000000   2755.000000  Default  28.0000  28.0000\n",
       "260         food   3914.000000   3914.000000  Default  27.0000  27.0000\n",
       "917        store   1514.000000   1514.000000  Default  26.0000  26.0000\n",
       "...          ...           ...           ...      ...      ...      ...\n",
       "973        house    124.668343    794.365939  Topic10  -4.5961   1.1891\n",
       "388       eatery    113.874464    754.327423  Topic10  -4.6867   1.1503\n",
       "332         room     90.200958    328.550916  Topic10  -4.9198   1.7483\n",
       "882      setting     81.467113   1026.547833  Topic10  -5.0216   0.5072\n",
       "6       offering     79.506955   1226.172684  Topic10  -5.0460   0.3052\n",
       "\n",
       "[485 rows x 6 columns], token_table=      Topic      Freq         Term\n",
       "term                              \n",
       "3201      9  0.993181  accompanied\n",
       "1037      9  0.987399    admission\n",
       "907       9  0.995192          air\n",
       "8260      6  0.994939        alley\n",
       "357       6  0.326879        aloha\n",
       "...     ...       ...          ...\n",
       "2870      5  0.997985         wifi\n",
       "2345      7  0.993838         wing\n",
       "248       1  0.997769        would\n",
       "2055      6  0.997571         wwii\n",
       "7653      2  0.993373    yamaguchi\n",
       "\n",
       "[603 rows x 3 columns], R=30, lambda_step=0.01, plot_opts={'xlab': 'PC1', 'ylab': 'PC2'}, topic_order=[3, 9, 6, 5, 2, 8, 4, 1, 7, 10])"
      ]
     },
     "execution_count": 107,
     "metadata": {},
     "output_type": "execute_result"
    }
   ],
   "source": [
    "import pyLDAvis\n",
    "import pyLDAvis.gensim_models as gensimvis\n",
    "pyLDAvis.enable_notebook()\n",
    "vis = gensimvis.prepare(lda_model, bow_corpus, dictionary)\n",
    "vis"
   ]
  },
  {
   "cell_type": "markdown",
   "metadata": {},
   "source": [
    "## 9. Compute Similarity Score"
   ]
  },
  {
   "cell_type": "code",
   "execution_count": 121,
   "metadata": {},
   "outputs": [
    {
     "name": "stdout",
     "output_type": "stream",
     "text": [
      "Review: great for sunset\n",
      "Business: 'Ehukai Beach Park ['Park', 'Public beach', 'Tourist attraction'] Popular surfing beach offering massive wintertime waves, with calmer waters in the summer.\n",
      "Similarity Score (Trustworthiness): 0.0569\n"
     ]
    }
   ],
   "source": [
    "import numpy as np \n",
    "from scipy.spatial.distance import cosine\n",
    "def get_lda_vector(text):    \n",
    "    processed_text = preprocess_text(text)    \n",
    "    bow_vector = dictionary.doc2bow(processed_text)    \n",
    "    lda_vector = lda_model.get_document_topics(bow_vector, minimum_probability=0.0)    \n",
    "    dense_vector = np.zeros(lda_model.num_topics)    \n",
    "    for topic_num, prop_topic in lda_vector:        \n",
    "        dense_vector[topic_num] = prop_topic    \n",
    "    return dense_vector\n",
    "    \n",
    "def calculate_cosine_similarity(vec1, vec2):    \n",
    "    return 1 - cosine(vec1, vec2)\n",
    "    \n",
    "# Example with the first review\n",
    "sample_review = df['review_document'].iloc[0]\n",
    "sample_business = df['business_document'].iloc[0]\n",
    "review_vector = get_lda_vector(sample_review)\n",
    "business_vector = get_lda_vector(sample_business)\n",
    "similarity_score = calculate_cosine_similarity(review_vector, business_vector)\n",
    "print(f'Review: {sample_review}')\n",
    "print(f'Business: {sample_business}')\n",
    "print(f'Similarity Score (Trustworthiness): {similarity_score:.4f}')"
   ]
  },
  {
   "cell_type": "code",
   "execution_count": null,
   "metadata": {},
   "outputs": [],
   "source": []
  }
 ],
 "metadata": {
  "kernelspec": {
   "display_name": "Python 3 (ipykernel)",
   "language": "python",
   "name": "python3"
  },
  "language_info": {
   "codemirror_mode": {
    "name": "ipython",
    "version": 3
   },
   "file_extension": ".py",
   "mimetype": "text/x-python",
   "name": "python",
   "nbconvert_exporter": "python",
   "pygments_lexer": "ipython3",
   "version": "3.12.2"
  }
 },
 "nbformat": 4,
 "nbformat_minor": 4
}
