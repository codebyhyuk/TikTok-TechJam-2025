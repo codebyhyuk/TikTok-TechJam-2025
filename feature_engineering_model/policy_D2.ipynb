{
 "cells": [
  {
   "cell_type": "code",
   "execution_count": null,
   "id": "e3c579cd-195e-4556-9c40-335f2be67e0d",
   "metadata": {},
   "outputs": [
    {
     "data": {
      "text/html": [
       "<div>\n",
       "<style scoped>\n",
       "    .dataframe tbody tr th:only-of-type {\n",
       "        vertical-align: middle;\n",
       "    }\n",
       "\n",
       "    .dataframe tbody tr th {\n",
       "        vertical-align: top;\n",
       "    }\n",
       "\n",
       "    .dataframe thead th {\n",
       "        text-align: right;\n",
       "    }\n",
       "</style>\n",
       "<table border=\"1\" class=\"dataframe\">\n",
       "  <thead>\n",
       "    <tr style=\"text-align: right;\">\n",
       "      <th></th>\n",
       "      <th>Unnamed: 0</th>\n",
       "      <th>rating</th>\n",
       "      <th>text</th>\n",
       "      <th>business_name</th>\n",
       "      <th>business_category</th>\n",
       "      <th>business_description</th>\n",
       "      <th>_id</th>\n",
       "    </tr>\n",
       "  </thead>\n",
       "  <tbody>\n",
       "    <tr>\n",
       "      <th>0</th>\n",
       "      <td>848694</td>\n",
       "      <td>5</td>\n",
       "      <td>Excellent beach for family activities great su...</td>\n",
       "      <td>'Ehukai Beach Park</td>\n",
       "      <td>['Park', 'Public beach', 'Tourist attraction']</td>\n",
       "      <td>Popular surfing beach offering massive wintert...</td>\n",
       "      <td>1.1730942640485394e+20_1605375558437</td>\n",
       "    </tr>\n",
       "    <tr>\n",
       "      <th>1</th>\n",
       "      <td>848706</td>\n",
       "      <td>5</td>\n",
       "      <td>My favorite Beach for surfing on Oahu North Sh...</td>\n",
       "      <td>'Ehukai Beach Park</td>\n",
       "      <td>['Park', 'Public beach', 'Tourist attraction']</td>\n",
       "      <td>Popular surfing beach offering massive wintert...</td>\n",
       "      <td>1.1249899958787118e+20_1570685676722</td>\n",
       "    </tr>\n",
       "    <tr>\n",
       "      <th>2</th>\n",
       "      <td>848685</td>\n",
       "      <td>5</td>\n",
       "      <td>Usually a parking spot available and a nice sp...</td>\n",
       "      <td>'Ehukai Beach Park</td>\n",
       "      <td>['Park', 'Public beach', 'Tourist attraction']</td>\n",
       "      <td>Popular surfing beach offering massive wintert...</td>\n",
       "      <td>1.1677373083828122e+20_1618554513347</td>\n",
       "    </tr>\n",
       "    <tr>\n",
       "      <th>3</th>\n",
       "      <td>848711</td>\n",
       "      <td>5</td>\n",
       "      <td>Nice small beach. Great place to watch surfers</td>\n",
       "      <td>'Ehukai Beach Park</td>\n",
       "      <td>['Park', 'Public beach', 'Tourist attraction']</td>\n",
       "      <td>Popular surfing beach offering massive wintert...</td>\n",
       "      <td>1.0664503467931671e+20_1541146996259</td>\n",
       "    </tr>\n",
       "    <tr>\n",
       "      <th>4</th>\n",
       "      <td>848700</td>\n",
       "      <td>5</td>\n",
       "      <td>Awesome spot for surfing!</td>\n",
       "      <td>'Ehukai Beach Park</td>\n",
       "      <td>['Park', 'Public beach', 'Tourist attraction']</td>\n",
       "      <td>Popular surfing beach offering massive wintert...</td>\n",
       "      <td>1.1425088661032362e+20_1612418675718</td>\n",
       "    </tr>\n",
       "  </tbody>\n",
       "</table>\n",
       "</div>"
      ],
      "text/plain": [
       "   Unnamed: 0  rating                                               text  \\\n",
       "0      848694       5  Excellent beach for family activities great su...   \n",
       "1      848706       5  My favorite Beach for surfing on Oahu North Sh...   \n",
       "2      848685       5  Usually a parking spot available and a nice sp...   \n",
       "3      848711       5     Nice small beach. Great place to watch surfers   \n",
       "4      848700       5                          Awesome spot for surfing!   \n",
       "\n",
       "        business_name                               business_category  \\\n",
       "0  'Ehukai Beach Park  ['Park', 'Public beach', 'Tourist attraction']   \n",
       "1  'Ehukai Beach Park  ['Park', 'Public beach', 'Tourist attraction']   \n",
       "2  'Ehukai Beach Park  ['Park', 'Public beach', 'Tourist attraction']   \n",
       "3  'Ehukai Beach Park  ['Park', 'Public beach', 'Tourist attraction']   \n",
       "4  'Ehukai Beach Park  ['Park', 'Public beach', 'Tourist attraction']   \n",
       "\n",
       "                                business_description  \\\n",
       "0  Popular surfing beach offering massive wintert...   \n",
       "1  Popular surfing beach offering massive wintert...   \n",
       "2  Popular surfing beach offering massive wintert...   \n",
       "3  Popular surfing beach offering massive wintert...   \n",
       "4  Popular surfing beach offering massive wintert...   \n",
       "\n",
       "                                    _id  \n",
       "0  1.1730942640485394e+20_1605375558437  \n",
       "1  1.1249899958787118e+20_1570685676722  \n",
       "2  1.1677373083828122e+20_1618554513347  \n",
       "3  1.0664503467931671e+20_1541146996259  \n",
       "4  1.1425088661032362e+20_1612418675718  "
      ]
     },
     "execution_count": 25,
     "metadata": {},
     "output_type": "execute_result"
    }
   ],
   "source": [
    "import pandas as pd\n",
    "\n",
    "# load the dataset\n",
    "file_path = '../data_gpt_labeler/final_data_sampled (1).csv'\n",
    "df_sample = df.sample(n=5, random_state=42).copy()\n",
    "\n",
    "# display the first few rows of the dataframe\n",
    "df_sample.head()"
   ]
  },
  {
   "cell_type": "code",
   "execution_count": null,
   "id": "e3abf143-30f9-40da-ad63-63bc9d3a5dc0",
   "metadata": {},
   "outputs": [],
   "source": [
    "!pip install langdetect"
   ]
  },
  {
   "cell_type": "code",
   "execution_count": 2,
   "id": "8c22d932-55a4-4ecf-8e31-64b2b63d530a",
   "metadata": {},
   "outputs": [],
   "source": [
    "from textblob import TextBlob\n",
    "from langdetect import detect, LangDetectException\n",
    "from sentence_transformers import SentenceTransformer, util\n",
    "import numpy as np\n",
    "import matplotlib.pyplot as plt\n",
    "\n",
    "model = SentenceTransformer('all-MiniLM-L6-v2')"
   ]
  },
  {
   "cell_type": "code",
   "execution_count": 3,
   "id": "fd4dc089-80d4-4aa8-84d1-93d5573638e1",
   "metadata": {},
   "outputs": [
    {
     "name": "stderr",
     "output_type": "stream",
     "text": [
      "[nltk_data] Downloading package punkt_tab to /Users/evan/nltk_data...\n",
      "[nltk_data]   Package punkt_tab is already up-to-date!\n",
      "[nltk_data] Downloading package averaged_perceptron_tagger_eng to\n",
      "[nltk_data]     /Users/evan/nltk_data...\n",
      "[nltk_data]   Package averaged_perceptron_tagger_eng is already up-to-\n",
      "[nltk_data]       date!\n"
     ]
    },
    {
     "data": {
      "text/plain": [
       "True"
      ]
     },
     "execution_count": 3,
     "metadata": {},
     "output_type": "execute_result"
    }
   ],
   "source": [
    "import nltk\n",
    "nltk.download('punkt_tab')\n",
    "nltk.download('averaged_perceptron_tagger_eng')"
   ]
  },
  {
   "cell_type": "code",
   "execution_count": null,
   "id": "a9e4e2da-54b3-4b1c-a1b3-2d7e2e1b8e2e",
   "metadata": {},
   "outputs": [],
   "source": [
    "def calculate_interpretability_score(text):\n",
    "    if not isinstance(text, str) or not text.strip():\n",
    "        return 0.0\n",
    "\n",
    "    # language detection\n",
    "    try:\n",
    "        if detect(text) != 'en':\n",
    "            return 0.0\n",
    "    except LangDetectException:\n",
    "        return 0.0\n",
    "\n",
    "    # using TextBlob for sentence tokenization and POS tagging\n",
    "    try:\n",
    "        blob = TextBlob(text)\n",
    "    except Exception:\n",
    "        return 0.0\n",
    "\n",
    "    # coherence (sentence similarity)\n",
    "    sentences = [str(s) for s in blob.sentences]\n",
    "    if len(sentences) < 2:\n",
    "        if len(blob.words) < 3:\n",
    "            return 0.1\n",
    "        else:\n",
    "            return 0.5\n",
    "\n",
    "    embeddings = model.encode(sentences, convert_to_tensor=True)\n",
    "    cosine_scores = util.pytorch_cos_sim(embeddings, embeddings)\n",
    "\n",
    "    coherence_scores = []\n",
    "    for i in range(len(sentences) - 1):\n",
    "        coherence_scores.append(cosine_scores[i][i+1].item())\n",
    "\n",
    "    if not coherence_scores:\n",
    "        return 0.5\n",
    "\n",
    "    avg_coherence = np.mean(coherence_scores)\n",
    "    normalized_coherence = (avg_coherence + 1) / 2\n",
    "\n",
    "    # POS tagging for basic grammar check (as a penalty)\n",
    "    pos_tags = [tag for word, tag in blob.tags]\n",
    "    has_verb = any(tag.startswith('VB') for tag in pos_tags)\n",
    "    has_noun = any(tag.startswith('NN') for tag in pos_tags)\n",
    "    if not (has_verb and has_noun):\n",
    "        normalized_coherence *= 0.5\n",
    "\n",
    "    return normalized_coherence"
   ]
  },
  {
   "cell_type": "code",
   "execution_count": null,
   "id": "f8c8d1c8-1b8e-4b1e-9e8e-8d1b1e8d1b1e",
   "metadata": {},
   "outputs": [],
   "source": [
    "df_sample['interpretability_score'] = df_sample['text'].apply(calculate_interpretability_score)\n",
    "df_sample.head()"
   ]
  },
  {
   "cell_type": "code",
   "execution_count": null,
   "id": "c8d1c81b-8e8d-4b1e-9e8e-8d1b1e8d1b1e",
   "metadata": {},
   "outputs": [],
   "source": [
    "import matplotlib.pyplot as plt\n",
    "plt.figure(figsize=(10, 6))\n",
    "sns.histplot(df_sample['interpretability_score'], bins=20, kde=True)\n",
    "plt.title('Distribution of Interpretability Scores')\n",
    "plt.xlabel('Score')\n",
    "plt.ylabel('Frequency')\n",
    "plt.show()"
   ]
  }
 ],
 "metadata": {
  "kernelspec": {
   "display_name": "venv2",
   "language": "python",
   "name": "python3"
  },
  "language_info": {
   "codemirror_mode": {
    "name": "ipython",
    "version": 3
   },
   "file_extension": ".py",
   "mimetype": "text/x-python",
   "name": "python",
   "nbconvert_exporter": "python",
   "pygments_lexer": "ipython3",
   "version": "3.12.2"
  }
 },
 "nbformat": 4,
 "nbformat_minor": 5
}
